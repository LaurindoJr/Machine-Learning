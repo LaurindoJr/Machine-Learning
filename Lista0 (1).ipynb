{
  "cells": [
    {
      "cell_type": "markdown",
      "source": [
        ""
      ],
      "metadata": {
        "id": "FBdCmJzYjfQF"
      }
    },
    {
      "cell_type": "code",
      "source": [
        "from google.colab import drive\n",
        "drive.mount('/content/drive')"
      ],
      "metadata": {
        "colab": {
          "base_uri": "https://localhost:8080/"
        },
        "id": "lR95iD3TlTol",
        "outputId": "de4e6d6f-ce14-4d9d-d825-d2cb9b9eb1b0"
      },
      "execution_count": null,
      "outputs": [
        {
          "output_type": "stream",
          "name": "stdout",
          "text": [
            "Mounted at /content/drive\n"
          ]
        }
      ]
    },
    {
      "cell_type": "markdown",
      "source": [
        "# **Lista 0**"
      ],
      "metadata": {
        "id": "st-Owjp3jgYZ"
      }
    },
    {
      "cell_type": "markdown",
      "metadata": {
        "id": "cC-WOVEAEsph"
      },
      "source": [
        "### Computar a fórmula da normalização escore-Z\n",
        "\n",
        "Dado um conjunto de dados $\\boldsymbol{X} = [\\boldsymbol{x}_1, \\boldsymbol{x}_1, \\ldots, \\boldsymbol{x}_N]$, a normalização por escore-Z é dada por:\n",
        "$$\\tilde{\\boldsymbol{x_i}} = \\frac{\\boldsymbol{x_i} - \\boldsymbol{\\mu}}{\\boldsymbol{\\sigma}}$$\n",
        "\n",
        "Onde:\n",
        "$$\\begin{aligned}\n",
        "\\boldsymbol{\\mu} &= \\frac{1}{N}\\sum_i^N \\boldsymbol{x_i}\\\\\n",
        "\\boldsymbol{\\sigma} &= \\sqrt{\\frac{1}{N-1}\\sum_i^N (\\boldsymbol{x_i}-\\boldsymbol{\\mu})^2}\\\\\n",
        "\\end{aligned}$$\n",
        "\n",
        "A \"desnormalização\" pode ser feita por:\n",
        "$$\\boldsymbol{x_i} = \\boldsymbol{\\sigma}\\tilde{\\boldsymbol{x_i}} + \\boldsymbol{\\mu}$$\n",
        "\n",
        "Use a fórmula para normalizar o conjunto de dados `peixe` sem usar nenhum `for` ou `while`."
      ]
    },
    {
      "cell_type": "code",
      "execution_count": null,
      "metadata": {
        "tags": [],
        "id": "eSB-Fcf3wXPm"
      },
      "outputs": [],
      "source": [
        "import matplotlib.pyplot as plt\n",
        "import numpy as np\n",
        "dfp = np.genfromtxt('/content/drive/MyDrive/Data/peixes.txt', delimiter=',', skip_header=1)\n",
        "dfp\n"
      ]
    },
    {
      "cell_type": "markdown",
      "source": [
        "$$\\tilde{\\boldsymbol{x_i}} = \\frac{\\boldsymbol{x_i} - \\boldsymbol{\\mu}}{\\boldsymbol{\\sigma}}$$"
      ],
      "metadata": {
        "id": "wI4S2SsGjEc_"
      }
    },
    {
      "cell_type": "code",
      "source": [
        "# Z-score\n",
        "media = dfp.mean()\n",
        "desviop = dfp.std()\n",
        "escorez = (dfp-media)/(desviop)\n",
        "escorez"
      ],
      "metadata": {
        "id": "s662WOmjlzow"
      },
      "execution_count": null,
      "outputs": []
    },
    {
      "cell_type": "markdown",
      "source": [
        "$$\\boldsymbol{x_i} = \\boldsymbol{\\sigma}\\tilde{\\boldsymbol{x_i}} + \\boldsymbol{\\mu}$$"
      ],
      "metadata": {
        "id": "gNZS_KfOjOW3"
      }
    },
    {
      "cell_type": "code",
      "source": [
        "desnormalizar = desviop * escorez + media\n",
        "desnormalizar"
      ],
      "metadata": {
        "id": "XSateW4QEqRs"
      },
      "execution_count": null,
      "outputs": []
    },
    {
      "cell_type": "markdown",
      "metadata": {
        "id": "Pu3fCIhNwXPn"
      },
      "source": [
        "### Encontrar raízes de funções\n",
        "\n",
        "Dada uma função $f$, o seguinte procedimento (método de Newton-Raphson) consegue encontrar aproximar zeros desta função:\n",
        "\n",
        "1. Inicialize $\\tilde{x}_0$ com um chute inicial e escolha uma tolerância $\\epsilon$;\n",
        "2. Compute: $$\\tilde{x}_{t} = \\tilde{x}_{t-1} - \\frac{f(\\tilde{x}_{t-1})}{f'(\\tilde{x}_{t-1})}$$\n",
        "3. Repita o passo 2 até que $f(\\tilde{x}_t) \\leq \\epsilon$.\n",
        "\n",
        "Implemente esse procedimento para $f(x) = x^2 - 2$, teste seu resultado computando $\\tilde{x} \\cdot \\tilde{x}$."
      ]
    },
    {
      "cell_type": "code",
      "execution_count": null,
      "metadata": {
        "tags": [],
        "id": "A1w3TuXLwXPn",
        "colab": {
          "base_uri": "https://localhost:8080/"
        },
        "outputId": "ece6fc5f-96fd-45c2-ce45-2a78f9304e9a"
      },
      "outputs": [
        {
          "output_type": "stream",
          "name": "stdout",
          "text": [
            "newton_rapfhson: 1.5\n"
          ]
        }
      ],
      "source": [
        "# Escreva o código aqui\n",
        "\n",
        "F = lambda x: x**2 - 2\n",
        "F_linha = lambda x: 2*x\n",
        "chute = 1\n",
        "newton_rapfhson = chute-(F(chute))/F_linha(chute)\n",
        "print(\"newton_rapfhson:\",newton_rapfhson)\n"
      ]
    },
    {
      "cell_type": "markdown",
      "metadata": {
        "id": "k9__GxHHwXPo"
      },
      "source": [
        "# Regressão linear via mínimos quadrados ordinários (OLS)\n",
        "\n",
        "Como visto na aula de regressão linear, dado o seguinte problema:\n",
        "$$\\begin{aligned}\n",
        "\\hat{\\boldsymbol{y}} = \\boldsymbol{X}\\boldsymbol{w}\\\\\n",
        "\\text{Queremos encontrar:}\\\\\n",
        "\\hat{\\boldsymbol{w}} = \\arg\\min_{\\boldsymbol{w}} ||\\boldsymbol{y} - \\boldsymbol{X}\\boldsymbol{w}||^2\n",
        "\\end{aligned}$$\n",
        "\n",
        "Como visto, sabemos que:\n",
        "$$\\hat{\\boldsymbol{w}} = (\\boldsymbol{X}^{\\top}\\boldsymbol{X})^{-1} \\boldsymbol{X}^{\\top}\\boldsymbol{y}$$\n",
        "\n",
        "Obtenha um modelo linear para predizer o comprimento de um peixe a partir de sua idade e da temperatura da água. Para isso, encontre o $\\hat{\\boldsymbol{w}}$ pro dataset `peixe` onde:\n",
        "$$\\boldsymbol{X} = [\\mathbf{1}^{\\top} \\;,\\; \\mathtt{peixe\\underline{}dataset[:,[0,1]}]\\\\\n",
        "\\boldsymbol{y} = \\mathtt{peixe\\underline{}dataset[:,[2]]}$$\n",
        "\n",
        "Sem utilizar estrutura de repetição alguma, calcule a raíz do erro quadrático médio:\n",
        "$$\\mathrm{RMSE} = \\sqrt{\\frac{1}{n}\\sum_i^n (\\boldsymbol{y} - \\hat{\\boldsymbol{y}})^2}$$"
      ]
    },
    {
      "cell_type": "code",
      "execution_count": null,
      "metadata": {
        "tags": [],
        "id": "zbDCZkXTwXPo",
        "colab": {
          "base_uri": "https://localhost:8080/"
        },
        "outputId": "6c799fb7-e45b-47a2-c4a2-2507f1318082"
      },
      "outputs": [
        {
          "output_type": "execute_result",
          "data": {
            "text/plain": [
              "563.2853029844911"
            ]
          },
          "metadata": {},
          "execution_count": 14
        }
      ],
      "source": [
        "# Escreva o código aqui\n",
        "x = np.c_[np.ones((dfp.shape[0],1)),dfp[:,[0,-2]]]\n",
        "y = dfp[:,[2]]\n",
        "w = np.linalg.inv(x.T@x) @x.T@y\n",
        "yres = x @ w\n",
        "RMSE = np.sqrt(np.mean((y-yres)**2))\n",
        "RMSE"
      ]
    },
    {
      "cell_type": "markdown",
      "metadata": {
        "id": "aTHt_MKewXPp"
      },
      "source": [
        "# Regressão linear via gradiente descendente (GD)\n",
        "\n",
        "Sendo $\\alpha$ um passo de aprendizagem, $N$ o número de observações disponíveis e $t$ a iteração atual do algoritmo, os parâmetros $\\boldsymbol{w}$ podem ser atualizados via algoritmo GD:\n",
        "\n",
        "$$\\boldsymbol{w}(t) = \\boldsymbol{w}(t-1) + \\alpha \\frac{1}{N}\\sum_{i=1}^{N} e_i(t-1) \\boldsymbol{x}_i\\\\\n",
        "\\text{em que } e_i(t-1) = y_i - \\boldsymbol{w}^{\\top}(t-1)\\boldsymbol{x}_i$$\n",
        "\n",
        "Normalize os dados retirando a média e dividindo pelo desvio padrão (entrada e saída). Na predição, desfaça a normalização para computar o RMSE."
      ]
    },
    {
      "cell_type": "code",
      "execution_count": null,
      "metadata": {
        "id": "Jmp6JxoawXPp"
      },
      "outputs": [],
      "source": [
        "# Escreva o código aqui"
      ]
    },
    {
      "cell_type": "markdown",
      "metadata": {
        "id": "L4cppQ-7wXPp"
      },
      "source": [
        "# Regressão linear via gradiente descendente estocástico (SGD)\n",
        "\n",
        "Sendo $\\alpha$ um passo de aprendizagem, $N$ o número de observações disponíveis e $t$ a iteração atual do algoritmo, os parâmetros $\\boldsymbol{w}$ podem ser atualizados via algoritmo SGD:\n",
        "\n",
        "$$\\boldsymbol{w}(t) = \\boldsymbol{w}(t-1) + \\alpha e_i(t-1) \\boldsymbol{x}_i\\\\\n",
        "\\text{em que } e_i(t-1) = y_i - \\boldsymbol{w}^{\\top}(t-1)\\boldsymbol{x}_i$$\n",
        "\n",
        "Normalize os dados retirando a média e dividindo pelo desvio padrão (entrada e saída). Na predição, desfaça a normalização para computar o RMSE."
      ]
    },
    {
      "cell_type": "code",
      "execution_count": null,
      "metadata": {
        "id": "2nHa7EytwXPq"
      },
      "outputs": [],
      "source": [
        "# Escreva o código aqui"
      ]
    }
  ],
  "metadata": {
    "colab": {
      "collapsed_sections": [],
      "name": "Lista0.ipynb",
      "provenance": []
    },
    "kernelspec": {
      "display_name": "Python 3 (ipykernel)",
      "language": "python",
      "name": "python3"
    },
    "language_info": {
      "codemirror_mode": {
        "name": "ipython",
        "version": 3
      },
      "file_extension": ".py",
      "mimetype": "text/x-python",
      "name": "python",
      "nbconvert_exporter": "python",
      "pygments_lexer": "ipython3",
      "version": "3.7.7"
    },
    "varInspector": {
      "cols": {
        "lenName": 16,
        "lenType": 16,
        "lenVar": 40
      },
      "kernels_config": {
        "python": {
          "delete_cmd_postfix": "",
          "delete_cmd_prefix": "del ",
          "library": "var_list.py",
          "varRefreshCmd": "print(var_dic_list())"
        },
        "r": {
          "delete_cmd_postfix": ") ",
          "delete_cmd_prefix": "rm(",
          "library": "var_list.r",
          "varRefreshCmd": "cat(var_dic_list()) "
        }
      },
      "types_to_exclude": [
        "module",
        "function",
        "builtin_function_or_method",
        "instance",
        "_Feature"
      ],
      "window_display": false
    }
  },
  "nbformat": 4,
  "nbformat_minor": 0
}