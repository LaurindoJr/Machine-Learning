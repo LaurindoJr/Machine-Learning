{
  "cells": [
    {
      "cell_type": "markdown",
      "metadata": {
        "id": "i8moYMLk3mSL"
      },
      "source": [
        "# Introdução ao `numpy`"
      ]
    },
    {
      "cell_type": "code",
      "execution_count": null,
      "metadata": {
        "id": "KZTZcDGW20Y6"
      },
      "outputs": [],
      "source": [
        "import numpy as np\n",
        "import matplotlib.pyplot as plt  # Biblioteca para gerar gráficos"
      ]
    },
    {
      "cell_type": "markdown",
      "metadata": {
        "id": "jbLN6SejnwoL"
      },
      "source": [
        "Vamos criar umas matrizes e vetores para começar...\n",
        "\n",
        "$$\\begin{aligned}\n",
        "\\boldsymbol{A} &= \\begin{bmatrix}2 & 0\\\\ 4 & 6\\\\ 8 & 2\\end{bmatrix}\\ &\n",
        "\\boldsymbol{B} &= \\begin{bmatrix}1 & 3\\\\ 5 & 7\\end{bmatrix}\\\\\\\\\n",
        "\\boldsymbol{v}_1 &= \\begin{bmatrix}5 & 3\\end{bmatrix}\\ &\n",
        "\\boldsymbol{v}_2 &= \\begin{bmatrix}9 & 2 & 1\\end{bmatrix}\n",
        "\\end{aligned}$$"
      ]
    },
    {
      "cell_type": "code",
      "execution_count": null,
      "metadata": {
        "id": "JDS1cgwngp-B",
        "colab": {
          "base_uri": "https://localhost:8080/"
        },
        "outputId": "48b40992-7e93-4cbb-9964-ae1febbae580"
      },
      "outputs": [
        {
          "output_type": "stream",
          "name": "stdout",
          "text": [
            "Matriz A\n",
            "[[2 0]\n",
            " [4 6]\n",
            " [8 2]]\n",
            "Matriz B\n",
            "[[1 3]\n",
            " [5 7]]\n",
            "Vetor 1\n",
            "[5 3]\n",
            "Vetor 2\n",
            "[9 2 1]\n"
          ]
        }
      ],
      "source": [
        "A = np.array([[2,0],\n",
        "              [4,6],\n",
        "              [8,2]]) # Matriz A\n",
        "\n",
        "B = np.array([[1,3],\n",
        "              [5,7]]) # Matriz B\n",
        "\n",
        "v1 = np.array([5,3])  # Vetor 1\n",
        "\n",
        "v2 = np.array([9,2,1])# Vetor 2\n",
        "\n",
        "print(\"Matriz A\")\n",
        "print (A)\n",
        "\n",
        "print(\"Matriz B\")\n",
        "print (B)\n",
        "\n",
        "print(\"Vetor 1\")\n",
        "print (v1)\n",
        "\n",
        "print(\"Vetor 2\")\n",
        "print (v2)"
      ]
    },
    {
      "cell_type": "markdown",
      "source": [
        "**shape()** - mostra a forma do array, ajuda a encontrar as dimensões."
      ],
      "metadata": {
        "id": "TmdujDc5WnC0"
      }
    },
    {
      "cell_type": "code",
      "execution_count": null,
      "metadata": {
        "colab": {
          "base_uri": "https://localhost:8080/"
        },
        "id": "lCM_Bmf4hzlv",
        "outputId": "e821ea84-6f17-48d1-ac46-3715fcaa21c2"
      },
      "outputs": [
        {
          "output_type": "stream",
          "name": "stdout",
          "text": [
            "Dimensão de A: (3, 2)\n",
            "Dimensão de B: (2, 2)\n",
            "Dimensão de v1: (2,)\n",
            "Dimensão de v2: (2,)\n"
          ]
        }
      ],
      "source": [
        "print(\"Dimensão de A:\", A.shape)\n",
        "print(\"Dimensão de B:\", B.shape)\n",
        "print(\"Dimensão de v1:\", v1.shape)\n",
        "print(\"Dimensão de v2:\", v1.shape)"
      ]
    },
    {
      "cell_type": "markdown",
      "metadata": {
        "id": "2wI8-x_uwXPC"
      },
      "source": [
        "$$\\begin{aligned}\n",
        "\\boldsymbol{A} &= \\begin{bmatrix}2 & 0\\\\ 4 & 6\\\\ 8 & 2\\end{bmatrix}\\\\\n",
        "\\boldsymbol{A}^{\\top} &= \\begin{bmatrix}2 & 4 & 8\\\\ 0 & 6 & 2\\end{bmatrix}\n",
        "\\end{aligned}$$"
      ]
    },
    {
      "cell_type": "code",
      "execution_count": null,
      "metadata": {
        "id": "Ir6K4c-jwXPD",
        "outputId": "42174bcb-5b35-4008-a26f-c363fee2221e",
        "colab": {
          "base_uri": "https://localhost:8080/"
        }
      },
      "outputs": [
        {
          "output_type": "stream",
          "name": "stdout",
          "text": [
            "Matriz original:\n",
            "[[2 0]\n",
            " [4 6]\n",
            " [8 2]]\n",
            "Matriz transposta:\n",
            "[[2 4 8]\n",
            " [0 6 2]]\n"
          ]
        }
      ],
      "source": [
        "print(\"Matriz original:\")\n",
        "print(A)\n",
        "print(\"Matriz transposta:\")\n",
        "print(A.T)"
      ]
    },
    {
      "cell_type": "markdown",
      "metadata": {
        "id": "oe-tmI5o_kcT"
      },
      "source": [
        "$$\\begin{aligned}\n",
        "\\boldsymbol{A}[0] &= \\begin{bmatrix}2 & 0\\end{bmatrix}\\\\\n",
        "\\boldsymbol{A}[[0,2]] &= \\begin{bmatrix}2 & 0\\\\ 8 & 2\\end{bmatrix}\\\\\n",
        "\\end{aligned}$$"
      ]
    },
    {
      "cell_type": "code",
      "execution_count": null,
      "metadata": {
        "colab": {
          "base_uri": "https://localhost:8080/"
        },
        "id": "r-crrwNWw5Bo",
        "outputId": "f48928e1-565d-46f0-d7db-b0127f592c74"
      },
      "outputs": [
        {
          "output_type": "stream",
          "name": "stdout",
          "text": [
            "Primeira linha de A:\n",
            "[2 0] dimensão: (2,)\n",
            "Primeira e terceira linha de A:\n",
            "[[2 0]\n",
            " [8 2]] dimensão: (2, 2)\n",
            "Primeira linha de A (mantendo 2 dimensões):\n",
            "[[2 0]] dimensão: (1, 2)\n"
          ]
        }
      ],
      "source": [
        "print(\"Primeira linha de A:\")\n",
        "print(A[0], \"dimensão:\", A[0].shape) # Primeira linha de A\n",
        "print(\"Primeira e terceira linha de A:\")\n",
        "print(A[[0,2]], \"dimensão:\", A[[0,2]].shape) # Primeira e terceira linha de A\n",
        "print(\"Primeira linha de A (mantendo 2 dimensões):\")\n",
        "print(A[[0]], \"dimensão:\", A[[0]].shape) # Primeira linha de A (mantendo 2 dimensões)"
      ]
    },
    {
      "cell_type": "markdown",
      "metadata": {
        "id": "aPuiGsipo1DA"
      },
      "source": [
        "$$\\begin{aligned}\n",
        "\\boldsymbol{A}[:,0] &= \\begin{bmatrix}2 & 4 & 8\\end{bmatrix}\\\\\n",
        "\\boldsymbol{A}[:,[0]] &= \\begin{bmatrix}2 \\\\ 4 \\\\ 8\\end{bmatrix}\n",
        "\\end{aligned}$$"
      ]
    },
    {
      "cell_type": "code",
      "execution_count": null,
      "metadata": {
        "colab": {
          "base_uri": "https://localhost:8080/"
        },
        "id": "KKjo_gvZmYgm",
        "outputId": "920e2c24-518f-4305-8b62-1f3c373ef6d4"
      },
      "outputs": [
        {
          "output_type": "stream",
          "name": "stdout",
          "text": [
            "Primeira coluna do A:\n",
            "[2 4 8] dimensão: (3,)\n",
            "Primeira e segunda coluna do A:\n",
            "[[2 0]\n",
            " [4 6]\n",
            " [8 2]] dimensão: (3, 2)\n",
            "Primeira coluna do A (mantendo 2 dimensões):\n",
            "[[2]\n",
            " [4]\n",
            " [8]] dimensão: (3, 1)\n"
          ]
        }
      ],
      "source": [
        "print(\"Primeira coluna do A:\")\n",
        "print(A[:,0], \"dimensão:\", A[:,0].shape) # Primeira coluna do A\n",
        "print(\"Primeira e segunda coluna do A:\")\n",
        "print(A[:,[0,1]], \"dimensão:\", A[:,[0,1]].shape) # Primeira e segunda coluna do A\n",
        "print(\"Primeira coluna do A (mantendo 2 dimensões):\")\n",
        "print(A[:,[0]], \"dimensão:\", A[:,[0]].shape) # Primeira coluna do A (mantendo 2 dimensões)"
      ]
    },
    {
      "cell_type": "markdown",
      "metadata": {
        "id": "Su-X0OynwXPK"
      },
      "source": [
        "$$\\begin{aligned}\n",
        "\\left[\\begin{bmatrix}2 & 4 & 8\\end{bmatrix}; \\begin{bmatrix}1 & 2 & 3\\end{bmatrix}\\right] &= \\begin{bmatrix}2 & 4 & 8\\\\1 & 2 & 3\\end{bmatrix}\\\\\n",
        "\\left[\\begin{bmatrix}2 \\\\ 4 \\\\ 8\\end{bmatrix}, \\begin{bmatrix}1 \\\\ 2 \\\\ 3\\end{bmatrix}\\right] &= \\begin{bmatrix}2 & 1 \\\\ 4 & 2 \\\\ 8 & 3\\end{bmatrix}\n",
        "\\end{aligned}$$"
      ]
    },
    {
      "cell_type": "markdown",
      "source": [
        "**reshape()** - O conceito é muito simples. Vamos tomar a matriz e tentar remodelá-la. Lembre-se que a nova matriz (reformulada) tem de ser compatível com a matriz original. Por exemplo, matrizA tem a forma (4,4); são 16 elementos na matriz, então a nova matriz tem que ter esse número de elementos. Neste a matriz reformulado tem que ter os mesmos 16 elementos independentemente do numeros de colunas ou de linhas. Ex: MatrizA: 4x4 ---> Matriz Reformulada pode ser : 2x8, 8x2, 1x16..."
      ],
      "metadata": {
        "id": "l-a731mmbZ9R"
      }
    },
    {
      "cell_type": "markdown",
      "source": [
        "(-1) Significa simplesmente que é uma dimensão desconhecida e queremos que o numpy descubra. E o numpy descobrirá isso observando o 'comprimento da matriz e as dimensões restantes' e certificando-se de que satisfaça os critérios.\n",
        "Ex: a = np.array([5, 4, 8]\n",
        "                 [1, 2, 3])\n",
        "    a.shape (2,3)\n",
        "\n",
        "    remodelando com (-1) temos:\n",
        "    a.reshape (-1)\n",
        "    array([1,2,3,4,5,8]) ---> compativel com a forma original(2,3)"
      ],
      "metadata": {
        "id": "rhxvR5O9e0i4"
      }
    },
    {
      "cell_type": "markdown",
      "source": [
        "r_[] - Mescla Linhas - Concatena"
      ],
      "metadata": {
        "id": "jZNRtbRfhekW"
      }
    },
    {
      "cell_type": "code",
      "execution_count": null,
      "metadata": {
        "id": "GrW4u6eWwXPK",
        "outputId": "ac73988a-f709-486d-a2a7-e219d3a482a5",
        "colab": {
          "base_uri": "https://localhost:8080/"
        }
      },
      "outputs": [
        {
          "output_type": "stream",
          "name": "stdout",
          "text": [
            "[[2 4 8]] dimensão: (1, 3)\n",
            "[[1 2 3]] dimensão: (1, 3)\n",
            "[[2 4 8]\n",
            " [1 2 3]] dimensão: (2, 3)\n"
          ]
        }
      ],
      "source": [
        "a = np.array([2, 4, 8]).reshape((1,-1))\n",
        "b = np.array([1, 2, 3]).reshape((1,-1))\n",
        "ab = np.r_[a,b]\n",
        "\n",
        "print(a, \"dimensão:\", a.shape)\n",
        "print(b, \"dimensão:\", b.shape)\n",
        "print(ab, \"dimensão:\", ab.shape) # row stack"
      ]
    },
    {
      "cell_type": "code",
      "execution_count": null,
      "metadata": {
        "id": "yHbj2DFrwXPL",
        "outputId": "3f0b46fb-e9ab-48e3-a111-e1d819311c1c",
        "colab": {
          "base_uri": "https://localhost:8080/"
        }
      },
      "outputs": [
        {
          "output_type": "stream",
          "name": "stdout",
          "text": [
            "[[2]\n",
            " [4]\n",
            " [8]] dimensão: (3, 1)\n",
            "[[1]\n",
            " [2]\n",
            " [3]] dimensão: (3, 1)\n",
            "[[2 1]\n",
            " [4 2]\n",
            " [8 3]] dimensão: (3, 2)\n"
          ]
        }
      ],
      "source": [
        "c = np.array([2, 4, 8]).reshape((-1,1))\n",
        "d = np.array([1, 2, 3]).reshape((-1,1))\n",
        "cd = np.c_[c,d]\n",
        "\n",
        "print(c, \"dimensão:\", c.shape)\n",
        "print(d, \"dimensão:\", d.shape)\n",
        "print(cd, \"dimensão:\", cd.shape) # column stack"
      ]
    },
    {
      "cell_type": "markdown",
      "metadata": {
        "id": "fVB8eWYuA56y"
      },
      "source": [
        "## Matrizes notáveis\n",
        "\n",
        "$$\\begin{aligned}\n",
        "\\boldsymbol{I}_n = \\mathtt{np.eye(n)} &= \\begin{bmatrix}1 & 0 & \\ldots\\\\ 0 & 1 & \\ldots\\\\ \\vdots&\\vdots&\\vdots\\\\ 0 & \\ldots & 1\\end{bmatrix}&\n",
        "\\boldsymbol{0}_{n,m} = \\mathtt{np.zeros((n,m))} &= \\begin{bmatrix}0 & 0 & \\ldots\\\\ 0 & 0 & \\ldots\\\\ \\vdots&\\vdots&\\vdots\\\\ 0 & \\ldots & 0\\end{bmatrix}\\\\\n",
        "\\boldsymbol{1}_{n,m} = \\mathtt{np.ones((n,m))} &= \\begin{bmatrix}1 & 1 & \\ldots\\\\ 1 & 1 & \\ldots\\\\ \\vdots&\\vdots&\\vdots\\\\ 1 & \\ldots & 1\\end{bmatrix}\\\\\n",
        "\\end{aligned}$$"
      ]
    },
    {
      "cell_type": "code",
      "execution_count": null,
      "metadata": {
        "colab": {
          "base_uri": "https://localhost:8080/"
        },
        "id": "2KZ335xCB20E",
        "outputId": "c642c8d5-9eb7-4757-8c73-9b43d05bcf10"
      },
      "outputs": [
        {
          "output_type": "stream",
          "name": "stdout",
          "text": [
            "Matriz identidade de ordem 5:\n",
            "[[1. 0. 0. 0. 0.]\n",
            " [0. 1. 0. 0. 0.]\n",
            " [0. 0. 1. 0. 0.]\n",
            " [0. 0. 0. 1. 0.]\n",
            " [0. 0. 0. 0. 1.]]\n",
            "Matriz de zeros 5x3:\n",
            "[[0. 0. 0.]\n",
            " [0. 0. 0.]\n",
            " [0. 0. 0.]\n",
            " [0. 0. 0.]\n",
            " [0. 0. 0.]]\n",
            "Matriz de uns 3x1:\n",
            "[[1.]\n",
            " [1.]\n",
            " [1.]]\n"
          ]
        }
      ],
      "source": [
        "print(\"Matriz identidade de ordem 5:\")\n",
        "print(np.eye(5))\n",
        "print(\"Matriz de zeros 5x3:\")\n",
        "print(np.zeros((5,3)))\n",
        "print(\"Matriz de uns 3x1:\")\n",
        "print(np.ones((3,1)))"
      ]
    },
    {
      "cell_type": "markdown",
      "metadata": {
        "id": "T43TQ7wCwXPN"
      },
      "source": [
        "Além dessas matrizes notáveis, também podemos fazer matrizes aleatórias:\n",
        "\n",
        "`np.random.rand(n,m)` é uma matrix $n$ por $m$ onde $[\\mathtt{np.random.rand(n,m)}]_{ij} \\sim \\mathcal{U}(0,1)$.\n",
        "\n",
        "Ou seja, $[\\mathtt{np.random.rand(n,m)}]_{ij} \\in [0,1)$\n",
        "\n",
        "`np.random.randn(n,m)` é uma matrix $n$ por $m$ onde $[\\mathtt{np.random.randn(n,m)}]_{ij} \\sim \\mathcal{N}(0,1)$\n",
        "\n",
        "Ou seja, $[\\mathtt{np.random.randn(n,m)}]_{ij} \\in (-\\infty,+\\infty)$"
      ]
    },
    {
      "cell_type": "code",
      "execution_count": null,
      "metadata": {
        "id": "lrGdTxEUwXPP",
        "outputId": "27c8c5f9-e763-42d6-c585-cb40341c80c6",
        "colab": {
          "base_uri": "https://localhost:8080/"
        }
      },
      "outputs": [
        {
          "output_type": "stream",
          "name": "stdout",
          "text": [
            "Matriz 5x3 de números aleatórios amostrados de U(0,1):\n",
            "[[0.79568737 0.78509395 0.72057672]\n",
            " [0.50883488 0.31392266 0.0128344 ]\n",
            " [0.99466598 0.98294818 0.50975356]\n",
            " [0.15002207 0.53872309 0.01146569]\n",
            " [0.02205521 0.71496149 0.72549985]]\n",
            "Matriz 2x2 de números aleatórios amostrados de N(0,1):\n",
            "[[-0.44051846  1.2028409 ]\n",
            " [-0.15675663 -0.74684512]]\n"
          ]
        }
      ],
      "source": [
        "print(\"Matriz 5x3 de números aleatórios amostrados de U(0,1):\")\n",
        "print(np.random.rand(5,3))\n",
        "print(\"Matriz 2x2 de números aleatórios amostrados de N(0,1):\")\n",
        "print(np.random.randn(2,2))"
      ]
    },
    {
      "cell_type": "markdown",
      "metadata": {
        "id": "HpiBGmIjmmXO"
      },
      "source": [
        "## Operações lineares"
      ]
    },
    {
      "cell_type": "markdown",
      "metadata": {
        "id": "hF53unHnsP2W"
      },
      "source": [
        "Produto de escalares por matrizes:\n",
        "$$\\begin{aligned}\n",
        "5\\boldsymbol{A} &= \\begin{bmatrix}2\\cdot 5 & 0\\cdot 5\\\\ 4\\cdot 5 & 6\\cdot 5\\\\ 8\\cdot 5 & 2\\cdot 5\\end{bmatrix}\\\\[0.3em]\n",
        "&= \\begin{bmatrix}10 & 0\\\\ 20 & 30\\\\ 40 & 10\\end{bmatrix}\n",
        "\\end{aligned}$$"
      ]
    },
    {
      "cell_type": "code",
      "execution_count": null,
      "metadata": {
        "colab": {
          "base_uri": "https://localhost:8080/"
        },
        "id": "K1mE0VBilKIY",
        "outputId": "fef7304a-ee1d-457f-91a4-f900d43a5893"
      },
      "outputs": [
        {
          "output_type": "stream",
          "name": "stdout",
          "text": [
            "[[10  0]\n",
            " [20 30]\n",
            " [40 10]]\n"
          ]
        }
      ],
      "source": [
        "print(5 * A)"
      ]
    },
    {
      "cell_type": "markdown",
      "metadata": {
        "id": "MdEFzm9Bmvmc"
      },
      "source": [
        "Soma de matrizes:\n",
        "$$\\begin{aligned}\n",
        "\\boldsymbol{A}+\\boldsymbol{A} &= \\begin{bmatrix}2 & 0\\\\ 4 & 6\\\\ 8 & 2\\end{bmatrix}+\\begin{bmatrix}2 & 0\\\\ 4 & 6\\\\ 8 & 2\\end{bmatrix}\\\\[0.3em]\n",
        "&= \\begin{bmatrix}4 & 0\\\\ 8 & 12\\\\ 26 & 4\\end{bmatrix}\n",
        "\\end{aligned}$$"
      ]
    },
    {
      "cell_type": "code",
      "execution_count": null,
      "metadata": {
        "colab": {
          "base_uri": "https://localhost:8080/"
        },
        "id": "mgxWPeBfmtgF",
        "outputId": "c642cf9c-96e1-4e62-dcdd-4fd4caff9a38"
      },
      "outputs": [
        {
          "output_type": "stream",
          "name": "stdout",
          "text": [
            "[[ 4  0]\n",
            " [ 8 12]\n",
            " [16  4]]\n"
          ]
        }
      ],
      "source": [
        "print(A + A)"
      ]
    },
    {
      "cell_type": "markdown",
      "metadata": {
        "id": "Z6MOwqaNnH1S",
        "tags": []
      },
      "source": [
        "Produto com broadcast (difusão) de um vetor por uma matriz:\n",
        "$$\\begin{aligned}\n",
        "\\boldsymbol{v}_1 \\bullet \\boldsymbol{A} &= \\begin{bmatrix}5 & 3\\end{bmatrix}\\bullet\\begin{bmatrix}2 & 0\\\\ 4 & 6\\\\ 8 & 2\\end{bmatrix}\\\\[0.3em]\n",
        "&= \\begin{bmatrix}5\\cdot 2 & 3\\cdot 0\\\\ 5\\cdot 4 & 3\\cdot 6\\\\ 5\\cdot 8 & 3\\cdot 2\\end{bmatrix}\\\\\n",
        "&= \\begin{bmatrix}10 & 0\\\\ 20 & 18\\\\ 40 & 6\\end{bmatrix}\\\\\n",
        "\\end{aligned}$$"
      ]
    },
    {
      "cell_type": "code",
      "execution_count": null,
      "metadata": {
        "colab": {
          "base_uri": "https://localhost:8080/"
        },
        "id": "jAkvCHYfnCPF",
        "outputId": "5461c5b0-6cbf-4316-e96d-2202a462795d"
      },
      "outputs": [
        {
          "output_type": "stream",
          "name": "stdout",
          "text": [
            "[[10  0]\n",
            " [20 18]\n",
            " [40  6]]\n"
          ]
        }
      ],
      "source": [
        "print(v1 * A)"
      ]
    },
    {
      "cell_type": "markdown",
      "metadata": {
        "id": "qKXp3XlQk4Vc"
      },
      "source": [
        "Soma com broadcast (difusão) de um vetor por uma matriz:\n",
        "$$\\begin{aligned}\n",
        "\\boldsymbol{v}_1 \\oplus \\boldsymbol{A} &= \\begin{bmatrix}5 & 3\\end{bmatrix}\\oplus\\begin{bmatrix}2 & 0\\\\ 4 & 6\\\\ 8 & 2\\end{bmatrix}\\\\[0.3em]\n",
        "&= \\begin{bmatrix}5 & 3\\\\ 5 & 3\\\\ 5 & 3\\end{bmatrix}+\\begin{bmatrix}2 & 0\\\\ 4 & 6\\\\ 8 & 2\\end{bmatrix}\\\\\n",
        "&= \\begin{bmatrix}7 & 3\\\\ 9 & 9\\\\ 13 & 5\\end{bmatrix}\\\\\n",
        "\\end{aligned}$$"
      ]
    },
    {
      "cell_type": "code",
      "execution_count": null,
      "metadata": {
        "colab": {
          "base_uri": "https://localhost:8080/"
        },
        "id": "Kfr0uegMkws5",
        "outputId": "62dc73f5-17e5-431a-c4a5-04bd0fc50fa5"
      },
      "outputs": [
        {
          "output_type": "stream",
          "name": "stdout",
          "text": [
            "[[ 7  3]\n",
            " [ 9  9]\n",
            " [13  5]]\n"
          ]
        }
      ],
      "source": [
        "print(v1 + A)"
      ]
    },
    {
      "cell_type": "markdown",
      "metadata": {
        "id": "vHOakRxywXPV"
      },
      "source": [
        "Cuidado com as dimensões das variáveis:"
      ]
    },
    {
      "cell_type": "code",
      "execution_count": null,
      "metadata": {
        "colab": {
          "base_uri": "https://localhost:8080/"
        },
        "id": "kQ1gTxkteYEE",
        "outputId": "03642e6d-a1b0-4a8f-abb4-d9403c27011a"
      },
      "outputs": [
        {
          "output_type": "stream",
          "name": "stdout",
          "text": [
            "Vetor v2:\n",
            "[9 2 1] dimensão: (3,)\n",
            "Matriz A:\n",
            "[[2 0]\n",
            " [4 6]\n",
            " [8 2]] dimensão: (3, 2)\n",
            "operands could not be broadcast together with shapes (3,) (3,2) \n"
          ]
        }
      ],
      "source": [
        "print(\"Vetor v2:\")\n",
        "print(v2, \"dimensão:\", v2.shape)\n",
        "print(\"Matriz A:\")\n",
        "print(A, \"dimensão:\", A.shape)\n",
        "try:\n",
        "    v2 + A\n",
        "except Exception as e:\n",
        "    print(e)"
      ]
    },
    {
      "cell_type": "code",
      "execution_count": null,
      "metadata": {
        "colab": {
          "base_uri": "https://localhost:8080/"
        },
        "id": "X5BP2ZSClM5t",
        "outputId": "392c3380-4821-4dbc-a702-ebb83a8e1e82"
      },
      "outputs": [
        {
          "output_type": "stream",
          "name": "stdout",
          "text": [
            "Matriz A:\n",
            "[[2 0]\n",
            " [4 6]\n",
            " [8 2]] dimensão: (3, 2)\n",
            "Matriz B:\n",
            "[[1 3]\n",
            " [5 7]] dimensão: (2, 2)\n",
            "operands could not be broadcast together with shapes (3,2) (2,2) \n"
          ]
        }
      ],
      "source": [
        "print(\"Matriz A:\")\n",
        "print(A, \"dimensão:\", A.shape)\n",
        "print(\"Matriz B:\")\n",
        "print(B, \"dimensão:\", B.shape)\n",
        "try:\n",
        "    A + B\n",
        "except Exception as e:\n",
        "    print(e)"
      ]
    },
    {
      "cell_type": "markdown",
      "metadata": {
        "id": "eLU7HfeNwXPX"
      },
      "source": [
        "## Operações não-lineares"
      ]
    },
    {
      "cell_type": "markdown",
      "metadata": {
        "id": "ysKX5JSYwXPX"
      },
      "source": [
        "$$\\begin{aligned}\n",
        "\\boldsymbol{A} &= \\begin{bmatrix}2 & 0\\\\ 4 & 6\\\\ 8 & 2\\end{bmatrix}\\\\\n",
        "\\mathtt{A ** 2} &= \\begin{bmatrix}2^2 & 0^2\\\\ 4^2 & 6^2\\\\ 8^2 & 2^2\\end{bmatrix}\n",
        "\\end{aligned}$$"
      ]
    },
    {
      "cell_type": "code",
      "execution_count": null,
      "metadata": {
        "id": "98vxHsNVwXPX",
        "outputId": "5677ca04-8dfc-4766-cf29-54b9d51f8393",
        "colab": {
          "base_uri": "https://localhost:8080/"
        }
      },
      "outputs": [
        {
          "output_type": "stream",
          "name": "stdout",
          "text": [
            "[[ 4  0]\n",
            " [16 36]\n",
            " [64  4]]\n"
          ]
        }
      ],
      "source": [
        "print(A ** 2)"
      ]
    },
    {
      "cell_type": "markdown",
      "metadata": {
        "id": "a6ksyemgwXPY"
      },
      "source": [
        "$$\\begin{aligned}\n",
        "\\boldsymbol{A} &= \\begin{bmatrix}2 & 0\\\\ 4 & 6\\\\ 8 & 2\\end{bmatrix}\\\\\n",
        "\\mathtt{np.sqrt(A)} &= \\begin{bmatrix}\\sqrt{2} & \\sqrt{0}\\\\ \\sqrt{4} & \\sqrt{6}\\\\ \\sqrt{8} & \\sqrt{2}\\end{bmatrix}\\\\\n",
        "\\mathtt{A ** 0.5} &= \\begin{bmatrix}2^\\frac{1}{2} & 0^\\frac{1}{2}\\\\ 4^\\frac{1}{2} & 6^\\frac{1}{2}\\\\ 8^\\frac{1}{2} & 2^\\frac{1}{2}\\end{bmatrix}\n",
        "\\end{aligned}$$"
      ]
    },
    {
      "cell_type": "code",
      "execution_count": null,
      "metadata": {
        "id": "N4MBGGiVwXPY",
        "outputId": "b7ecf639-a999-443c-f3f0-06323c72d57d",
        "colab": {
          "base_uri": "https://localhost:8080/"
        }
      },
      "outputs": [
        {
          "output_type": "stream",
          "name": "stdout",
          "text": [
            "Raiz Quadrada da Matriz A\n",
            "[[1.41421356 0.        ]\n",
            " [2.         2.44948974]\n",
            " [2.82842712 1.41421356]]\n",
            "Matriz A elevada a potencia de 0.5 = Raiz Quadrada da Matriz A\n",
            "[[1.41421356 0.        ]\n",
            " [2.         2.44948974]\n",
            " [2.82842712 1.41421356]]\n"
          ]
        }
      ],
      "source": [
        "print(\"Raiz Quadrada da Matriz A\")\n",
        "print(np.sqrt(A))\n",
        "print(\"Matriz A elevada a potencia de 0.5 = Raiz Quadrada da Matriz A\")\n",
        "print(A ** 0.5)"
      ]
    },
    {
      "cell_type": "markdown",
      "metadata": {
        "id": "ngfRF-wUwXPY"
      },
      "source": [
        "## Operações de agregação"
      ]
    },
    {
      "cell_type": "markdown",
      "metadata": {
        "id": "FpnzPdQFwXPZ"
      },
      "source": [
        "$$\\begin{aligned}\n",
        "\\boldsymbol{A} &= \\begin{bmatrix}2 & 0\\\\ 4 & 6\\\\ 8 & 2\\end{bmatrix}\\\\\n",
        "\\mathtt{np.mean(A)} &= \\frac{2 + 0 + 4 + 6 + 8 + 2}{2\\cdot 3}\\\\\n",
        "\\mathtt{np.sum(A)} &= 2 + 0 + 4 + 6 + 8 + 2\\\\\n",
        "\\mathtt{np.prod(A)} &= 2 \\cdot 0 \\cdot 4 \\cdot 6 \\cdot 8 \\cdot 2\\\\\n",
        "\\end{aligned}$$"
      ]
    },
    {
      "cell_type": "markdown",
      "source": [
        "mean() - Média\n",
        "\n",
        "sum() - Soma\n",
        "\n",
        "prod() - Multiplicação"
      ],
      "metadata": {
        "id": "TZHLYGx5lLhe"
      }
    },
    {
      "cell_type": "code",
      "execution_count": null,
      "metadata": {
        "id": "7U8O4VbIwXPZ",
        "outputId": "401d644d-ce28-440c-eca2-71147c8e4f0c",
        "colab": {
          "base_uri": "https://localhost:8080/"
        }
      },
      "outputs": [
        {
          "output_type": "execute_result",
          "data": {
            "text/plain": [
              "(3.6666666666666665, 22, 0)"
            ]
          },
          "metadata": {},
          "execution_count": 26
        }
      ],
      "source": [
        "np.mean(A), np.sum(A), np.prod(A)"
      ]
    },
    {
      "cell_type": "code",
      "execution_count": null,
      "metadata": {
        "id": "lT2Zbi5pwXPa",
        "outputId": "1f53de12-df87-4ad9-960f-8a106cd7c267",
        "colab": {
          "base_uri": "https://localhost:8080/"
        }
      },
      "outputs": [
        {
          "output_type": "execute_result",
          "data": {
            "text/plain": [
              "(3.6666666666666665, 22, 0)"
            ]
          },
          "metadata": {},
          "execution_count": 27
        }
      ],
      "source": [
        "A.mean(), A.sum(), A.prod()"
      ]
    },
    {
      "cell_type": "markdown",
      "metadata": {
        "id": "XJX_hZ_vwXPb"
      },
      "source": [
        "$$\\begin{aligned}\n",
        "\\boldsymbol{A} &= \\begin{bmatrix}2 & 0\\\\ 4 & 6\\\\ 8 & 2\\end{bmatrix}\\\\\n",
        "\\mathtt{np.mean(A, axis=0)} &= \\frac{1}{3}\\begin{bmatrix}2 + 4 + 8 & 0 + 6 + 2\\end{bmatrix}\\\\\n",
        "\\mathtt{np.sum(A, axis=0)} &= \\begin{bmatrix}2 + 4 + 8 & 0 + 6 + 2\\end{bmatrix}\\\\\n",
        "\\mathtt{np.prod(A, axis=0)} &= \\begin{bmatrix}2 \\cdot 4 \\cdot 8 & 0 \\cdot 6 \\cdot 2\\end{bmatrix}\\\\\n",
        "\\end{aligned}$$"
      ]
    },
    {
      "cell_type": "markdown",
      "source": [
        "axis=0 >>> Linhas\n",
        "\n",
        "axis=1 >>> Colunas"
      ],
      "metadata": {
        "id": "Q5-_JY3umHnM"
      }
    },
    {
      "cell_type": "code",
      "execution_count": null,
      "metadata": {
        "id": "UIR37yfqwXPb",
        "outputId": "0210f1e2-162a-4ee0-9b6b-4810fb64add6",
        "colab": {
          "base_uri": "https://localhost:8080/"
        }
      },
      "outputs": [
        {
          "output_type": "execute_result",
          "data": {
            "text/plain": [
              "(array([4.66666667, 2.66666667]), array([14,  8]), array([64,  0]))"
            ]
          },
          "metadata": {},
          "execution_count": 28
        }
      ],
      "source": [
        "np.mean(A, axis=0), np.sum(A, axis=0), np.prod(A, axis=0)"
      ]
    },
    {
      "cell_type": "code",
      "execution_count": null,
      "metadata": {
        "id": "2HXbk_8JwXPc",
        "outputId": "cfe09ad6-59ea-4508-ac80-5b2786f595fa",
        "colab": {
          "base_uri": "https://localhost:8080/"
        }
      },
      "outputs": [
        {
          "output_type": "execute_result",
          "data": {
            "text/plain": [
              "(array([4.66666667, 2.66666667]), array([14,  8]), array([64,  0]))"
            ]
          },
          "metadata": {},
          "execution_count": 29
        }
      ],
      "source": [
        "A.mean(axis=0), A.sum(axis=0), A.prod(axis=0)"
      ]
    },
    {
      "cell_type": "markdown",
      "metadata": {
        "id": "jVXu_OTlwXPc"
      },
      "source": [
        "$$\\begin{aligned}\n",
        "\\boldsymbol{A} &= \\begin{bmatrix}2 & 0\\\\ 4 & 6\\\\ 8 & 2\\end{bmatrix}\\\\\n",
        "\\mathtt{np.mean(A, axis=1)} &= \\frac{1}{2}\\begin{bmatrix}2 + 0 & 4 + 6 & 8 + 2\\end{bmatrix}\\\\\n",
        "\\mathtt{np.sum(A, axis=1)} &= \\begin{bmatrix}2 + 0 & 4 + 6 & 8 + 2\\end{bmatrix}\\\\\n",
        "\\mathtt{np.prod(A, axis=1)} &= \\begin{bmatrix}2 \\cdot 0 & 4 \\cdot 6 & 8 \\cdot 2\\end{bmatrix}\\\\\n",
        "\\end{aligned}$$"
      ]
    },
    {
      "cell_type": "code",
      "execution_count": null,
      "metadata": {
        "id": "ev-M15ukwXPc",
        "outputId": "6e169dae-5584-4be5-aacc-9c7e520c3da3",
        "colab": {
          "base_uri": "https://localhost:8080/"
        }
      },
      "outputs": [
        {
          "output_type": "execute_result",
          "data": {
            "text/plain": [
              "(array([1., 5., 5.]), array([ 2, 10, 10]), array([ 0, 24, 16]))"
            ]
          },
          "metadata": {},
          "execution_count": 30
        }
      ],
      "source": [
        "np.mean(A, axis=1), np.sum(A, axis=1), np.prod(A, axis=1)"
      ]
    },
    {
      "cell_type": "code",
      "execution_count": null,
      "metadata": {
        "id": "YL0KBWMGwXPd",
        "outputId": "3fd44f36-818f-45de-e025-dee6587259cb",
        "colab": {
          "base_uri": "https://localhost:8080/"
        }
      },
      "outputs": [
        {
          "output_type": "execute_result",
          "data": {
            "text/plain": [
              "(array([1., 5., 5.]), array([ 2, 10, 10]), array([ 0, 24, 16]))"
            ]
          },
          "metadata": {},
          "execution_count": 31
        }
      ],
      "source": [
        "A.mean(axis=1), A.sum(axis=1), A.prod(axis=1)"
      ]
    },
    {
      "cell_type": "code",
      "execution_count": null,
      "metadata": {
        "id": "Wslm4d8IwXPe",
        "outputId": "4adda6d4-f80a-4a32-c59c-46267e672a8f",
        "colab": {
          "base_uri": "https://localhost:8080/"
        }
      },
      "outputs": [
        {
          "output_type": "execute_result",
          "data": {
            "text/plain": [
              "array([[4.66666667, 2.66666667]])"
            ]
          },
          "metadata": {},
          "execution_count": 32
        }
      ],
      "source": [
        "np.mean(A, axis=0, keepdims=True)"
      ]
    },
    {
      "cell_type": "code",
      "execution_count": null,
      "metadata": {
        "id": "95GkBVhSwXPf",
        "outputId": "17561e11-fe79-4826-80af-d83a145a4ce4",
        "colab": {
          "base_uri": "https://localhost:8080/"
        }
      },
      "outputs": [
        {
          "output_type": "execute_result",
          "data": {
            "text/plain": [
              "array([[4.66666667, 2.66666667]])"
            ]
          },
          "metadata": {},
          "execution_count": 33
        }
      ],
      "source": [
        "A.mean(axis=0, keepdims=True)"
      ]
    },
    {
      "cell_type": "code",
      "execution_count": null,
      "metadata": {
        "id": "7ZukhP8mwXPf",
        "outputId": "81311898-fefc-4fc2-83ef-39ad5098ce3d",
        "colab": {
          "base_uri": "https://localhost:8080/"
        }
      },
      "outputs": [
        {
          "output_type": "execute_result",
          "data": {
            "text/plain": [
              "array([[-2.66666667, -2.66666667],\n",
              "       [-0.66666667,  3.33333333],\n",
              "       [ 3.33333333, -0.66666667]])"
            ]
          },
          "metadata": {},
          "execution_count": 34
        }
      ],
      "source": [
        "A - A.mean(axis=0, keepdims=True)"
      ]
    },
    {
      "cell_type": "markdown",
      "metadata": {
        "id": "KfbeQa8DmjsG"
      },
      "source": [
        "## Multiplicação de Matrizes\n",
        "\n",
        "Para matrizes $\\boldsymbol{X} \\in \\mathbb{R}^{a\\times b}$ e $\\boldsymbol{Y} \\in \\mathbb{R}^{b\\times c}$, temos que\n",
        "$\\boldsymbol{XY} \\in \\mathbb{R}^{a\\times c}$. No Numpy, essa operação é representada por $\\texttt{X @ Y}$.\n",
        "\n",
        "A multiplicação é definida por:\n",
        "$$\\begin{aligned}\n",
        "(\\boldsymbol{XY})_{ij} = \\sum_k \\boldsymbol{X}_{ik}\\boldsymbol{Y}_{kj}\n",
        "\\end{aligned}$$"
      ]
    },
    {
      "cell_type": "code",
      "execution_count": null,
      "metadata": {
        "colab": {
          "base_uri": "https://localhost:8080/"
        },
        "id": "gmHrXwu8khmU",
        "outputId": "5770a5a1-10ca-4ac9-c06c-700bc83a9f01"
      },
      "outputs": [
        {
          "output_type": "stream",
          "name": "stdout",
          "text": [
            "[[ 2  6]\n",
            " [34 54]\n",
            " [18 38]]\n",
            "Dimensão de A @ B: (3, 2)\n"
          ]
        }
      ],
      "source": [
        "print(A @ B)\n",
        "print(\"Dimensão de A @ B:\", (A@B).shape)"
      ]
    },
    {
      "cell_type": "markdown",
      "metadata": {
        "id": "sqojvOqawXPg"
      },
      "source": [
        "Cuidado com as dimensões das matrizes:"
      ]
    },
    {
      "cell_type": "code",
      "execution_count": null,
      "metadata": {
        "colab": {
          "base_uri": "https://localhost:8080/"
        },
        "id": "4fXEq111mI3j",
        "outputId": "d332eeae-c9e3-4087-c9b1-e5fad1cd0605"
      },
      "outputs": [
        {
          "output_type": "stream",
          "name": "stdout",
          "text": [
            "matmul: Input operand 1 has a mismatch in its core dimension 0, with gufunc signature (n?,k),(k,m?)->(n?,m?) (size 3 is different from 2)\n"
          ]
        }
      ],
      "source": [
        "try:\n",
        "    B @ A\n",
        "except Exception as e:\n",
        "    print(e)"
      ]
    },
    {
      "cell_type": "code",
      "execution_count": null,
      "metadata": {
        "colab": {
          "base_uri": "https://localhost:8080/"
        },
        "id": "yoshGOOdkoJq",
        "outputId": "19b2e99c-8335-46e1-85f8-72d9f9c9025c"
      },
      "outputs": [
        {
          "output_type": "stream",
          "name": "stdout",
          "text": [
            "[ 28 332 204]\n",
            "[ 28 332 204]\n"
          ]
        }
      ],
      "source": [
        "print(A @ B @ v1)\n",
        "print((A @ B) @ v1)"
      ]
    },
    {
      "cell_type": "markdown",
      "metadata": {
        "id": "JZY4P3LcAZkL"
      },
      "source": [
        "### Inversão de matrizes\n",
        "Outra operação bastante comum é multiplicar uma matriz pela inversa dela...\n",
        "\n",
        "Seja $\\boldsymbol{B}$ uma matriz inversível, então $\\boldsymbol{B}^{-1} \\boldsymbol{B} = \\boldsymbol{I}$\n"
      ]
    },
    {
      "cell_type": "code",
      "execution_count": null,
      "metadata": {
        "colab": {
          "base_uri": "https://localhost:8080/"
        },
        "id": "8BBG4KNVDVi-",
        "outputId": "36c6663a-7a33-4e84-dbea-af4100d5db3b"
      },
      "outputs": [
        {
          "output_type": "stream",
          "name": "stdout",
          "text": [
            "[[1 3]\n",
            " [5 7]]\n"
          ]
        }
      ],
      "source": [
        "print(B)"
      ]
    },
    {
      "cell_type": "markdown",
      "source": [
        "**linalg.inv(a)**\n",
        "\n",
        "Calcula o inverso (multiplicativo) de uma matriz."
      ],
      "metadata": {
        "id": "oX9fyACzoXI5"
      }
    },
    {
      "cell_type": "code",
      "execution_count": null,
      "metadata": {
        "colab": {
          "base_uri": "https://localhost:8080/"
        },
        "outputId": "c392d61a-abf2-48bc-e61b-e7a14370bf06",
        "id": "GzX-ahyEwXPj"
      },
      "outputs": [
        {
          "output_type": "stream",
          "name": "stdout",
          "text": [
            "[[-0.875  0.375]\n",
            " [ 0.625 -0.125]]\n"
          ]
        }
      ],
      "source": [
        "B_inv = np.linalg.inv(B)\n",
        "print(B_inv)"
      ]
    },
    {
      "cell_type": "code",
      "execution_count": null,
      "metadata": {
        "colab": {
          "base_uri": "https://localhost:8080/"
        },
        "outputId": "304b90af-18f3-4c1e-d1c8-da1cdfb2f348",
        "id": "y8aX1doVwXPk"
      },
      "outputs": [
        {
          "output_type": "stream",
          "name": "stdout",
          "text": [
            "[[1. 0.]\n",
            " [0. 1.]]\n"
          ]
        }
      ],
      "source": [
        "print(B_inv @ B)"
      ]
    },
    {
      "cell_type": "markdown",
      "metadata": {
        "id": "YtbGpXCgwXPk"
      },
      "source": [
        "A inversa pode ser usada no produto com vetores:\n",
        "$\\boldsymbol{B}^{-1} \\boldsymbol{v}_1$"
      ]
    },
    {
      "cell_type": "code",
      "execution_count": null,
      "metadata": {
        "colab": {
          "base_uri": "https://localhost:8080/"
        },
        "id": "McWrAEwsEUz5",
        "outputId": "175056c7-654a-40f9-bec6-0998d9c6ea2e"
      },
      "outputs": [
        {
          "output_type": "stream",
          "name": "stdout",
          "text": [
            "[-3.25  2.75]\n"
          ]
        }
      ],
      "source": [
        "print(B_inv @ v1)"
      ]
    },
    {
      "cell_type": "markdown",
      "metadata": {
        "id": "rIK8beRdEZBQ"
      },
      "source": [
        "Porém, existe uma outra forma mais eficiente de computar a mesma coisa:\n",
        "\n",
        "Se $\\boldsymbol{B}^{-1} \\boldsymbol{v}_1 = \\boldsymbol{x}$, então $\\boldsymbol{B} \\boldsymbol{x} = \\boldsymbol{v}_1$.\n",
        "Ou seja, estamos resolvendo o sistema de equações lineares com coeficientes $\\boldsymbol{B}$ e resultado $\\boldsymbol{v}_1$"
      ]
    },
    {
      "cell_type": "markdown",
      "source": [
        "\n",
        "**linalg.solve(a, b)**\n",
        "\n",
        "Resolve uma equação matricial linear ou sistema de equações escalares lineares."
      ],
      "metadata": {
        "id": "XEfZBLWfo4UV"
      }
    },
    {
      "cell_type": "code",
      "execution_count": null,
      "metadata": {
        "colab": {
          "base_uri": "https://localhost:8080/"
        },
        "id": "ImCfS6qjEeQF",
        "outputId": "bb2df78f-bafd-48f0-e36c-ddb39dd971ac"
      },
      "outputs": [
        {
          "output_type": "stream",
          "name": "stdout",
          "text": [
            "[-3.25  2.75]\n"
          ]
        }
      ],
      "source": [
        "print(np.linalg.solve(B,v1))"
      ]
    },
    {
      "cell_type": "code",
      "source": [
        "from google.colab import drive\n",
        "drive.mount('/content/drive')"
      ],
      "metadata": {
        "colab": {
          "base_uri": "https://localhost:8080/"
        },
        "id": "mEymoeGrqLQj",
        "outputId": "9bea7770-9c10-4bb3-97a1-9d1f9d916a97"
      },
      "execution_count": null,
      "outputs": [
        {
          "output_type": "stream",
          "name": "stdout",
          "text": [
            "Mounted at /content/drive\n"
          ]
        }
      ]
    },
    {
      "cell_type": "markdown",
      "metadata": {
        "id": "n24XQHP9FRUi"
      },
      "source": [
        "## Leitura de arquivos com dados\n",
        "\n",
        "Normalmente os dados na disciplina serão recebidos no formato CSV. Isso significa que o dado é estruturado da seguinte maneira:\n",
        "```\n",
        "idade,pressão_sanguínea # Um cabeçalho opcional\n",
        "39,144 # Dados separados por vírgulas ou outro separador\n",
        "47,220\n",
        "....\n",
        "```"
      ]
    },
    {
      "cell_type": "code",
      "execution_count": null,
      "metadata": {
        "id": "QOUfDIt7GPCb"
      },
      "outputs": [],
      "source": [
        "peixe_dataset = np.genfromtxt('/content/drive/MyDrive/Data/peixes.txt', delimiter=',', skip_header=1)\n",
        "peixe_dataset"
      ]
    },
    {
      "cell_type": "markdown",
      "metadata": {
        "id": "dDlFNckOEiwA"
      },
      "source": [
        "## Exercícios"
      ]
    },
    {
      "cell_type": "markdown",
      "metadata": {
        "id": "cC-WOVEAEsph"
      },
      "source": [
        "### Computar a fórmula da normalização escore-Z\n",
        "\n",
        "Dado um conjunto de dados $\\boldsymbol{X} = [\\boldsymbol{x}_1, \\boldsymbol{x}_1, \\ldots, \\boldsymbol{x}_N]$, a normalização por escore-Z é dada por:\n",
        "$$\\tilde{\\boldsymbol{x_i}} = \\frac{\\boldsymbol{x_i} - \\boldsymbol{\\mu}}{\\boldsymbol{\\sigma}}$$\n",
        "\n",
        "Onde:\n",
        "$$\\begin{aligned}\n",
        "\\boldsymbol{\\mu} &= \\frac{1}{N}\\sum_i^N \\boldsymbol{x_i}\\\\\n",
        "\\boldsymbol{\\sigma} &= \\sqrt{\\frac{1}{N-1}\\sum_i^N (\\boldsymbol{x_i}-\\boldsymbol{\\mu})^2}\\\\\n",
        "\\end{aligned}$$\n",
        "\n",
        "A \"desnormalização\" pode ser feita por:\n",
        "$$\\boldsymbol{x_i} = \\boldsymbol{\\sigma}\\tilde{\\boldsymbol{x_i}} + \\boldsymbol{\\mu}$$\n",
        "\n",
        "Use a fórmula para normalizar o conjunto de dados `peixe` sem usar nenhum `for` ou `while`."
      ]
    },
    {
      "cell_type": "code",
      "execution_count": null,
      "metadata": {
        "tags": [],
        "id": "eSB-Fcf3wXPm"
      },
      "outputs": [],
      "source": [
        "# Escreva o código aqui 1\n",
        "dfp = np.genfromtxt('/content/drive/MyDrive/Data/peixes.txt', delimiter=',', skip_header=1)\n",
        "\n",
        "media = dfp.mean()\n",
        "desviop = dfp.std()\n",
        "escorez = (dfp-media)/(desviop)\n",
        "escorez\n"
      ]
    },
    {
      "cell_type": "code",
      "source": [
        "# Escreva o código aqui 2\n",
        "dfp = np.genfromtxt('/content/drive/MyDrive/Data/peixes.txt', delimiter=',', skip_header=1)\n",
        "\n",
        "dataz = (dfp - np.mean(dfp, axis=0)) / np.std(dfp, axis=0)\n",
        "dataz"
      ],
      "metadata": {
        "id": "yf59V0LYG8js"
      },
      "execution_count": null,
      "outputs": []
    },
    {
      "cell_type": "code",
      "source": [
        "desnormalizar = desviop * escorez + media\n",
        "desnormalizar"
      ],
      "metadata": {
        "id": "XSateW4QEqRs"
      },
      "execution_count": null,
      "outputs": []
    },
    {
      "cell_type": "code",
      "source": [
        "import matplotlib.pyplot as plt\n",
        "import seaborn as sns"
      ],
      "metadata": {
        "id": "e3XdB79YIpgq"
      },
      "execution_count": null,
      "outputs": []
    },
    {
      "cell_type": "code",
      "source": [
        "# load data from Seaborn\n",
        "penguins = sns.load_dataset(\"penguins\")\n",
        "# remove rows with missing values\n",
        "penguins = penguins.dropna()"
      ],
      "metadata": {
        "id": "wMDElyMLI8D1"
      },
      "execution_count": null,
      "outputs": []
    },
    {
      "cell_type": "code",
      "source": [
        "dfp = penguins.select_dtypes(float)\n",
        "dfp.head()"
      ],
      "metadata": {
        "colab": {
          "base_uri": "https://localhost:8080/",
          "height": 206
        },
        "id": "Fn9rnV9vJHcz",
        "outputId": "88c3266c-e171-41b0-fd5e-a69f02028d7d"
      },
      "execution_count": null,
      "outputs": [
        {
          "output_type": "execute_result",
          "data": {
            "text/plain": [
              "   bill_length_mm  bill_depth_mm  flipper_length_mm  body_mass_g\n",
              "0            39.1           18.7              181.0       3750.0\n",
              "1            39.5           17.4              186.0       3800.0\n",
              "2            40.3           18.0              195.0       3250.0\n",
              "4            36.7           19.3              193.0       3450.0\n",
              "5            39.3           20.6              190.0       3650.0"
            ],
            "text/html": [
              "\n",
              "  <div id=\"df-26d17409-0c79-4bff-93de-055204fa092e\">\n",
              "    <div class=\"colab-df-container\">\n",
              "      <div>\n",
              "<style scoped>\n",
              "    .dataframe tbody tr th:only-of-type {\n",
              "        vertical-align: middle;\n",
              "    }\n",
              "\n",
              "    .dataframe tbody tr th {\n",
              "        vertical-align: top;\n",
              "    }\n",
              "\n",
              "    .dataframe thead th {\n",
              "        text-align: right;\n",
              "    }\n",
              "</style>\n",
              "<table border=\"1\" class=\"dataframe\">\n",
              "  <thead>\n",
              "    <tr style=\"text-align: right;\">\n",
              "      <th></th>\n",
              "      <th>bill_length_mm</th>\n",
              "      <th>bill_depth_mm</th>\n",
              "      <th>flipper_length_mm</th>\n",
              "      <th>body_mass_g</th>\n",
              "    </tr>\n",
              "  </thead>\n",
              "  <tbody>\n",
              "    <tr>\n",
              "      <th>0</th>\n",
              "      <td>39.1</td>\n",
              "      <td>18.7</td>\n",
              "      <td>181.0</td>\n",
              "      <td>3750.0</td>\n",
              "    </tr>\n",
              "    <tr>\n",
              "      <th>1</th>\n",
              "      <td>39.5</td>\n",
              "      <td>17.4</td>\n",
              "      <td>186.0</td>\n",
              "      <td>3800.0</td>\n",
              "    </tr>\n",
              "    <tr>\n",
              "      <th>2</th>\n",
              "      <td>40.3</td>\n",
              "      <td>18.0</td>\n",
              "      <td>195.0</td>\n",
              "      <td>3250.0</td>\n",
              "    </tr>\n",
              "    <tr>\n",
              "      <th>4</th>\n",
              "      <td>36.7</td>\n",
              "      <td>19.3</td>\n",
              "      <td>193.0</td>\n",
              "      <td>3450.0</td>\n",
              "    </tr>\n",
              "    <tr>\n",
              "      <th>5</th>\n",
              "      <td>39.3</td>\n",
              "      <td>20.6</td>\n",
              "      <td>190.0</td>\n",
              "      <td>3650.0</td>\n",
              "    </tr>\n",
              "  </tbody>\n",
              "</table>\n",
              "</div>\n",
              "      <button class=\"colab-df-convert\" onclick=\"convertToInteractive('df-26d17409-0c79-4bff-93de-055204fa092e')\"\n",
              "              title=\"Convert this dataframe to an interactive table.\"\n",
              "              style=\"display:none;\">\n",
              "        \n",
              "  <svg xmlns=\"http://www.w3.org/2000/svg\" height=\"24px\"viewBox=\"0 0 24 24\"\n",
              "       width=\"24px\">\n",
              "    <path d=\"M0 0h24v24H0V0z\" fill=\"none\"/>\n",
              "    <path d=\"M18.56 5.44l.94 2.06.94-2.06 2.06-.94-2.06-.94-.94-2.06-.94 2.06-2.06.94zm-11 1L8.5 8.5l.94-2.06 2.06-.94-2.06-.94L8.5 2.5l-.94 2.06-2.06.94zm10 10l.94 2.06.94-2.06 2.06-.94-2.06-.94-.94-2.06-.94 2.06-2.06.94z\"/><path d=\"M17.41 7.96l-1.37-1.37c-.4-.4-.92-.59-1.43-.59-.52 0-1.04.2-1.43.59L10.3 9.45l-7.72 7.72c-.78.78-.78 2.05 0 2.83L4 21.41c.39.39.9.59 1.41.59.51 0 1.02-.2 1.41-.59l7.78-7.78 2.81-2.81c.8-.78.8-2.07 0-2.86zM5.41 20L4 18.59l7.72-7.72 1.47 1.35L5.41 20z\"/>\n",
              "  </svg>\n",
              "      </button>\n",
              "      \n",
              "  <style>\n",
              "    .colab-df-container {\n",
              "      display:flex;\n",
              "      flex-wrap:wrap;\n",
              "      gap: 12px;\n",
              "    }\n",
              "\n",
              "    .colab-df-convert {\n",
              "      background-color: #E8F0FE;\n",
              "      border: none;\n",
              "      border-radius: 50%;\n",
              "      cursor: pointer;\n",
              "      display: none;\n",
              "      fill: #1967D2;\n",
              "      height: 32px;\n",
              "      padding: 0 0 0 0;\n",
              "      width: 32px;\n",
              "    }\n",
              "\n",
              "    .colab-df-convert:hover {\n",
              "      background-color: #E2EBFA;\n",
              "      box-shadow: 0px 1px 2px rgba(60, 64, 67, 0.3), 0px 1px 3px 1px rgba(60, 64, 67, 0.15);\n",
              "      fill: #174EA6;\n",
              "    }\n",
              "\n",
              "    [theme=dark] .colab-df-convert {\n",
              "      background-color: #3B4455;\n",
              "      fill: #D2E3FC;\n",
              "    }\n",
              "\n",
              "    [theme=dark] .colab-df-convert:hover {\n",
              "      background-color: #434B5C;\n",
              "      box-shadow: 0px 1px 3px 1px rgba(0, 0, 0, 0.15);\n",
              "      filter: drop-shadow(0px 1px 2px rgba(0, 0, 0, 0.3));\n",
              "      fill: #FFFFFF;\n",
              "    }\n",
              "  </style>\n",
              "\n",
              "      <script>\n",
              "        const buttonEl =\n",
              "          document.querySelector('#df-26d17409-0c79-4bff-93de-055204fa092e button.colab-df-convert');\n",
              "        buttonEl.style.display =\n",
              "          google.colab.kernel.accessAllowed ? 'block' : 'none';\n",
              "\n",
              "        async function convertToInteractive(key) {\n",
              "          const element = document.querySelector('#df-26d17409-0c79-4bff-93de-055204fa092e');\n",
              "          const dataTable =\n",
              "            await google.colab.kernel.invokeFunction('convertToInteractive',\n",
              "                                                     [key], {});\n",
              "          if (!dataTable) return;\n",
              "\n",
              "          const docLinkHtml = 'Like what you see? Visit the ' +\n",
              "            '<a target=\"_blank\" href=https://colab.research.google.com/notebooks/data_table.ipynb>data table notebook</a>'\n",
              "            + ' to learn more about interactive tables.';\n",
              "          element.innerHTML = '';\n",
              "          dataTable['output_type'] = 'display_data';\n",
              "          await google.colab.output.renderOutput(dataTable, element);\n",
              "          const docLink = document.createElement('div');\n",
              "          docLink.innerHTML = docLinkHtml;\n",
              "          element.appendChild(docLink);\n",
              "        }\n",
              "      </script>\n",
              "    </div>\n",
              "  </div>\n",
              "  "
            ]
          },
          "metadata": {},
          "execution_count": 61
        }
      ]
    },
    {
      "cell_type": "code",
      "source": [
        "amostradfp = dfp.mean().reset_index(name=\"mean\")\n",
        "amostradfp"
      ],
      "metadata": {
        "colab": {
          "base_uri": "https://localhost:8080/",
          "height": 175
        },
        "id": "vw_wjFYLJ74r",
        "outputId": "cb52ef74-9a74-47c6-ab40-57f1c5a41f02"
      },
      "execution_count": null,
      "outputs": [
        {
          "output_type": "execute_result",
          "data": {
            "text/plain": [
              "               index         mean\n",
              "0     bill_length_mm    43.992793\n",
              "1      bill_depth_mm    17.164865\n",
              "2  flipper_length_mm   200.966967\n",
              "3        body_mass_g  4207.057057"
            ],
            "text/html": [
              "\n",
              "  <div id=\"df-8b38b55a-e03d-4953-b6d0-00f7aa32562f\">\n",
              "    <div class=\"colab-df-container\">\n",
              "      <div>\n",
              "<style scoped>\n",
              "    .dataframe tbody tr th:only-of-type {\n",
              "        vertical-align: middle;\n",
              "    }\n",
              "\n",
              "    .dataframe tbody tr th {\n",
              "        vertical-align: top;\n",
              "    }\n",
              "\n",
              "    .dataframe thead th {\n",
              "        text-align: right;\n",
              "    }\n",
              "</style>\n",
              "<table border=\"1\" class=\"dataframe\">\n",
              "  <thead>\n",
              "    <tr style=\"text-align: right;\">\n",
              "      <th></th>\n",
              "      <th>index</th>\n",
              "      <th>mean</th>\n",
              "    </tr>\n",
              "  </thead>\n",
              "  <tbody>\n",
              "    <tr>\n",
              "      <th>0</th>\n",
              "      <td>bill_length_mm</td>\n",
              "      <td>43.992793</td>\n",
              "    </tr>\n",
              "    <tr>\n",
              "      <th>1</th>\n",
              "      <td>bill_depth_mm</td>\n",
              "      <td>17.164865</td>\n",
              "    </tr>\n",
              "    <tr>\n",
              "      <th>2</th>\n",
              "      <td>flipper_length_mm</td>\n",
              "      <td>200.966967</td>\n",
              "    </tr>\n",
              "    <tr>\n",
              "      <th>3</th>\n",
              "      <td>body_mass_g</td>\n",
              "      <td>4207.057057</td>\n",
              "    </tr>\n",
              "  </tbody>\n",
              "</table>\n",
              "</div>\n",
              "      <button class=\"colab-df-convert\" onclick=\"convertToInteractive('df-8b38b55a-e03d-4953-b6d0-00f7aa32562f')\"\n",
              "              title=\"Convert this dataframe to an interactive table.\"\n",
              "              style=\"display:none;\">\n",
              "        \n",
              "  <svg xmlns=\"http://www.w3.org/2000/svg\" height=\"24px\"viewBox=\"0 0 24 24\"\n",
              "       width=\"24px\">\n",
              "    <path d=\"M0 0h24v24H0V0z\" fill=\"none\"/>\n",
              "    <path d=\"M18.56 5.44l.94 2.06.94-2.06 2.06-.94-2.06-.94-.94-2.06-.94 2.06-2.06.94zm-11 1L8.5 8.5l.94-2.06 2.06-.94-2.06-.94L8.5 2.5l-.94 2.06-2.06.94zm10 10l.94 2.06.94-2.06 2.06-.94-2.06-.94-.94-2.06-.94 2.06-2.06.94z\"/><path d=\"M17.41 7.96l-1.37-1.37c-.4-.4-.92-.59-1.43-.59-.52 0-1.04.2-1.43.59L10.3 9.45l-7.72 7.72c-.78.78-.78 2.05 0 2.83L4 21.41c.39.39.9.59 1.41.59.51 0 1.02-.2 1.41-.59l7.78-7.78 2.81-2.81c.8-.78.8-2.07 0-2.86zM5.41 20L4 18.59l7.72-7.72 1.47 1.35L5.41 20z\"/>\n",
              "  </svg>\n",
              "      </button>\n",
              "      \n",
              "  <style>\n",
              "    .colab-df-container {\n",
              "      display:flex;\n",
              "      flex-wrap:wrap;\n",
              "      gap: 12px;\n",
              "    }\n",
              "\n",
              "    .colab-df-convert {\n",
              "      background-color: #E8F0FE;\n",
              "      border: none;\n",
              "      border-radius: 50%;\n",
              "      cursor: pointer;\n",
              "      display: none;\n",
              "      fill: #1967D2;\n",
              "      height: 32px;\n",
              "      padding: 0 0 0 0;\n",
              "      width: 32px;\n",
              "    }\n",
              "\n",
              "    .colab-df-convert:hover {\n",
              "      background-color: #E2EBFA;\n",
              "      box-shadow: 0px 1px 2px rgba(60, 64, 67, 0.3), 0px 1px 3px 1px rgba(60, 64, 67, 0.15);\n",
              "      fill: #174EA6;\n",
              "    }\n",
              "\n",
              "    [theme=dark] .colab-df-convert {\n",
              "      background-color: #3B4455;\n",
              "      fill: #D2E3FC;\n",
              "    }\n",
              "\n",
              "    [theme=dark] .colab-df-convert:hover {\n",
              "      background-color: #434B5C;\n",
              "      box-shadow: 0px 1px 3px 1px rgba(0, 0, 0, 0.15);\n",
              "      filter: drop-shadow(0px 1px 2px rgba(0, 0, 0, 0.3));\n",
              "      fill: #FFFFFF;\n",
              "    }\n",
              "  </style>\n",
              "\n",
              "      <script>\n",
              "        const buttonEl =\n",
              "          document.querySelector('#df-8b38b55a-e03d-4953-b6d0-00f7aa32562f button.colab-df-convert');\n",
              "        buttonEl.style.display =\n",
              "          google.colab.kernel.accessAllowed ? 'block' : 'none';\n",
              "\n",
              "        async function convertToInteractive(key) {\n",
              "          const element = document.querySelector('#df-8b38b55a-e03d-4953-b6d0-00f7aa32562f');\n",
              "          const dataTable =\n",
              "            await google.colab.kernel.invokeFunction('convertToInteractive',\n",
              "                                                     [key], {});\n",
              "          if (!dataTable) return;\n",
              "\n",
              "          const docLinkHtml = 'Like what you see? Visit the ' +\n",
              "            '<a target=\"_blank\" href=https://colab.research.google.com/notebooks/data_table.ipynb>data table notebook</a>'\n",
              "            + ' to learn more about interactive tables.';\n",
              "          element.innerHTML = '';\n",
              "          dataTable['output_type'] = 'display_data';\n",
              "          await google.colab.output.renderOutput(dataTable, element);\n",
              "          const docLink = document.createElement('div');\n",
              "          docLink.innerHTML = docLinkHtml;\n",
              "          element.appendChild(docLink);\n",
              "        }\n",
              "      </script>\n",
              "    </div>\n",
              "  </div>\n",
              "  "
            ]
          },
          "metadata": {},
          "execution_count": 63
        }
      ]
    },
    {
      "cell_type": "code",
      "source": [
        "sns.kdeplot(dfp=escorez)"
      ],
      "metadata": {
        "id": "P_LmDLbVKk9U"
      },
      "execution_count": null,
      "outputs": []
    },
    {
      "cell_type": "markdown",
      "metadata": {
        "id": "Pu3fCIhNwXPn"
      },
      "source": [
        "### Encontrar raízes de funções\n",
        "\n",
        "Dada uma função $f$, o seguinte procedimento (método de Newton-Raphson) consegue encontrar aproximar zeros desta função:\n",
        "\n",
        "1. Inicialize $\\tilde{x}_0$ com um chute inicial e escolha uma tolerância $\\epsilon$;\n",
        "2. Compute: $$\\tilde{x}_{t} = \\tilde{x}_{t-1} - \\frac{f(\\tilde{x}_{t-1})}{f'(\\tilde{x}_{t-1})}$$\n",
        "3. Repita o passo 2 até que $f(\\tilde{x}_t) \\leq \\epsilon$.\n",
        "\n",
        "Implemente esse procedimento para $f(x) = x^2 - 2$, teste seu resultado computando $\\tilde{x} \\cdot \\tilde{x}$."
      ]
    },
    {
      "cell_type": "code",
      "execution_count": null,
      "metadata": {
        "tags": [],
        "id": "A1w3TuXLwXPn"
      },
      "outputs": [],
      "source": [
        "# Escreva o código aqui"
      ]
    },
    {
      "cell_type": "markdown",
      "metadata": {
        "id": "k9__GxHHwXPo"
      },
      "source": [
        "# Regressão linear via mínimos quadrados ordinários (OLS)\n",
        "\n",
        "Como visto na aula de regressão linear, dado o seguinte problema:\n",
        "$$\\begin{aligned}\n",
        "\\hat{\\boldsymbol{y}} = \\boldsymbol{X}\\boldsymbol{w}\\\\\n",
        "\\text{Queremos encontrar:}\\\\\n",
        "\\hat{\\boldsymbol{w}} = \\arg\\min_{\\boldsymbol{w}} ||\\boldsymbol{y} - \\boldsymbol{X}\\boldsymbol{w}||^2\n",
        "\\end{aligned}$$\n",
        "\n",
        "Como visto, sabemos que:\n",
        "$$\\hat{\\boldsymbol{w}} = (\\boldsymbol{X}^{\\top}\\boldsymbol{X})^{-1} \\boldsymbol{X}^{\\top}\\boldsymbol{y}$$\n",
        "\n",
        "Obtenha um modelo linear para predizer o comprimento de um peixe a partir de sua idade e da temperatura da água. Para isso, encontre o $\\hat{\\boldsymbol{w}}$ pro dataset `peixe` onde:\n",
        "$$\\boldsymbol{X} = [\\mathbf{1}^{\\top} \\;,\\; \\mathtt{peixe\\underline{}dataset[:,[0,1]}]\\\\\n",
        "\\boldsymbol{y} = \\mathtt{peixe\\underline{}dataset[:,[2]]}$$\n",
        "\n",
        "Sem utilizar estrutura de repetição alguma, calcule a raíz do erro quadrático médio:\n",
        "$$\\mathrm{RMSE} = \\sqrt{\\frac{1}{n}\\sum_i^n (\\boldsymbol{y} - \\hat{\\boldsymbol{y}})^2}$$"
      ]
    },
    {
      "cell_type": "code",
      "execution_count": null,
      "metadata": {
        "tags": [],
        "id": "zbDCZkXTwXPo"
      },
      "outputs": [],
      "source": [
        "# Escreva o código aqui"
      ]
    },
    {
      "cell_type": "markdown",
      "metadata": {
        "id": "aTHt_MKewXPp"
      },
      "source": [
        "# Regressão linear via gradiente descendente (GD)\n",
        "\n",
        "Sendo $\\alpha$ um passo de aprendizagem, $N$ o número de observações disponíveis e $t$ a iteração atual do algoritmo, os parâmetros $\\boldsymbol{w}$ podem ser atualizados via algoritmo GD:\n",
        "\n",
        "$$\\boldsymbol{w}(t) = \\boldsymbol{w}(t-1) + \\alpha \\frac{1}{N}\\sum_{i=1}^{N} e_i(t-1) \\boldsymbol{x}_i\\\\\n",
        "\\text{em que } e_i(t-1) = y_i - \\boldsymbol{w}^{\\top}(t-1)\\boldsymbol{x}_i$$\n",
        "\n",
        "Normalize os dados retirando a média e dividindo pelo desvio padrão (entrada e saída). Na predição, desfaça a normalização para computar o RMSE."
      ]
    },
    {
      "cell_type": "code",
      "execution_count": null,
      "metadata": {
        "id": "Jmp6JxoawXPp"
      },
      "outputs": [],
      "source": [
        "# Escreva o código aqui"
      ]
    },
    {
      "cell_type": "markdown",
      "metadata": {
        "id": "L4cppQ-7wXPp"
      },
      "source": [
        "# Regressão linear via gradiente descendente estocástico (SGD)\n",
        "\n",
        "Sendo $\\alpha$ um passo de aprendizagem, $N$ o número de observações disponíveis e $t$ a iteração atual do algoritmo, os parâmetros $\\boldsymbol{w}$ podem ser atualizados via algoritmo SGD:\n",
        "\n",
        "$$\\boldsymbol{w}(t) = \\boldsymbol{w}(t-1) + \\alpha e_i(t-1) \\boldsymbol{x}_i\\\\\n",
        "\\text{em que } e_i(t-1) = y_i - \\boldsymbol{w}^{\\top}(t-1)\\boldsymbol{x}_i$$\n",
        "\n",
        "Normalize os dados retirando a média e dividindo pelo desvio padrão (entrada e saída). Na predição, desfaça a normalização para computar o RMSE."
      ]
    },
    {
      "cell_type": "code",
      "execution_count": null,
      "metadata": {
        "id": "2nHa7EytwXPq"
      },
      "outputs": [],
      "source": [
        "# Escreva o código aqui"
      ]
    }
  ],
  "metadata": {
    "colab": {
      "collapsed_sections": [],
      "name": "Aula Numpy Alunos.ipynb",
      "provenance": []
    },
    "kernelspec": {
      "display_name": "Python 3 (ipykernel)",
      "language": "python",
      "name": "python3"
    },
    "language_info": {
      "codemirror_mode": {
        "name": "ipython",
        "version": 3
      },
      "file_extension": ".py",
      "mimetype": "text/x-python",
      "name": "python",
      "nbconvert_exporter": "python",
      "pygments_lexer": "ipython3",
      "version": "3.7.7"
    },
    "varInspector": {
      "cols": {
        "lenName": 16,
        "lenType": 16,
        "lenVar": 40
      },
      "kernels_config": {
        "python": {
          "delete_cmd_postfix": "",
          "delete_cmd_prefix": "del ",
          "library": "var_list.py",
          "varRefreshCmd": "print(var_dic_list())"
        },
        "r": {
          "delete_cmd_postfix": ") ",
          "delete_cmd_prefix": "rm(",
          "library": "var_list.r",
          "varRefreshCmd": "cat(var_dic_list()) "
        }
      },
      "types_to_exclude": [
        "module",
        "function",
        "builtin_function_or_method",
        "instance",
        "_Feature"
      ],
      "window_display": false
    }
  },
  "nbformat": 4,
  "nbformat_minor": 0
}