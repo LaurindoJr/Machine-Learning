{
  "nbformat": 4,
  "nbformat_minor": 0,
  "metadata": {
    "colab": {
      "name": "Q1Q2_ricewithbeansandsalad.ipynb",
      "provenance": [],
      "mount_file_id": "1LFCHfhFLj0xfr2__PGoAJg-feKYNC0ux",
      "authorship_tag": "ABX9TyNVEWD8Y4d1E+Dk97LhLMTR",
      "include_colab_link": true
    },
    "kernelspec": {
      "name": "python3",
      "display_name": "Python 3"
    },
    "language_info": {
      "name": "python"
    },
    "widgets": {
      "application/vnd.jupyter.widget-state+json": {
        "22fa8129c36b41e2a8b481f7f9021ec5": {
          "model_module": "@jupyter-widgets/controls",
          "model_name": "HBoxModel",
          "model_module_version": "1.5.0",
          "state": {
            "_dom_classes": [],
            "_model_module": "@jupyter-widgets/controls",
            "_model_module_version": "1.5.0",
            "_model_name": "HBoxModel",
            "_view_count": null,
            "_view_module": "@jupyter-widgets/controls",
            "_view_module_version": "1.5.0",
            "_view_name": "HBoxView",
            "box_style": "",
            "children": [
              "IPY_MODEL_aa36cf9558c2400ba415c2175f87d730",
              "IPY_MODEL_0ed3d59f9bc94eabb34690931707a8dc",
              "IPY_MODEL_e1ba4dce8b914e378491477a97bbc65e"
            ],
            "layout": "IPY_MODEL_b5dde2fb92ae4b8b9d5a259c1abe52e3"
          }
        },
        "aa36cf9558c2400ba415c2175f87d730": {
          "model_module": "@jupyter-widgets/controls",
          "model_name": "HTMLModel",
          "model_module_version": "1.5.0",
          "state": {
            "_dom_classes": [],
            "_model_module": "@jupyter-widgets/controls",
            "_model_module_version": "1.5.0",
            "_model_name": "HTMLModel",
            "_view_count": null,
            "_view_module": "@jupyter-widgets/controls",
            "_view_module_version": "1.5.0",
            "_view_name": "HTMLView",
            "description": "",
            "description_tooltip": null,
            "layout": "IPY_MODEL_ba20adf5daae4c9fa4330d09126355f9",
            "placeholder": "​",
            "style": "IPY_MODEL_d67476c6614746f485539d3eb0acd02f",
            "value": "RMSE: 0.4410277592896073 \n: 100%"
          }
        },
        "0ed3d59f9bc94eabb34690931707a8dc": {
          "model_module": "@jupyter-widgets/controls",
          "model_name": "FloatProgressModel",
          "model_module_version": "1.5.0",
          "state": {
            "_dom_classes": [],
            "_model_module": "@jupyter-widgets/controls",
            "_model_module_version": "1.5.0",
            "_model_name": "FloatProgressModel",
            "_view_count": null,
            "_view_module": "@jupyter-widgets/controls",
            "_view_module_version": "1.5.0",
            "_view_name": "ProgressView",
            "bar_style": "success",
            "description": "",
            "description_tooltip": null,
            "layout": "IPY_MODEL_7bfbc9c49b374cf1a3c2ec86eb19d64b",
            "max": 1000,
            "min": 0,
            "orientation": "horizontal",
            "style": "IPY_MODEL_0fb1dd15d546436688bb6d006ba658a1",
            "value": 1000
          }
        },
        "e1ba4dce8b914e378491477a97bbc65e": {
          "model_module": "@jupyter-widgets/controls",
          "model_name": "HTMLModel",
          "model_module_version": "1.5.0",
          "state": {
            "_dom_classes": [],
            "_model_module": "@jupyter-widgets/controls",
            "_model_module_version": "1.5.0",
            "_model_name": "HTMLModel",
            "_view_count": null,
            "_view_module": "@jupyter-widgets/controls",
            "_view_module_version": "1.5.0",
            "_view_name": "HTMLView",
            "description": "",
            "description_tooltip": null,
            "layout": "IPY_MODEL_380b9e14631c41f1b0a751fa0a0bd355",
            "placeholder": "​",
            "style": "IPY_MODEL_249ce4033bd2471cb9926b2ab9ac2958",
            "value": " 1000/1000 [00:00&lt;00:00, 1682.14it/s]"
          }
        },
        "b5dde2fb92ae4b8b9d5a259c1abe52e3": {
          "model_module": "@jupyter-widgets/base",
          "model_name": "LayoutModel",
          "model_module_version": "1.2.0",
          "state": {
            "_model_module": "@jupyter-widgets/base",
            "_model_module_version": "1.2.0",
            "_model_name": "LayoutModel",
            "_view_count": null,
            "_view_module": "@jupyter-widgets/base",
            "_view_module_version": "1.2.0",
            "_view_name": "LayoutView",
            "align_content": null,
            "align_items": null,
            "align_self": null,
            "border": null,
            "bottom": null,
            "display": null,
            "flex": null,
            "flex_flow": null,
            "grid_area": null,
            "grid_auto_columns": null,
            "grid_auto_flow": null,
            "grid_auto_rows": null,
            "grid_column": null,
            "grid_gap": null,
            "grid_row": null,
            "grid_template_areas": null,
            "grid_template_columns": null,
            "grid_template_rows": null,
            "height": null,
            "justify_content": null,
            "justify_items": null,
            "left": null,
            "margin": null,
            "max_height": null,
            "max_width": null,
            "min_height": null,
            "min_width": null,
            "object_fit": null,
            "object_position": null,
            "order": null,
            "overflow": null,
            "overflow_x": null,
            "overflow_y": null,
            "padding": null,
            "right": null,
            "top": null,
            "visibility": null,
            "width": null
          }
        },
        "ba20adf5daae4c9fa4330d09126355f9": {
          "model_module": "@jupyter-widgets/base",
          "model_name": "LayoutModel",
          "model_module_version": "1.2.0",
          "state": {
            "_model_module": "@jupyter-widgets/base",
            "_model_module_version": "1.2.0",
            "_model_name": "LayoutModel",
            "_view_count": null,
            "_view_module": "@jupyter-widgets/base",
            "_view_module_version": "1.2.0",
            "_view_name": "LayoutView",
            "align_content": null,
            "align_items": null,
            "align_self": null,
            "border": null,
            "bottom": null,
            "display": null,
            "flex": null,
            "flex_flow": null,
            "grid_area": null,
            "grid_auto_columns": null,
            "grid_auto_flow": null,
            "grid_auto_rows": null,
            "grid_column": null,
            "grid_gap": null,
            "grid_row": null,
            "grid_template_areas": null,
            "grid_template_columns": null,
            "grid_template_rows": null,
            "height": null,
            "justify_content": null,
            "justify_items": null,
            "left": null,
            "margin": null,
            "max_height": null,
            "max_width": null,
            "min_height": null,
            "min_width": null,
            "object_fit": null,
            "object_position": null,
            "order": null,
            "overflow": null,
            "overflow_x": null,
            "overflow_y": null,
            "padding": null,
            "right": null,
            "top": null,
            "visibility": null,
            "width": null
          }
        },
        "d67476c6614746f485539d3eb0acd02f": {
          "model_module": "@jupyter-widgets/controls",
          "model_name": "DescriptionStyleModel",
          "model_module_version": "1.5.0",
          "state": {
            "_model_module": "@jupyter-widgets/controls",
            "_model_module_version": "1.5.0",
            "_model_name": "DescriptionStyleModel",
            "_view_count": null,
            "_view_module": "@jupyter-widgets/base",
            "_view_module_version": "1.2.0",
            "_view_name": "StyleView",
            "description_width": ""
          }
        },
        "7bfbc9c49b374cf1a3c2ec86eb19d64b": {
          "model_module": "@jupyter-widgets/base",
          "model_name": "LayoutModel",
          "model_module_version": "1.2.0",
          "state": {
            "_model_module": "@jupyter-widgets/base",
            "_model_module_version": "1.2.0",
            "_model_name": "LayoutModel",
            "_view_count": null,
            "_view_module": "@jupyter-widgets/base",
            "_view_module_version": "1.2.0",
            "_view_name": "LayoutView",
            "align_content": null,
            "align_items": null,
            "align_self": null,
            "border": null,
            "bottom": null,
            "display": null,
            "flex": null,
            "flex_flow": null,
            "grid_area": null,
            "grid_auto_columns": null,
            "grid_auto_flow": null,
            "grid_auto_rows": null,
            "grid_column": null,
            "grid_gap": null,
            "grid_row": null,
            "grid_template_areas": null,
            "grid_template_columns": null,
            "grid_template_rows": null,
            "height": null,
            "justify_content": null,
            "justify_items": null,
            "left": null,
            "margin": null,
            "max_height": null,
            "max_width": null,
            "min_height": null,
            "min_width": null,
            "object_fit": null,
            "object_position": null,
            "order": null,
            "overflow": null,
            "overflow_x": null,
            "overflow_y": null,
            "padding": null,
            "right": null,
            "top": null,
            "visibility": null,
            "width": null
          }
        },
        "0fb1dd15d546436688bb6d006ba658a1": {
          "model_module": "@jupyter-widgets/controls",
          "model_name": "ProgressStyleModel",
          "model_module_version": "1.5.0",
          "state": {
            "_model_module": "@jupyter-widgets/controls",
            "_model_module_version": "1.5.0",
            "_model_name": "ProgressStyleModel",
            "_view_count": null,
            "_view_module": "@jupyter-widgets/base",
            "_view_module_version": "1.2.0",
            "_view_name": "StyleView",
            "bar_color": null,
            "description_width": ""
          }
        },
        "380b9e14631c41f1b0a751fa0a0bd355": {
          "model_module": "@jupyter-widgets/base",
          "model_name": "LayoutModel",
          "model_module_version": "1.2.0",
          "state": {
            "_model_module": "@jupyter-widgets/base",
            "_model_module_version": "1.2.0",
            "_model_name": "LayoutModel",
            "_view_count": null,
            "_view_module": "@jupyter-widgets/base",
            "_view_module_version": "1.2.0",
            "_view_name": "LayoutView",
            "align_content": null,
            "align_items": null,
            "align_self": null,
            "border": null,
            "bottom": null,
            "display": null,
            "flex": null,
            "flex_flow": null,
            "grid_area": null,
            "grid_auto_columns": null,
            "grid_auto_flow": null,
            "grid_auto_rows": null,
            "grid_column": null,
            "grid_gap": null,
            "grid_row": null,
            "grid_template_areas": null,
            "grid_template_columns": null,
            "grid_template_rows": null,
            "height": null,
            "justify_content": null,
            "justify_items": null,
            "left": null,
            "margin": null,
            "max_height": null,
            "max_width": null,
            "min_height": null,
            "min_width": null,
            "object_fit": null,
            "object_position": null,
            "order": null,
            "overflow": null,
            "overflow_x": null,
            "overflow_y": null,
            "padding": null,
            "right": null,
            "top": null,
            "visibility": null,
            "width": null
          }
        },
        "249ce4033bd2471cb9926b2ab9ac2958": {
          "model_module": "@jupyter-widgets/controls",
          "model_name": "DescriptionStyleModel",
          "model_module_version": "1.5.0",
          "state": {
            "_model_module": "@jupyter-widgets/controls",
            "_model_module_version": "1.5.0",
            "_model_name": "DescriptionStyleModel",
            "_view_count": null,
            "_view_module": "@jupyter-widgets/base",
            "_view_module_version": "1.2.0",
            "_view_name": "StyleView",
            "description_width": ""
          }
        },
        "ce817688310b4c0cbde5e5917c1cda0a": {
          "model_module": "@jupyter-widgets/controls",
          "model_name": "HBoxModel",
          "model_module_version": "1.5.0",
          "state": {
            "_dom_classes": [],
            "_model_module": "@jupyter-widgets/controls",
            "_model_module_version": "1.5.0",
            "_model_name": "HBoxModel",
            "_view_count": null,
            "_view_module": "@jupyter-widgets/controls",
            "_view_module_version": "1.5.0",
            "_view_name": "HBoxView",
            "box_style": "",
            "children": [
              "IPY_MODEL_b48f9ebe39274fcca1bf7f896eaaa5ab",
              "IPY_MODEL_0261c5bb7060479680d562d339ef27f6",
              "IPY_MODEL_d831433e424d4eff83d998fd36245c94"
            ],
            "layout": "IPY_MODEL_098d576725744a7f89fd1c5107d7d08a"
          }
        },
        "b48f9ebe39274fcca1bf7f896eaaa5ab": {
          "model_module": "@jupyter-widgets/controls",
          "model_name": "HTMLModel",
          "model_module_version": "1.5.0",
          "state": {
            "_dom_classes": [],
            "_model_module": "@jupyter-widgets/controls",
            "_model_module_version": "1.5.0",
            "_model_name": "HTMLModel",
            "_view_count": null,
            "_view_module": "@jupyter-widgets/controls",
            "_view_module_version": "1.5.0",
            "_view_name": "HTMLView",
            "description": "",
            "description_tooltip": null,
            "layout": "IPY_MODEL_a3d68935a67546169566684d1168443a",
            "placeholder": "​",
            "style": "IPY_MODEL_23a7a5c0bb6b459d99797c6413210d59",
            "value": "RMSE: 0.44106649804747006 \n: 100%"
          }
        },
        "0261c5bb7060479680d562d339ef27f6": {
          "model_module": "@jupyter-widgets/controls",
          "model_name": "FloatProgressModel",
          "model_module_version": "1.5.0",
          "state": {
            "_dom_classes": [],
            "_model_module": "@jupyter-widgets/controls",
            "_model_module_version": "1.5.0",
            "_model_name": "FloatProgressModel",
            "_view_count": null,
            "_view_module": "@jupyter-widgets/controls",
            "_view_module_version": "1.5.0",
            "_view_name": "ProgressView",
            "bar_style": "success",
            "description": "",
            "description_tooltip": null,
            "layout": "IPY_MODEL_75e65ecd56db49df989f7c4a6984328b",
            "max": 100,
            "min": 0,
            "orientation": "horizontal",
            "style": "IPY_MODEL_f836fec90598419d83bef49e57144a0f",
            "value": 100
          }
        },
        "d831433e424d4eff83d998fd36245c94": {
          "model_module": "@jupyter-widgets/controls",
          "model_name": "HTMLModel",
          "model_module_version": "1.5.0",
          "state": {
            "_dom_classes": [],
            "_model_module": "@jupyter-widgets/controls",
            "_model_module_version": "1.5.0",
            "_model_name": "HTMLModel",
            "_view_count": null,
            "_view_module": "@jupyter-widgets/controls",
            "_view_module_version": "1.5.0",
            "_view_name": "HTMLView",
            "description": "",
            "description_tooltip": null,
            "layout": "IPY_MODEL_8b9bd708104647a180cdf276083a9669",
            "placeholder": "​",
            "style": "IPY_MODEL_3bd2127f44a74c68b688dde86e8cca41",
            "value": " 100/100 [00:00&lt;00:00, 275.66it/s]"
          }
        },
        "098d576725744a7f89fd1c5107d7d08a": {
          "model_module": "@jupyter-widgets/base",
          "model_name": "LayoutModel",
          "model_module_version": "1.2.0",
          "state": {
            "_model_module": "@jupyter-widgets/base",
            "_model_module_version": "1.2.0",
            "_model_name": "LayoutModel",
            "_view_count": null,
            "_view_module": "@jupyter-widgets/base",
            "_view_module_version": "1.2.0",
            "_view_name": "LayoutView",
            "align_content": null,
            "align_items": null,
            "align_self": null,
            "border": null,
            "bottom": null,
            "display": null,
            "flex": null,
            "flex_flow": null,
            "grid_area": null,
            "grid_auto_columns": null,
            "grid_auto_flow": null,
            "grid_auto_rows": null,
            "grid_column": null,
            "grid_gap": null,
            "grid_row": null,
            "grid_template_areas": null,
            "grid_template_columns": null,
            "grid_template_rows": null,
            "height": null,
            "justify_content": null,
            "justify_items": null,
            "left": null,
            "margin": null,
            "max_height": null,
            "max_width": null,
            "min_height": null,
            "min_width": null,
            "object_fit": null,
            "object_position": null,
            "order": null,
            "overflow": null,
            "overflow_x": null,
            "overflow_y": null,
            "padding": null,
            "right": null,
            "top": null,
            "visibility": null,
            "width": null
          }
        },
        "a3d68935a67546169566684d1168443a": {
          "model_module": "@jupyter-widgets/base",
          "model_name": "LayoutModel",
          "model_module_version": "1.2.0",
          "state": {
            "_model_module": "@jupyter-widgets/base",
            "_model_module_version": "1.2.0",
            "_model_name": "LayoutModel",
            "_view_count": null,
            "_view_module": "@jupyter-widgets/base",
            "_view_module_version": "1.2.0",
            "_view_name": "LayoutView",
            "align_content": null,
            "align_items": null,
            "align_self": null,
            "border": null,
            "bottom": null,
            "display": null,
            "flex": null,
            "flex_flow": null,
            "grid_area": null,
            "grid_auto_columns": null,
            "grid_auto_flow": null,
            "grid_auto_rows": null,
            "grid_column": null,
            "grid_gap": null,
            "grid_row": null,
            "grid_template_areas": null,
            "grid_template_columns": null,
            "grid_template_rows": null,
            "height": null,
            "justify_content": null,
            "justify_items": null,
            "left": null,
            "margin": null,
            "max_height": null,
            "max_width": null,
            "min_height": null,
            "min_width": null,
            "object_fit": null,
            "object_position": null,
            "order": null,
            "overflow": null,
            "overflow_x": null,
            "overflow_y": null,
            "padding": null,
            "right": null,
            "top": null,
            "visibility": null,
            "width": null
          }
        },
        "23a7a5c0bb6b459d99797c6413210d59": {
          "model_module": "@jupyter-widgets/controls",
          "model_name": "DescriptionStyleModel",
          "model_module_version": "1.5.0",
          "state": {
            "_model_module": "@jupyter-widgets/controls",
            "_model_module_version": "1.5.0",
            "_model_name": "DescriptionStyleModel",
            "_view_count": null,
            "_view_module": "@jupyter-widgets/base",
            "_view_module_version": "1.2.0",
            "_view_name": "StyleView",
            "description_width": ""
          }
        },
        "75e65ecd56db49df989f7c4a6984328b": {
          "model_module": "@jupyter-widgets/base",
          "model_name": "LayoutModel",
          "model_module_version": "1.2.0",
          "state": {
            "_model_module": "@jupyter-widgets/base",
            "_model_module_version": "1.2.0",
            "_model_name": "LayoutModel",
            "_view_count": null,
            "_view_module": "@jupyter-widgets/base",
            "_view_module_version": "1.2.0",
            "_view_name": "LayoutView",
            "align_content": null,
            "align_items": null,
            "align_self": null,
            "border": null,
            "bottom": null,
            "display": null,
            "flex": null,
            "flex_flow": null,
            "grid_area": null,
            "grid_auto_columns": null,
            "grid_auto_flow": null,
            "grid_auto_rows": null,
            "grid_column": null,
            "grid_gap": null,
            "grid_row": null,
            "grid_template_areas": null,
            "grid_template_columns": null,
            "grid_template_rows": null,
            "height": null,
            "justify_content": null,
            "justify_items": null,
            "left": null,
            "margin": null,
            "max_height": null,
            "max_width": null,
            "min_height": null,
            "min_width": null,
            "object_fit": null,
            "object_position": null,
            "order": null,
            "overflow": null,
            "overflow_x": null,
            "overflow_y": null,
            "padding": null,
            "right": null,
            "top": null,
            "visibility": null,
            "width": null
          }
        },
        "f836fec90598419d83bef49e57144a0f": {
          "model_module": "@jupyter-widgets/controls",
          "model_name": "ProgressStyleModel",
          "model_module_version": "1.5.0",
          "state": {
            "_model_module": "@jupyter-widgets/controls",
            "_model_module_version": "1.5.0",
            "_model_name": "ProgressStyleModel",
            "_view_count": null,
            "_view_module": "@jupyter-widgets/base",
            "_view_module_version": "1.2.0",
            "_view_name": "StyleView",
            "bar_color": null,
            "description_width": ""
          }
        },
        "8b9bd708104647a180cdf276083a9669": {
          "model_module": "@jupyter-widgets/base",
          "model_name": "LayoutModel",
          "model_module_version": "1.2.0",
          "state": {
            "_model_module": "@jupyter-widgets/base",
            "_model_module_version": "1.2.0",
            "_model_name": "LayoutModel",
            "_view_count": null,
            "_view_module": "@jupyter-widgets/base",
            "_view_module_version": "1.2.0",
            "_view_name": "LayoutView",
            "align_content": null,
            "align_items": null,
            "align_self": null,
            "border": null,
            "bottom": null,
            "display": null,
            "flex": null,
            "flex_flow": null,
            "grid_area": null,
            "grid_auto_columns": null,
            "grid_auto_flow": null,
            "grid_auto_rows": null,
            "grid_column": null,
            "grid_gap": null,
            "grid_row": null,
            "grid_template_areas": null,
            "grid_template_columns": null,
            "grid_template_rows": null,
            "height": null,
            "justify_content": null,
            "justify_items": null,
            "left": null,
            "margin": null,
            "max_height": null,
            "max_width": null,
            "min_height": null,
            "min_width": null,
            "object_fit": null,
            "object_position": null,
            "order": null,
            "overflow": null,
            "overflow_x": null,
            "overflow_y": null,
            "padding": null,
            "right": null,
            "top": null,
            "visibility": null,
            "width": null
          }
        },
        "3bd2127f44a74c68b688dde86e8cca41": {
          "model_module": "@jupyter-widgets/controls",
          "model_name": "DescriptionStyleModel",
          "model_module_version": "1.5.0",
          "state": {
            "_model_module": "@jupyter-widgets/controls",
            "_model_module_version": "1.5.0",
            "_model_name": "DescriptionStyleModel",
            "_view_count": null,
            "_view_module": "@jupyter-widgets/base",
            "_view_module_version": "1.2.0",
            "_view_name": "StyleView",
            "description_width": ""
          }
        }
      }
    }
  },
  "cells": [
    {
      "cell_type": "markdown",
      "metadata": {
        "id": "view-in-github",
        "colab_type": "text"
      },
      "source": [
        "<a href=\"https://colab.research.google.com/github/LaurindoJr/Machine-Learning/blob/main/Q1Q2_ricewithbeansandsalad.ipynb\" target=\"_parent\"><img src=\"https://colab.research.google.com/assets/colab-badge.svg\" alt=\"Open In Colab\"/></a>"
      ]
    },
    {
      "cell_type": "code",
      "source": [
        "import pandas as pd\n",
        "import numpy as np\n",
        "from abc import ABC, abstractmethod\n",
        "from typing import Any\n",
        "from sklearn.model_selection import train_test_split\n",
        "from tqdm.notebook import trange\n",
        "import plotly.express as px\n",
        "import plotly.graph_objs as go"
      ],
      "metadata": {
        "id": "90iGiC_W3meL"
      },
      "execution_count": 1,
      "outputs": []
    },
    {
      "cell_type": "markdown",
      "source": [
        "## **Questao 1**"
      ],
      "metadata": {
        "id": "ofdMtJNQ9Dzt"
      }
    },
    {
      "cell_type": "code",
      "source": [
        "df = pd.read_csv('/content/drive/MyDrive/Data/artificial1d.csv', header=None, names=['x', 'y'])"
      ],
      "metadata": {
        "id": "u1-XBJb65Lbp"
      },
      "execution_count": 2,
      "outputs": []
    },
    {
      "cell_type": "code",
      "source": [
        "df.dtypes"
      ],
      "metadata": {
        "colab": {
          "base_uri": "https://localhost:8080/"
        },
        "id": "DwqrDVcB5Udt",
        "outputId": "ef3b6a64-3bee-4440-8ed5-d70dad454f58"
      },
      "execution_count": 3,
      "outputs": [
        {
          "output_type": "execute_result",
          "data": {
            "text/plain": [
              "x    float64\n",
              "y    float64\n",
              "dtype: object"
            ]
          },
          "metadata": {},
          "execution_count": 3
        }
      ]
    },
    {
      "cell_type": "markdown",
      "source": [
        "## **Preparando os Dados**"
      ],
      "metadata": {
        "id": "PUbh0J54gxq1"
      }
    },
    {
      "cell_type": "markdown",
      "source": [
        "![Z-score-formula.jpg](data:image/jpeg;base64,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)"
      ],
      "metadata": {
        "id": "ooo4N-kZenV8"
      }
    },
    {
      "cell_type": "code",
      "source": [
        "def z_score(df: np.ndarray): \n",
        "        mean = df.mean()\n",
        "        sd = df.std()\n",
        "        z = (df-mean)/sd \n",
        "        return z, lambda x: (sd*x) + mean"
      ],
      "metadata": {
        "id": "XLwMc-dg7OHj"
      },
      "execution_count": 4,
      "outputs": []
    },
    {
      "cell_type": "markdown",
      "source": [
        "![rmse.gif](data:image/gif;base64,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)"
      ],
      "metadata": {
        "id": "1z1bh1XgH50v"
      }
    },
    {
      "cell_type": "code",
      "source": [
        "def rmse(real_df: np.ndarray, predicted_df: np.ndarray) -> float:\n",
        "        diff = (real_df - predicted_df) ** 2\n",
        "        return np.sqrt(diff.mean())"
      ],
      "metadata": {
        "id": "Vtv-DTidDi4i"
      },
      "execution_count": 5,
      "outputs": []
    },
    {
      "cell_type": "code",
      "source": [
        "z_score(df)# Normalização de Zscore"
      ],
      "metadata": {
        "id": "oI7T8Y11-Klr",
        "colab": {
          "base_uri": "https://localhost:8080/"
        },
        "outputId": "c2f9474c-6808-40c0-e6b6-f3138b68b5b4"
      },
      "execution_count": 6,
      "outputs": [
        {
          "output_type": "execute_result",
          "data": {
            "text/plain": [
              "(           x         y\n",
              " 0  -1.647089 -2.017762\n",
              " 1  -1.533497 -1.309044\n",
              " 2  -1.419905 -1.101243\n",
              " 3  -1.306312 -0.883802\n",
              " 4  -1.192720 -0.331011\n",
              " 5  -1.079127 -0.468173\n",
              " 6  -0.965535 -0.809468\n",
              " 7  -0.851943 -0.895181\n",
              " 8  -0.738350 -0.908164\n",
              " 9  -0.624758 -0.872442\n",
              " 10 -0.511166 -0.897043\n",
              " 11 -0.397573 -1.223600\n",
              " 12 -0.283981 -0.738895\n",
              " 13 -0.170389 -0.487763\n",
              " 14 -0.056796  0.029363\n",
              " 15  0.056796  0.264092\n",
              " 16  0.170389  0.028028\n",
              " 17  0.283981  0.593774\n",
              " 18  0.397573  1.166647\n",
              " 19  0.511166  0.876850\n",
              " 20  0.624758  0.878171\n",
              " 21  0.738350  1.015138\n",
              " 22  0.851943  1.431060\n",
              " 23  0.965535  0.508255\n",
              " 24  1.079127  0.494481\n",
              " 25  1.192720  0.596410\n",
              " 26  1.306312  0.709345\n",
              " 27  1.419905  0.975117\n",
              " 28  1.533497  1.272194\n",
              " 29  1.647089  2.104667, <function __main__.z_score.<locals>.<lambda>>)"
            ]
          },
          "metadata": {},
          "execution_count": 6
        }
      ]
    },
    {
      "cell_type": "markdown",
      "source": [
        "## **Separando os dados**"
      ],
      "metadata": {
        "id": "fWuGW7aRgm0u"
      }
    },
    {
      "cell_type": "code",
      "source": [
        "normalized_x, cone = z_score(df['x'].to_numpy()) # Armazenando Dados"
      ],
      "metadata": {
        "id": "ER8M8zEU--w6"
      },
      "execution_count": 7,
      "outputs": []
    },
    {
      "cell_type": "code",
      "source": [
        "normalized_y, denormalized_y = z_score(df['y'].to_numpy())# Armazenando Dados"
      ],
      "metadata": {
        "id": "PJE-UmZU_mUn"
      },
      "execution_count": 8,
      "outputs": []
    },
    {
      "cell_type": "markdown",
      "source": [
        "![numpy-manipulation-column-stack-function-image.png](data:image/png;base64,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)"
      ],
      "metadata": {
        "id": "1oG4_hqksUOK"
      }
    },
    {
      "cell_type": "code",
      "source": [
        "def add_onescolumn(df: np.ndarray): #empilando o array\n",
        "         return np.column_stack([np.ones(df.shape[0]), df ])"
      ],
      "metadata": {
        "id": "hdaey90YoscT"
      },
      "execution_count": 9,
      "outputs": []
    },
    {
      "cell_type": "code",
      "source": [
        "X_ones = add_onescolumn(normalized_x)\n",
        "X_ones"
      ],
      "metadata": {
        "colab": {
          "base_uri": "https://localhost:8080/"
        },
        "id": "gqvk72VxAFRL",
        "outputId": "0a518066-91a2-403f-a731-d80929781938"
      },
      "execution_count": 10,
      "outputs": [
        {
          "output_type": "execute_result",
          "data": {
            "text/plain": [
              "array([[ 1.        , -1.67524673],\n",
              "       [ 1.        , -1.55971247],\n",
              "       [ 1.        , -1.44417822],\n",
              "       [ 1.        , -1.32864396],\n",
              "       [ 1.        , -1.2131097 ],\n",
              "       [ 1.        , -1.09757545],\n",
              "       [ 1.        , -0.98204119],\n",
              "       [ 1.        , -0.86650693],\n",
              "       [ 1.        , -0.75097267],\n",
              "       [ 1.        , -0.63543842],\n",
              "       [ 1.        , -0.51990416],\n",
              "       [ 1.        , -0.4043699 ],\n",
              "       [ 1.        , -0.28883564],\n",
              "       [ 1.        , -0.17330139],\n",
              "       [ 1.        , -0.05776713],\n",
              "       [ 1.        ,  0.05776713],\n",
              "       [ 1.        ,  0.17330139],\n",
              "       [ 1.        ,  0.28883564],\n",
              "       [ 1.        ,  0.4043699 ],\n",
              "       [ 1.        ,  0.51990416],\n",
              "       [ 1.        ,  0.63543842],\n",
              "       [ 1.        ,  0.75097267],\n",
              "       [ 1.        ,  0.86650693],\n",
              "       [ 1.        ,  0.98204119],\n",
              "       [ 1.        ,  1.09757545],\n",
              "       [ 1.        ,  1.2131097 ],\n",
              "       [ 1.        ,  1.32864396],\n",
              "       [ 1.        ,  1.44417822],\n",
              "       [ 1.        ,  1.55971247],\n",
              "       [ 1.        ,  1.67524673]])"
            ]
          },
          "metadata": {},
          "execution_count": 10
        }
      ]
    },
    {
      "cell_type": "code",
      "source": [
        "def reshape_vector(x: np.ndarray): #Remodela o Array sem alterar os dados compativel a forma original\n",
        "        return x.reshape([-1, 1])"
      ],
      "metadata": {
        "id": "AROBKVv2r20p"
      },
      "execution_count": 11,
      "outputs": []
    },
    {
      "cell_type": "code",
      "source": [
        "y = reshape_vector(normalized_y)\n",
        "y"
      ],
      "metadata": {
        "colab": {
          "base_uri": "https://localhost:8080/"
        },
        "id": "gQ1EDY1eAcKZ",
        "outputId": "58de482c-a1c4-48a9-ba87-ddd77878cded"
      },
      "execution_count": 12,
      "outputs": [
        {
          "output_type": "execute_result",
          "data": {
            "text/plain": [
              "array([[-2.05225665],\n",
              "       [-1.33142282],\n",
              "       [-1.12006895],\n",
              "       [-0.89891082],\n",
              "       [-0.33667005],\n",
              "       [-0.47617613],\n",
              "       [-0.82330647],\n",
              "       [-0.91048398],\n",
              "       [-0.92368912],\n",
              "       [-0.88735694],\n",
              "       [-0.91237789],\n",
              "       [-1.2445175 ],\n",
              "       [-0.75152664],\n",
              "       [-0.49610104],\n",
              "       [ 0.02986453],\n",
              "       [ 0.26860656],\n",
              "       [ 0.02850739],\n",
              "       [ 0.60392426],\n",
              "       [ 1.18659107],\n",
              "       [ 0.89184046],\n",
              "       [ 0.8931833 ],\n",
              "       [ 1.03249214],\n",
              "       [ 1.45552426],\n",
              "       [ 0.51694346],\n",
              "       [ 0.50293433],\n",
              "       [ 0.60660624],\n",
              "       [ 0.72147105],\n",
              "       [ 0.9917867 ],\n",
              "       [ 1.29394214],\n",
              "       [ 2.14064714]])"
            ]
          },
          "metadata": {},
          "execution_count": 12
        }
      ]
    },
    {
      "cell_type": "markdown",
      "source": [
        "## **Visualização**"
      ],
      "metadata": {
        "id": "CihuEaqIBEnQ"
      }
    },
    {
      "cell_type": "code",
      "source": [
        "def show_rmse_curve(history, title='RMSE Curve'):\n",
        "    rmse_values = [step['rmse_error'] for step in history]\n",
        "    steps = [i for i, _ in enumerate(history)]\n",
        "    fig = px.line(x=steps, y=rmse_values, labels={'x':'steps', 'y':'RMSE'}, title=title)\n",
        "    return fig\n",
        "\n",
        "def show_final_result(history, \n",
        "                      denormalized_function=denormalized_y,\n",
        "                      title='Model Result', \n",
        "                      x=df['x'],\n",
        "                      y=df['y'],\n",
        "                      test_matrix=X_ones):\n",
        "    \n",
        "    if isinstance(history, list):\n",
        "        final_model = history[-1]['model']\n",
        "    else:\n",
        "        final_model = history\n",
        "    \n",
        "    preds = denormalized_y(final_model.predict(test_matrix))\n",
        "    fig = px.scatter(x=x, y=y, title=title)\n",
        "    fig.add_trace(\n",
        "        go.Scatter(x=x, y=preds[:, 0])\n",
        "    )\n",
        "    \n",
        "    return fig"
      ],
      "metadata": {
        "id": "1gj3lwvfBCZI"
      },
      "execution_count": 13,
      "outputs": []
    },
    {
      "cell_type": "markdown",
      "source": [
        "## **Preparando Modelo de Regressao**"
      ],
      "metadata": {
        "id": "htJ8rFvM4pxJ"
      }
    },
    {
      "cell_type": "code",
      "source": [
        "class LinearModel:\n",
        "\n",
        "    w: np.ndarray #peso\n",
        "\n",
        "    def __init__(self, w: np.ndarray):\n",
        "        self.w = w.reshape([-1, 1])\n",
        "\n",
        "    @staticmethod\n",
        "    def first_model(lenght: int, fill_value: float) -> 'LinearModel':\n",
        "        w = np.full(shape=lenght,fill_value=fill_value).reshape([-1, 1])\n",
        "        return LinearModel(w)\n",
        "\n",
        "    def predict(self, x: np.ndarray):\n",
        "        return x @ self.w\n",
        "\n",
        "    def update(self, w: np.ndarray):\n",
        "        self.w = w.reshape([-1, 1])\n",
        "\n",
        "    def __copy__(self):\n",
        "        return LinearModel(self.w.reshape([-1, 1]))\n",
        "\n",
        "    def __str__(self):\n",
        "\n",
        "        return self.w.__str__()"
      ],
      "metadata": {
        "id": "HlRwiRGQVju7"
      },
      "execution_count": 14,
      "outputs": []
    },
    {
      "cell_type": "code",
      "source": [
        "class LinearAlgoritm(ABC):\n",
        "\n",
        "    initial_w_values: float\n",
        "    ephocs: int\n",
        "    alpha: float\n",
        "    with_history_predictions: bool\n",
        "    seed: int\n",
        "    l2_regulazation: float\n",
        "\n",
        "    def __init__(self, alpha=0.01, ephocs=100, initial_w_values=1, l2_regulazation=0, with_history_predictions=False, seed=1234):\n",
        "\n",
        "        self.l2_regulazation = l2_regulazation\n",
        "        self.seed = seed\n",
        "        self.with_history_predictions = with_history_predictions\n",
        "        self.initial_w_values = initial_w_values\n",
        "        self.ephocs = ephocs\n",
        "        self.alpha = alpha\n",
        "\n",
        "    @abstractmethod\n",
        "    def fit(self, dfx: np.ndarray, dfy: np.ndarray, **kwargs): pass"
      ],
      "metadata": {
        "id": "oAKaAI-7JCOH"
      },
      "execution_count": 15,
      "outputs": []
    },
    {
      "cell_type": "markdown",
      "source": [
        "## **OLS**"
      ],
      "metadata": {
        "id": "lniolOzRzW0k"
      }
    },
    {
      "cell_type": "markdown",
      "source": [
        "![ols.png](data:image/png;base64,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)"
      ],
      "metadata": {
        "id": "_3sw9sUugUob"
      }
    },
    {
      "cell_type": "code",
      "source": [
        "class OrdinaryLeastSquares(LinearAlgoritm):\n",
        "\n",
        "\tdef fit(self, dfx: np.ndarray, dfy: np.ndarray, **kwargs):\n",
        "\t\tl2_reg_matrix = np.eye(dfx.shape[1]) * self.l2_regulazation\n",
        "\t\tw = np.linalg.inv( (dfx.T @ dfx) + l2_reg_matrix ) @ dfx.T @ y\n",
        "\t\treturn LinearModel(w)"
      ],
      "metadata": {
        "id": "U5n2w6orbcxn"
      },
      "execution_count": 17,
      "outputs": []
    },
    {
      "cell_type": "code",
      "source": [
        "ols = OrdinaryLeastSquares(ephocs=1000, with_history_predictions=True)"
      ],
      "metadata": {
        "id": "B6mtYa7PbfCJ"
      },
      "execution_count": 18,
      "outputs": []
    },
    {
      "cell_type": "code",
      "source": [
        "model_ols = ols.fit(X_ones, y)"
      ],
      "metadata": {
        "id": "OSAIi1-rbmag"
      },
      "execution_count": 19,
      "outputs": []
    },
    {
      "cell_type": "code",
      "source": [
        "show_final_result(model_ols)"
      ],
      "metadata": {
        "colab": {
          "base_uri": "https://localhost:8080/",
          "height": 542
        },
        "id": "NSZtOqvaboDw",
        "outputId": "84cb86c9-b20f-4de4-d94e-9d5e999aa8b4"
      },
      "execution_count": 20,
      "outputs": [
        {
          "output_type": "display_data",
          "data": {
            "text/html": [
              "<html>\n",
              "<head><meta charset=\"utf-8\" /></head>\n",
              "<body>\n",
              "    <div>            <script src=\"https://cdnjs.cloudflare.com/ajax/libs/mathjax/2.7.5/MathJax.js?config=TeX-AMS-MML_SVG\"></script><script type=\"text/javascript\">if (window.MathJax) {MathJax.Hub.Config({SVG: {font: \"STIX-Web\"}});}</script>                <script type=\"text/javascript\">window.PlotlyConfig = {MathJaxConfig: 'local'};</script>\n",
              "        <script src=\"https://cdn.plot.ly/plotly-2.8.3.min.js\"></script>                <div id=\"dcd01cba-af7f-48f5-b977-a2a77774a285\" class=\"plotly-graph-div\" style=\"height:525px; width:100%;\"></div>            <script type=\"text/javascript\">                                    window.PLOTLYENV=window.PLOTLYENV || {};                                    if (document.getElementById(\"dcd01cba-af7f-48f5-b977-a2a77774a285\")) {                    Plotly.newPlot(                        \"dcd01cba-af7f-48f5-b977-a2a77774a285\",                        [{\"hovertemplate\":\"x=%{x}<br>y=%{y}<extra></extra>\",\"legendgroup\":\"\",\"marker\":{\"color\":\"#636efa\",\"symbol\":\"circle\"},\"mode\":\"markers\",\"name\":\"\",\"orientation\":\"v\",\"showlegend\":false,\"x\":[-1.0,-0.9310344827586207,-0.8620689655172413,-0.7931034482758622,-0.7241379310344828,-0.6551724137931033,-0.5862068965517242,-0.5172413793103449,-0.4482758620689655,-0.3793103448275862,-0.31034482758620685,-0.2413793103448276,-0.1724137931034483,-0.10344827586206896,-0.034482758620689724,0.034482758620689724,0.10344827586206896,0.17241379310344815,0.2413793103448276,0.31034482758620685,0.3793103448275863,0.4482758620689655,0.5172413793103448,0.5862068965517242,0.6551724137931033,0.7241379310344825,0.7931034482758622,0.8620689655172413,0.9310344827586204,1.0],\"xaxis\":\"x\",\"y\":[-2.082017257233804,-1.3269802313838444,-1.1055977240262973,-0.8739457591687142,-0.28502695034535014,-0.43115252423091927,-0.7947540211451277,-0.8860680579535984,-0.8998997770490548,-0.86184365356424,-0.8880518330525755,-1.235951293792927,-0.7195682680177883,-0.45202285990396573,0.09889950915124585,0.34896972600016185,0.09747797375894944,0.7001980872761617,1.310512133875448,1.001775757402062,1.0031823117371639,1.1491012926538826,1.59220607240579,0.6090900916227516,0.5944162302173639,0.7030073199805744,0.8233224106817185,1.1064643946450328,1.42295695455042,2.309837684059688],\"yaxis\":\"y\",\"type\":\"scatter\"},{\"x\":[-1.0,-0.9310344827586207,-0.8620689655172413,-0.7931034482758622,-0.7241379310344828,-0.6551724137931033,-0.5862068965517242,-0.5172413793103449,-0.4482758620689655,-0.3793103448275862,-0.31034482758620685,-0.2413793103448276,-0.1724137931034483,-0.10344827586206896,-0.034482758620689724,0.034482758620689724,0.10344827586206896,0.17241379310344815,0.2413793103448276,0.31034482758620685,0.3793103448275863,0.4482758620689655,0.5172413793103448,0.5862068965517242,0.6551724137931033,0.7241379310344825,0.7931034482758622,0.8620689655172413,0.9310344827586204,1.0],\"y\":[-1.507247244398491,-1.3986358534304335,-1.2900244624623762,-1.1814130714943192,-1.0728016805262617,-0.9641902895582043,-0.8555788985901471,-0.7469675076220897,-0.6383561166540324,-0.5297447256859749,-0.4211333347179176,-0.3125219437498604,-0.2039105527818031,-0.09529916181374572,0.01331222915431151,0.12192362012236906,0.2305350110904263,0.3391464020584834,0.44775779302654095,0.5563691839945982,0.6649805749626558,0.7735919659307131,0.88220335689877,0.9908147478668277,1.099426138834885,1.208037529802942,1.316648920771,1.425260311739057,1.5338717027071138,1.6424830936751718],\"type\":\"scatter\"}],                        {\"template\":{\"data\":{\"bar\":[{\"error_x\":{\"color\":\"#2a3f5f\"},\"error_y\":{\"color\":\"#2a3f5f\"},\"marker\":{\"line\":{\"color\":\"#E5ECF6\",\"width\":0.5},\"pattern\":{\"fillmode\":\"overlay\",\"size\":10,\"solidity\":0.2}},\"type\":\"bar\"}],\"barpolar\":[{\"marker\":{\"line\":{\"color\":\"#E5ECF6\",\"width\":0.5},\"pattern\":{\"fillmode\":\"overlay\",\"size\":10,\"solidity\":0.2}},\"type\":\"barpolar\"}],\"carpet\":[{\"aaxis\":{\"endlinecolor\":\"#2a3f5f\",\"gridcolor\":\"white\",\"linecolor\":\"white\",\"minorgridcolor\":\"white\",\"startlinecolor\":\"#2a3f5f\"},\"baxis\":{\"endlinecolor\":\"#2a3f5f\",\"gridcolor\":\"white\",\"linecolor\":\"white\",\"minorgridcolor\":\"white\",\"startlinecolor\":\"#2a3f5f\"},\"type\":\"carpet\"}],\"choropleth\":[{\"colorbar\":{\"outlinewidth\":0,\"ticks\":\"\"},\"type\":\"choropleth\"}],\"contour\":[{\"colorbar\":{\"outlinewidth\":0,\"ticks\":\"\"},\"colorscale\":[[0.0,\"#0d0887\"],[0.1111111111111111,\"#46039f\"],[0.2222222222222222,\"#7201a8\"],[0.3333333333333333,\"#9c179e\"],[0.4444444444444444,\"#bd3786\"],[0.5555555555555556,\"#d8576b\"],[0.6666666666666666,\"#ed7953\"],[0.7777777777777778,\"#fb9f3a\"],[0.8888888888888888,\"#fdca26\"],[1.0,\"#f0f921\"]],\"type\":\"contour\"}],\"contourcarpet\":[{\"colorbar\":{\"outlinewidth\":0,\"ticks\":\"\"},\"type\":\"contourcarpet\"}],\"heatmap\":[{\"colorbar\":{\"outlinewidth\":0,\"ticks\":\"\"},\"colorscale\":[[0.0,\"#0d0887\"],[0.1111111111111111,\"#46039f\"],[0.2222222222222222,\"#7201a8\"],[0.3333333333333333,\"#9c179e\"],[0.4444444444444444,\"#bd3786\"],[0.5555555555555556,\"#d8576b\"],[0.6666666666666666,\"#ed7953\"],[0.7777777777777778,\"#fb9f3a\"],[0.8888888888888888,\"#fdca26\"],[1.0,\"#f0f921\"]],\"type\":\"heatmap\"}],\"heatmapgl\":[{\"colorbar\":{\"outlinewidth\":0,\"ticks\":\"\"},\"colorscale\":[[0.0,\"#0d0887\"],[0.1111111111111111,\"#46039f\"],[0.2222222222222222,\"#7201a8\"],[0.3333333333333333,\"#9c179e\"],[0.4444444444444444,\"#bd3786\"],[0.5555555555555556,\"#d8576b\"],[0.6666666666666666,\"#ed7953\"],[0.7777777777777778,\"#fb9f3a\"],[0.8888888888888888,\"#fdca26\"],[1.0,\"#f0f921\"]],\"type\":\"heatmapgl\"}],\"histogram\":[{\"marker\":{\"pattern\":{\"fillmode\":\"overlay\",\"size\":10,\"solidity\":0.2}},\"type\":\"histogram\"}],\"histogram2d\":[{\"colorbar\":{\"outlinewidth\":0,\"ticks\":\"\"},\"colorscale\":[[0.0,\"#0d0887\"],[0.1111111111111111,\"#46039f\"],[0.2222222222222222,\"#7201a8\"],[0.3333333333333333,\"#9c179e\"],[0.4444444444444444,\"#bd3786\"],[0.5555555555555556,\"#d8576b\"],[0.6666666666666666,\"#ed7953\"],[0.7777777777777778,\"#fb9f3a\"],[0.8888888888888888,\"#fdca26\"],[1.0,\"#f0f921\"]],\"type\":\"histogram2d\"}],\"histogram2dcontour\":[{\"colorbar\":{\"outlinewidth\":0,\"ticks\":\"\"},\"colorscale\":[[0.0,\"#0d0887\"],[0.1111111111111111,\"#46039f\"],[0.2222222222222222,\"#7201a8\"],[0.3333333333333333,\"#9c179e\"],[0.4444444444444444,\"#bd3786\"],[0.5555555555555556,\"#d8576b\"],[0.6666666666666666,\"#ed7953\"],[0.7777777777777778,\"#fb9f3a\"],[0.8888888888888888,\"#fdca26\"],[1.0,\"#f0f921\"]],\"type\":\"histogram2dcontour\"}],\"mesh3d\":[{\"colorbar\":{\"outlinewidth\":0,\"ticks\":\"\"},\"type\":\"mesh3d\"}],\"parcoords\":[{\"line\":{\"colorbar\":{\"outlinewidth\":0,\"ticks\":\"\"}},\"type\":\"parcoords\"}],\"pie\":[{\"automargin\":true,\"type\":\"pie\"}],\"scatter\":[{\"marker\":{\"colorbar\":{\"outlinewidth\":0,\"ticks\":\"\"}},\"type\":\"scatter\"}],\"scatter3d\":[{\"line\":{\"colorbar\":{\"outlinewidth\":0,\"ticks\":\"\"}},\"marker\":{\"colorbar\":{\"outlinewidth\":0,\"ticks\":\"\"}},\"type\":\"scatter3d\"}],\"scattercarpet\":[{\"marker\":{\"colorbar\":{\"outlinewidth\":0,\"ticks\":\"\"}},\"type\":\"scattercarpet\"}],\"scattergeo\":[{\"marker\":{\"colorbar\":{\"outlinewidth\":0,\"ticks\":\"\"}},\"type\":\"scattergeo\"}],\"scattergl\":[{\"marker\":{\"colorbar\":{\"outlinewidth\":0,\"ticks\":\"\"}},\"type\":\"scattergl\"}],\"scattermapbox\":[{\"marker\":{\"colorbar\":{\"outlinewidth\":0,\"ticks\":\"\"}},\"type\":\"scattermapbox\"}],\"scatterpolar\":[{\"marker\":{\"colorbar\":{\"outlinewidth\":0,\"ticks\":\"\"}},\"type\":\"scatterpolar\"}],\"scatterpolargl\":[{\"marker\":{\"colorbar\":{\"outlinewidth\":0,\"ticks\":\"\"}},\"type\":\"scatterpolargl\"}],\"scatterternary\":[{\"marker\":{\"colorbar\":{\"outlinewidth\":0,\"ticks\":\"\"}},\"type\":\"scatterternary\"}],\"surface\":[{\"colorbar\":{\"outlinewidth\":0,\"ticks\":\"\"},\"colorscale\":[[0.0,\"#0d0887\"],[0.1111111111111111,\"#46039f\"],[0.2222222222222222,\"#7201a8\"],[0.3333333333333333,\"#9c179e\"],[0.4444444444444444,\"#bd3786\"],[0.5555555555555556,\"#d8576b\"],[0.6666666666666666,\"#ed7953\"],[0.7777777777777778,\"#fb9f3a\"],[0.8888888888888888,\"#fdca26\"],[1.0,\"#f0f921\"]],\"type\":\"surface\"}],\"table\":[{\"cells\":{\"fill\":{\"color\":\"#EBF0F8\"},\"line\":{\"color\":\"white\"}},\"header\":{\"fill\":{\"color\":\"#C8D4E3\"},\"line\":{\"color\":\"white\"}},\"type\":\"table\"}]},\"layout\":{\"annotationdefaults\":{\"arrowcolor\":\"#2a3f5f\",\"arrowhead\":0,\"arrowwidth\":1},\"autotypenumbers\":\"strict\",\"coloraxis\":{\"colorbar\":{\"outlinewidth\":0,\"ticks\":\"\"}},\"colorscale\":{\"diverging\":[[0,\"#8e0152\"],[0.1,\"#c51b7d\"],[0.2,\"#de77ae\"],[0.3,\"#f1b6da\"],[0.4,\"#fde0ef\"],[0.5,\"#f7f7f7\"],[0.6,\"#e6f5d0\"],[0.7,\"#b8e186\"],[0.8,\"#7fbc41\"],[0.9,\"#4d9221\"],[1,\"#276419\"]],\"sequential\":[[0.0,\"#0d0887\"],[0.1111111111111111,\"#46039f\"],[0.2222222222222222,\"#7201a8\"],[0.3333333333333333,\"#9c179e\"],[0.4444444444444444,\"#bd3786\"],[0.5555555555555556,\"#d8576b\"],[0.6666666666666666,\"#ed7953\"],[0.7777777777777778,\"#fb9f3a\"],[0.8888888888888888,\"#fdca26\"],[1.0,\"#f0f921\"]],\"sequentialminus\":[[0.0,\"#0d0887\"],[0.1111111111111111,\"#46039f\"],[0.2222222222222222,\"#7201a8\"],[0.3333333333333333,\"#9c179e\"],[0.4444444444444444,\"#bd3786\"],[0.5555555555555556,\"#d8576b\"],[0.6666666666666666,\"#ed7953\"],[0.7777777777777778,\"#fb9f3a\"],[0.8888888888888888,\"#fdca26\"],[1.0,\"#f0f921\"]]},\"colorway\":[\"#636efa\",\"#EF553B\",\"#00cc96\",\"#ab63fa\",\"#FFA15A\",\"#19d3f3\",\"#FF6692\",\"#B6E880\",\"#FF97FF\",\"#FECB52\"],\"font\":{\"color\":\"#2a3f5f\"},\"geo\":{\"bgcolor\":\"white\",\"lakecolor\":\"white\",\"landcolor\":\"#E5ECF6\",\"showlakes\":true,\"showland\":true,\"subunitcolor\":\"white\"},\"hoverlabel\":{\"align\":\"left\"},\"hovermode\":\"closest\",\"mapbox\":{\"style\":\"light\"},\"paper_bgcolor\":\"white\",\"plot_bgcolor\":\"#E5ECF6\",\"polar\":{\"angularaxis\":{\"gridcolor\":\"white\",\"linecolor\":\"white\",\"ticks\":\"\"},\"bgcolor\":\"#E5ECF6\",\"radialaxis\":{\"gridcolor\":\"white\",\"linecolor\":\"white\",\"ticks\":\"\"}},\"scene\":{\"xaxis\":{\"backgroundcolor\":\"#E5ECF6\",\"gridcolor\":\"white\",\"gridwidth\":2,\"linecolor\":\"white\",\"showbackground\":true,\"ticks\":\"\",\"zerolinecolor\":\"white\"},\"yaxis\":{\"backgroundcolor\":\"#E5ECF6\",\"gridcolor\":\"white\",\"gridwidth\":2,\"linecolor\":\"white\",\"showbackground\":true,\"ticks\":\"\",\"zerolinecolor\":\"white\"},\"zaxis\":{\"backgroundcolor\":\"#E5ECF6\",\"gridcolor\":\"white\",\"gridwidth\":2,\"linecolor\":\"white\",\"showbackground\":true,\"ticks\":\"\",\"zerolinecolor\":\"white\"}},\"shapedefaults\":{\"line\":{\"color\":\"#2a3f5f\"}},\"ternary\":{\"aaxis\":{\"gridcolor\":\"white\",\"linecolor\":\"white\",\"ticks\":\"\"},\"baxis\":{\"gridcolor\":\"white\",\"linecolor\":\"white\",\"ticks\":\"\"},\"bgcolor\":\"#E5ECF6\",\"caxis\":{\"gridcolor\":\"white\",\"linecolor\":\"white\",\"ticks\":\"\"}},\"title\":{\"x\":0.05},\"xaxis\":{\"automargin\":true,\"gridcolor\":\"white\",\"linecolor\":\"white\",\"ticks\":\"\",\"title\":{\"standoff\":15},\"zerolinecolor\":\"white\",\"zerolinewidth\":2},\"yaxis\":{\"automargin\":true,\"gridcolor\":\"white\",\"linecolor\":\"white\",\"ticks\":\"\",\"title\":{\"standoff\":15},\"zerolinecolor\":\"white\",\"zerolinewidth\":2}}},\"xaxis\":{\"anchor\":\"y\",\"domain\":[0.0,1.0],\"title\":{\"text\":\"x\"}},\"yaxis\":{\"anchor\":\"x\",\"domain\":[0.0,1.0],\"title\":{\"text\":\"y\"}},\"legend\":{\"tracegroupgap\":0},\"title\":{\"text\":\"Model Result\"}},                        {\"responsive\": true}                    ).then(function(){\n",
              "                            \n",
              "var gd = document.getElementById('dcd01cba-af7f-48f5-b977-a2a77774a285');\n",
              "var x = new MutationObserver(function (mutations, observer) {{\n",
              "        var display = window.getComputedStyle(gd).display;\n",
              "        if (!display || display === 'none') {{\n",
              "            console.log([gd, 'removed!']);\n",
              "            Plotly.purge(gd);\n",
              "            observer.disconnect();\n",
              "        }}\n",
              "}});\n",
              "\n",
              "// Listen for the removal of the full notebook cells\n",
              "var notebookContainer = gd.closest('#notebook-container');\n",
              "if (notebookContainer) {{\n",
              "    x.observe(notebookContainer, {childList: true});\n",
              "}}\n",
              "\n",
              "// Listen for the clearing of the current output cell\n",
              "var outputEl = gd.closest('.output');\n",
              "if (outputEl) {{\n",
              "    x.observe(outputEl, {childList: true});\n",
              "}}\n",
              "\n",
              "                        })                };                            </script>        </div>\n",
              "</body>\n",
              "</html>"
            ]
          },
          "metadata": {}
        }
      ]
    },
    {
      "cell_type": "markdown",
      "source": [
        "## **Gradiente Descendente**"
      ],
      "metadata": {
        "id": "pitlDsnlzc0e"
      }
    },
    {
      "cell_type": "markdown",
      "source": [
        "![gd.png](data:image/png;base64,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)"
      ],
      "metadata": {
        "id": "-y-8AJu7mkuN"
      }
    },
    {
      "cell_type": "code",
      "source": [
        "class GradientDescent(LinearAlgoritm):\n",
        "\n",
        "    def __step_training(self, dfx: np.ndarray, dfy: np.ndarray, model: LinearModel):\n",
        "        predicted = model.predict(dfx)\n",
        "        error = y - predicted\n",
        "        w = model.w + self.alpha * ( (1 / dfx.shape[0]) * (dfx.T @ error) - self.l2_regulazation*model.w)\n",
        "        model.update(w)\n",
        "        return model\n",
        "\n",
        "    def __training_loop(self, dfx: np.ndarray, dfy: np.ndarray, model: LinearModel):\n",
        "        pbar = trange(self.ephocs)\n",
        "        for ephoc in pbar:\n",
        "            model = self.__step_training(dfx, dfy, model)\n",
        "            predicted = model.predict(dfx)\n",
        "            error = rmse(dfy, predicted)\n",
        "            pbar.set_description(f\"RMSE: {error} \\n\")\n",
        "\n",
        "            yield {\n",
        "                'ephoc': ephoc,\n",
        "                'model': model.__copy__(),\n",
        "                'rmse_error': error\n",
        "            }\n",
        "\n",
        "    def fit(self, dfx: np.ndarray, dfy: np.ndarray, **kwargs):\n",
        "\n",
        "        first_model = LinearModel.first_model(\n",
        "            lenght=dfx.shape[1],\n",
        "            fill_value=self.initial_w_values\n",
        "        )\n",
        "\n",
        "        history = list(self.__training_loop(dfx, dfy, first_model))\n",
        "\n",
        "        if self.with_history_predictions:\n",
        "            return history\n",
        "\n",
        "        final_model = history[-1]['model']\n",
        "\n",
        "        return final_model"
      ],
      "metadata": {
        "id": "bL5vMFLp3Qgr"
      },
      "execution_count": 21,
      "outputs": []
    },
    {
      "cell_type": "code",
      "source": [
        "gd = GradientDescent(ephocs=1000, with_history_predictions=True, l2_regulazation=0.001)"
      ],
      "metadata": {
        "id": "9b2z47hJasgb"
      },
      "execution_count": 22,
      "outputs": []
    },
    {
      "cell_type": "code",
      "source": [
        "history_gd = gd.fit(X_ones, y)"
      ],
      "metadata": {
        "colab": {
          "base_uri": "https://localhost:8080/",
          "height": 49,
          "referenced_widgets": [
            "22fa8129c36b41e2a8b481f7f9021ec5",
            "aa36cf9558c2400ba415c2175f87d730",
            "0ed3d59f9bc94eabb34690931707a8dc",
            "e1ba4dce8b914e378491477a97bbc65e",
            "b5dde2fb92ae4b8b9d5a259c1abe52e3",
            "ba20adf5daae4c9fa4330d09126355f9",
            "d67476c6614746f485539d3eb0acd02f",
            "7bfbc9c49b374cf1a3c2ec86eb19d64b",
            "0fb1dd15d546436688bb6d006ba658a1",
            "380b9e14631c41f1b0a751fa0a0bd355",
            "249ce4033bd2471cb9926b2ab9ac2958"
          ]
        },
        "id": "RF0JlljVavQA",
        "outputId": "94e29516-f578-4351-81e8-e9b0987435f4"
      },
      "execution_count": 23,
      "outputs": [
        {
          "output_type": "display_data",
          "data": {
            "text/plain": [
              "  0%|          | 0/1000 [00:00<?, ?it/s]"
            ],
            "application/vnd.jupyter.widget-view+json": {
              "version_major": 2,
              "version_minor": 0,
              "model_id": "22fa8129c36b41e2a8b481f7f9021ec5"
            }
          },
          "metadata": {}
        }
      ]
    },
    {
      "cell_type": "code",
      "source": [
        "show_rmse_curve(history_gd)"
      ],
      "metadata": {
        "colab": {
          "base_uri": "https://localhost:8080/",
          "height": 542
        },
        "id": "4axqKVjraxhj",
        "outputId": "6ed88f76-d849-4bcd-dca6-cdba0f85376c"
      },
      "execution_count": 24,
      "outputs": [
        {
          "output_type": "display_data",
          "data": {
            "text/html": [
              "<html>\n",
              "<head><meta charset=\"utf-8\" /></head>\n",
              "<body>\n",
              "    <div>            <script src=\"https://cdnjs.cloudflare.com/ajax/libs/mathjax/2.7.5/MathJax.js?config=TeX-AMS-MML_SVG\"></script><script type=\"text/javascript\">if (window.MathJax) {MathJax.Hub.Config({SVG: {font: \"STIX-Web\"}});}</script>                <script type=\"text/javascript\">window.PlotlyConfig = {MathJaxConfig: 'local'};</script>\n",
              "        <script src=\"https://cdn.plot.ly/plotly-2.8.3.min.js\"></script>                <div id=\"2d93d263-f944-4e61-bfef-909cb07d984c\" class=\"plotly-graph-div\" style=\"height:525px; width:100%;\"></div>            <script type=\"text/javascript\">                                    window.PLOTLYENV=window.PLOTLYENV || {};                                    if (document.getElementById(\"2d93d263-f944-4e61-bfef-909cb07d984c\")) {                    Plotly.newPlot(                        \"2d93d263-f944-4e61-bfef-909cb07d984c\",                        [{\"hovertemplate\":\"steps=%{x}<br>RMSE=%{y}<extra></extra>\",\"legendgroup\":\"\",\"line\":{\"color\":\"#636efa\",\"dash\":\"solid\"},\"marker\":{\"symbol\":\"circle\"},\"mode\":\"lines\",\"name\":\"\",\"orientation\":\"v\",\"showlegend\":false,\"x\":[0,1,2,3,4,5,6,7,8,9,10,11,12,13,14,15,16,17,18,19,20,21,22,23,24,25,26,27,28,29,30,31,32,33,34,35,36,37,38,39,40,41,42,43,44,45,46,47,48,49,50,51,52,53,54,55,56,57,58,59,60,61,62,63,64,65,66,67,68,69,70,71,72,73,74,75,76,77,78,79,80,81,82,83,84,85,86,87,88,89,90,91,92,93,94,95,96,97,98,99,100,101,102,103,104,105,106,107,108,109,110,111,112,113,114,115,116,117,118,119,120,121,122,123,124,125,126,127,128,129,130,131,132,133,134,135,136,137,138,139,140,141,142,143,144,145,146,147,148,149,150,151,152,153,154,155,156,157,158,159,160,161,162,163,164,165,166,167,168,169,170,171,172,173,174,175,176,177,178,179,180,181,182,183,184,185,186,187,188,189,190,191,192,193,194,195,196,197,198,199,200,201,202,203,204,205,206,207,208,209,210,211,212,213,214,215,216,217,218,219,220,221,222,223,224,225,226,227,228,229,230,231,232,233,234,235,236,237,238,239,240,241,242,243,244,245,246,247,248,249,250,251,252,253,254,255,256,257,258,259,260,261,262,263,264,265,266,267,268,269,270,271,272,273,274,275,276,277,278,279,280,281,282,283,284,285,286,287,288,289,290,291,292,293,294,295,296,297,298,299,300,301,302,303,304,305,306,307,308,309,310,311,312,313,314,315,316,317,318,319,320,321,322,323,324,325,326,327,328,329,330,331,332,333,334,335,336,337,338,339,340,341,342,343,344,345,346,347,348,349,350,351,352,353,354,355,356,357,358,359,360,361,362,363,364,365,366,367,368,369,370,371,372,373,374,375,376,377,378,379,380,381,382,383,384,385,386,387,388,389,390,391,392,393,394,395,396,397,398,399,400,401,402,403,404,405,406,407,408,409,410,411,412,413,414,415,416,417,418,419,420,421,422,423,424,425,426,427,428,429,430,431,432,433,434,435,436,437,438,439,440,441,442,443,444,445,446,447,448,449,450,451,452,453,454,455,456,457,458,459,460,461,462,463,464,465,466,467,468,469,470,471,472,473,474,475,476,477,478,479,480,481,482,483,484,485,486,487,488,489,490,491,492,493,494,495,496,497,498,499,500,501,502,503,504,505,506,507,508,509,510,511,512,513,514,515,516,517,518,519,520,521,522,523,524,525,526,527,528,529,530,531,532,533,534,535,536,537,538,539,540,541,542,543,544,545,546,547,548,549,550,551,552,553,554,555,556,557,558,559,560,561,562,563,564,565,566,567,568,569,570,571,572,573,574,575,576,577,578,579,580,581,582,583,584,585,586,587,588,589,590,591,592,593,594,595,596,597,598,599,600,601,602,603,604,605,606,607,608,609,610,611,612,613,614,615,616,617,618,619,620,621,622,623,624,625,626,627,628,629,630,631,632,633,634,635,636,637,638,639,640,641,642,643,644,645,646,647,648,649,650,651,652,653,654,655,656,657,658,659,660,661,662,663,664,665,666,667,668,669,670,671,672,673,674,675,676,677,678,679,680,681,682,683,684,685,686,687,688,689,690,691,692,693,694,695,696,697,698,699,700,701,702,703,704,705,706,707,708,709,710,711,712,713,714,715,716,717,718,719,720,721,722,723,724,725,726,727,728,729,730,731,732,733,734,735,736,737,738,739,740,741,742,743,744,745,746,747,748,749,750,751,752,753,754,755,756,757,758,759,760,761,762,763,764,765,766,767,768,769,770,771,772,773,774,775,776,777,778,779,780,781,782,783,784,785,786,787,788,789,790,791,792,793,794,795,796,797,798,799,800,801,802,803,804,805,806,807,808,809,810,811,812,813,814,815,816,817,818,819,820,821,822,823,824,825,826,827,828,829,830,831,832,833,834,835,836,837,838,839,840,841,842,843,844,845,846,847,848,849,850,851,852,853,854,855,856,857,858,859,860,861,862,863,864,865,866,867,868,869,870,871,872,873,874,875,876,877,878,879,880,881,882,883,884,885,886,887,888,889,890,891,892,893,894,895,896,897,898,899,900,901,902,903,904,905,906,907,908,909,910,911,912,913,914,915,916,917,918,919,920,921,922,923,924,925,926,927,928,929,930,931,932,933,934,935,936,937,938,939,940,941,942,943,944,945,946,947,948,949,950,951,952,953,954,955,956,957,958,959,960,961,962,963,964,965,966,967,968,969,970,971,972,973,974,975,976,977,978,979,980,981,982,983,984,985,986,987,988,989,990,991,992,993,994,995,996,997,998,999],\"xaxis\":\"x\",\"y\":[1.0885225110570371,1.07942176691481,1.070427241195545,1.0615379461654708,1.0527529030482707,1.0440711419005617,1.0354917014883704,1.0270136291646197,1.0186359807476324,1.0103578204006727,1.0021782205125334,0.9940962615791874,0.9861110320865187,0.9782216283941474,0.9704271546203677,0.9627267225282184,0.9551194514127009,0.947604467989166,0.9401809062828911,0.9328479075198661,0.9256046200188113,0.918450199084446,0.9113838069020355,0.9044046124332333,0.8975117913132475,0.8907045257493496,0.883982004420755,0.877343422379896,0.8707879809551128,0.8643148876547875,0.8579233560729462,0.8516126057963544,0.8453818623131273,0.8392303569228866,0.8331573266484807,0.8271620141492996,0.8212436676362027,0.8154015407880898,0.8096348926701318,0.8039429876536905,0.7983250953379462,0.7927804904732538,0.787308452886253,0.7819082674067492,0.7765792237963838,0.7713206166791166,0.7661317454735325,0.7610119143269932,0.755960432051646,0.7509766120623039,0.7460597723162125,0.74120923525471,0.7364243277467944,0.7317043810346037,0.7270487306808158,0.7224567165179736,0.7179276825997396,0.713460977154078,0.7090559525383681,0.7047119651964444,0.7004283756175601,0.6962045482972672,0.6920398517002067,0.6879336582247971,0.683885344169812,0.6798942897028293,0.6759598788305385,0.6720814993708878,0.6682585429270492,0.6644904048631821,0.6607764842819683,0.6571161840038946,0.653508910548253,0.6499540741158294,0.6464510885732478,0.6429993714389376,0.6395983438706856,0.636247430654736,0.6329460601964007,0.6296936645121358,0.626489679223043,0.6233335435497519,0.6202247003086356,0.6171625959093149,0.6141466803533989,0.6111764072344165,0.6082512337388828,0.6053706206484534,0.6025340323431082,0.5997409368053171,0.5969908056251255,0.59428311400611,0.5916173407721469,0.5889929683749348,0.5864094829022175,0.5838663740866489,0.5813631353152422,0.5788992636393474,0.5764742597851001,0.5740876281642829,0.5717388768855451,0.569427517765923,0.5671530663426056,0.5649150418848914,0.5627129674062795,0.5605463696766448,0.5584147792344418,0.556317730398886,0.5542547612820629,0.5522254138009148,0.5502292336890561,0.5482657705083706,0.5463345776603463,0.5444352123971014,0.5425672358320588,0.5407302129502305,0.5389237126180677,0.5371473075928436,0.5354005745315272,0.5336830939991177,0.5319944504764048,0.5303342323671218,0.5287020320044663,0.5270974456569557,0.5255200735335964,0.5239695197883394,0.5224453925238006,0.5209473037942273,0.5194748696076883,0.5180277099274763,0.5166054486727012,0.5152077137180668,0.513834136892815,0.5124843539788296,0.5111580047078922,0.509854732758081,0.5085741857493108,0.5073160152380085,0.5060798767109234,0.5048654295780713,0.5036723371648151,0.5025002667030817,0.5013488893217223,0.5002178800360196,0.499106917736347,0.49801568517599193,0.49694386895814674,0.4958911595220817,0.4948572511285078,0.49384184184414415,0.49284463352550023,0.49186533180188907,0.4909036460576847,0.4899592894138401,0.4890319787086811,0.48812143447799367,0.48722738093442197,0.4863495459461946,0.4854876610151989,0.48464146125442015,0.4838106853647683,0.482995075611308,0.4821943777989159,0.48140834124738285,0.48063671876598296,0.47987926662753,0.47913574454194213,0.47840591562933593,0.47768954639267,0.47698640668996184,0.4762962697060959,0.4756189119242461,0.474954113096933,0.4743016562167367,0.4736613274866863,0.47303291629034644,0.47241621516162163,0.47181101975429784,0.4712171288113425,0.4706343441339813,0.47006247055057326,0.46950131588530003,0.4689506909266919,0.46841040939600653,0.467880287915479,0.4673601459764623,0.4668498059074742,0.46634909284216786,0.46585783468724373,0.46537586209031795,0.46490300840776433,0.46443910967254326,0.4639840045620357,0.46353753436589373,0.4630995429539242,0.46266987674401827,0.4622483846701394,0.46183491815038513,0.46142933105513206,0.46103147967527863,0.46064122269059615,0.46025842113819926,0.45988293838114697,0.45951464007718484,0.45915339414763706,0.4587990707464603,0.45845154222946555,0.45811068312371883,0.457776370097129,0.45744848192822907,0.4571268994761602,0.45681150565086465,0.4565021853834956,0.45619882559704833,0.4559013151772211,0.45560954494350997,0.4553234076205438,0.4550427978096634,0.45476761196075177,0.45449774834431694,0.45423310702383407,0.45397358982834957,0.45371910032535023,0.45346954379390214,0.4532248271980605,0.45298485916055475,0.4527495499367506,0.45251881138889083,0.45229255696061765,0.45207070165177776,0.451853161993512,0.4516398560236299,0.4514307032622721,0.45122562468785876,0.45102454271332754,0.450827381162659,0.4506340652476918,0.4504445215452259,0.45025867797441543,0.4500764637744499,0.44989780948252306,0.44972264691209085,0.44955090913141454,0.4493825304423914,0.4492174463596699,0.44905559359004965,0.44889691001216264,0.4487413346564389,0.44858880768534914,0.4484392703739287,0.44829266509057675,0.448148935278132,0.44800802543522106,0.44786988109787934,0.44773444882144076,0.4476016761626957,0.4474715116623147,0.44734390482753494,0.4472188061151089,0.4470961669145107,0.44697593953140063,0.4468580771713425,0.4467425339237741,0.4466292647462259,0.44651822544878794,0.44640937267881986,0.44630266390590406,0.4461980574070371,0.4460955122520582,0.4459949882893123,0.4458964461315432,0.4457998471420175,0.44570515342087247,0.44561232779168886,0.44552133378828385,0.4454321356417218,0.4453446982675411,0.44525898725319285,0.44517496884568963,0.44509260993946187,0.44501187806441805,0.44493274137420746,0.44485516863468105,0.44477912921255014,0.4447045930642368,0.4446315307249177,0.444559913297754,0.44448971244330904,0.44442090036914733,0.4443534498196157,0.44428733406580073,0.44422252689566294,0.44415900260434255,0.4440967359846361,0.44403570231764045,0.44397587736356214,0.44391723735268857,0.4438597589765209,0.44380341937906254,0.44374819614826533,0.44369406730762634,0.4436410113079364,0.44358900701917653,0.4435380337225604,0.44348807110271915,0.44343909924002894,0.44339109860307646,0.4433440500412608,0.4432979347775309,0.4432527344012545,0.44320843086121703,0.44316500645874873,0.4431224438409783,0.4430807259942089,0.443039836237417,0.4429997582158704,0.44296047589486404,0.4429219735535715,0.4428842357790102,0.4428472474601181,0.44281099378194105,0.4427754602199272,0.44274063253432827,0.4427064967647047,0.44267303922453377,0.44264024649591777,0.44260810542439205,0.4425766031138296,0.4425457269214416,0.4425154644528717,0.44248580355738243,0.4424567323231326,0.4424282390725436,0.44240031235775235,0.44237294095615176,0.44234611386601375,0.4423198203021961,0.44229404969193126,0.442268791670693,0.4422440360781439,0.44221977295415826,0.4421959925349215,0.44217268524910314,0.44214984171410365,0.44212745273237214,0.4421055092877946,0.4420840025421513,0.4420629238316416,0.442042264663476,0.4420220167125326,0.4420021718180782,0.4419827219805522,0.4419636593584125,0.44194497626504126,0.44192666516571144,0.4419087186746102,0.441891129551921,0.4418738907009611,0.44185699516537463,0.44184043612637963,0.44182420690006824,0.4418083009347592,0.44179271180840196,0.4417774332260299,0.44176245901726385,0.44174778313386354,0.44173339964732655,0.44171930274653437,0.4417054867354424,0.4416919460308176,0.441678675160017,0.44166566875881225,0.441652921569254,0.4416404284375794,0.44162818431216,0.44161618424148913,0.44160442337220884,0.4415928969471756,0.4415816003035629,0.4415705288710017,0.44155967816975655,0.4415490438089379,0.44153862148474854,0.44152840697876544,0.44151839615625343,0.44150858496451406,0.44149896943126493,0.44148954566305165,0.4414803098436905,0.44147125823274197,0.44146238716401376,0.44145369304409343,0.44144517235090974,0.44143682163232206,0.44142863750473776,0.4414206166517563,0.44141275582284023,0.4414050518320124,0.44139750155657836,0.44139010193587414,0.4413828499700385,0.4413757427188095,0.4413687773003448,0.44136195089006414,0.4413552607195167,0.4413487040752683,0.4413422782978123,0.44133598078050135,0.44132980896849955,0.44132376035775656,0.44131783249400075,0.44131202297175276,0.4413063294333583,0.4413007495680404,0.4412952811109694,0.44128992184235283,0.44128466958654133,0.44127952221115413,0.4412744776262202,0.4412695337833374,0.4412646886748477,0.4412599403330289,0.44125528682930226,0.4412507262734558,0.44124625681288276,0.4412418766318355,0.44123758395069373,0.4412333770252473,0.4412292541459938,0.4412252136374486,0.4412212538574703,0.4412173731965984,0.44121357007740364,0.4412098429538531,0.4412061903106858,0.4412026106628015,0.44119910255466205,0.44119566455970366,0.44119229527976206,0.44118899334450706,0.44118575741089056,0.4411825861626041,0.4411794783095472,0.4411764325873071,0.44117344775664774,0.44117052260300965,0.44116765593601937,0.4411648465890088,0.4411620934185437,0.44115939530396203,0.44115675114692127,0.4411541598709544,0.4411516204210353,0.4411491317631519,0.44114669288388886,0.4411443027900179,0.4411419605080957,0.44113966508407126,0.44113741558289976,0.44113521108816456,0.4411330507017068,0.44113093354326194,0.44112885875010405,0.4411268254766969,0.44112483289435195,0.4411228801908928,0.44112096657032746,0.44111909125252524,0.44111725347290226,0.4411154524821112,0.44111368754573865,0.4411119579440078,0.44111026297148676,0.4411086019368036,0.44110697416236655,0.44110537898408897,0.44110381575112156,0.441102283825588,0.4411007825823273,0.4410993114086405,0.4410978697040424,0.4410964568800187,0.4410950723597876,0.4410937155780659,0.44109238598084083,0.44109108302514466,0.44108980617883564,0.4410885549203819,0.4410873287386506,0.4410861271327003,0.44108494961157874,0.4410837956941231,0.44108266490876585,0.44108155679334304,0.44108047089490743,0.4410794067695447,0.44107836398219336,0.4410773421064692,0.4410763407244914,0.44107535942671405,0.4410743978117596,0.44107345548625626,0.4410725320646788,0.4410716271691918,0.4410707404294966,0.4410698714826816,0.4410690199730745,0.44106818555209815,0.4410673678781298,0.44106656661636157,0.44106578143866554,0.44106501202346016,0.4410642580555801,0.44106351922614817,0.44106279523244996,0.44106208577781153,0.44106139057147853,0.44106070932849833,0.4410600417696046,0.44105938762110386,0.4410587466147646,0.4410581184877078,0.4410575029823013,0.4410568998460543,0.4410563088315154,0.44105572969617185,0.4410551622023515,0.44105460611712594,0.4410540612122161,0.4410535272638995,0.4410530040529198,0.4410524913643971,0.44105198898774134,0.44105149671656635,0.4410510143486062,0.4410505416856333,0.4410500785333774,0.44104962470144715,0.44104918000325244,0.4410487442559288,0.44104831728026317,0.4410478989006209,0.4410474889448745,0.44104708724433384,0.4410466936336774,0.441046307950885,0.44104593003717263,0.4410455597369271,0.4410451968976432,0.44104484136986194,0.44104449300710913,0.44104415166583666,0.4410438172053636,0.44104348948781924,0.44104316837808694,0.44104285374374935,0.44104254545503435,0.4410422433847624,0.4410419474082952,0.44104165740348433,0.4410413732506219,0.4410410948323922,0.44104082203382317,0.44104055474224074,0.441040292847222,0.4410400362405508,0.4410397848161737,0.44103953847015664,0.44103929710064294,0.4410390606078116,0.4410388288938367,0.44103860186284777,0.44103837942089064,0.44103816147588937,0.4410379479376086,0.44103773871761665,0.4410375337292503,0.4410373328875783,0.44103713610936796,0.4410369433130508,0.441036754418689,0.4410365693479434,0.4410363880240413,0.44103621037174534,0.44103603631732263,0.44103586578851517,0.44103569871451,0.44103553502591036,0.44103537465470777,0.4410352175342542,0.4410350635992344,0.44103491278564005,0.4410347650307435,0.44103462027307183,0.4410344784523819,0.4410343395096363,0.4410342033869785,0.4410340700277103,0.44103393937626734,0.44103381137819786,0.4410336859801395,0.44103356312979797,0.4410334427759259,0.44103332486830127,0.44103320935770757,0.44103309619591374,0.441032985335654,0.44103287673060865,0.44103277033538596,0.4410326661055025,0.4410325639973659,0.4410324639682565,0.44103236597631024,0.4410322699805015,0.4410321759406261,0.4410320838172855,0.44103199357186984,0.441031905166543,0.4410318185642268,0.4410317337285858,0.4410316506240124,0.44103156921561254,0.44103148946919163,0.4410314113512398,0.44103133482891904,0.4410312598700493,0.44103118644309564,0.4410311145171549,0.4410310440619437,0.4410309750477856,0.44103090744559903,0.4410308412268855,0.44103077636371796,0.44103071282872935,0.44103065059510127,0.4410305896365533,0.441030529927332,0.4410304714422006,0.44103041415642824,0.44103035804578056,0.4410303030865089,0.44103024925534157,0.44103019652947345,0.4410301448865572,0.44103009430469375,0.4410300447624238,0.4410299962387184,0.441029948712971,0.4410299021649886,0.4410298565749835,0.4410298119235653,0.44102976819173295,0.4410297253608668,0.44102968341272153,0.44102964232941777,0.44102960209343556,0.4410295626876066,0.4410295240951077,0.44102948629945365,0.44102944928449034,0.4410294130343883,0.44102937753363614,0.4410293427670341,0.44102930871968826,0.44102927537700376,0.44102924272467936,0.44102921074870105,0.44102917943533687,0.4410291487711311,0.44102911874289813,0.441029089337718,0.4410290605429304,0.4410290323461299,0.4410290047351603,0.44102897769811056,0.4410289512233086,0.4410289252993178,0.4410288999149316,0.4410288750591689,0.4410288507212696,0.4410288268906906,0.44102880355710067,0.441028780710377,0.44102875834060024,0.4410287364380513,0.4410287149932064,0.4410286939967341,0.44102867343949076,0.44102865331251695,0.4410286336070338,0.4410286143144396,0.44102859542630596,0.44102857693437425,0.4410285588305524,0.44102854110691186,0.44102852375568363,0.44102850676925553,0.44102849014016904,0.441028473861116,0.44102845792493583,0.44102844232461247,0.44102842705327133,0.4410284121041768,0.4410283974707292,0.441028383146462,0.44102836912503945,0.44102835540025376,0.4410283419660223,0.4410283288163858,0.44102831594550496,0.4410283033476589,0.4410282910172418,0.4410282789487619,0.44102826713683796,0.4410282555761978,0.44102824426167586,0.44102823318821094,0.4410282223508445,0.44102821174471796,0.44102820136507154,0.4410281912072414,0.4410281812666584,0.4410281715388457,0.4410281620194175,0.4410281527040764,0.4410281435886123,0.4410281346689004,0.44102812594089963,0.4410281174006504,0.4410281090442738,0.4410281008679696,0.4410280928680143,0.44102808504076035,0.44102807738263394,0.44102806989013377,0.44102806255982974,0.4410280553883614,0.44102804837243637,0.44102804150882935,0.44102803479438046,0.4410280282259938,0.4410280218006369,0.44102801551533843,0.4410280093671877,0.44102800335333325,0.44102799747098154,0.4410279917173958,0.4410279860898951,0.44102798058585296,0.44102797520269627,0.44102796993790455,0.4410279647890087,0.44102795975358944,0.4410279548292775,0.4410279500137512,0.4410279453047366,0.44102794070000606,0.4410279361973774,0.4410279317947127,0.44102792748991815,0.44102792328094215,0.4410279191657754,0.4410279151424494,0.4410279112090359,0.4410279073636461,0.4410279036044298,0.44102789992957464,0.4410278963373052,0.44102789282588256,0.44102788939360316,0.44102788603879856,0.44102788275983423,0.44102787955510925,0.4410278764230556,0.44102787336213706,0.4410278703708492,0.4410278674477183,0.4410278645913009,0.4410278618001832,0.44102785907298026,0.4410278564083356,0.44102785380492093,0.4410278512614347,0.44102784877660256,0.441027846349176,0.44102784397793254,0.4410278416616745,0.44102783939922907,0.4410278371894475,0.4410278350312047,0.44102783292339864,0.44102783086495034,0.44102782885480263,0.44102782689192027,0.4410278249752898,0.4410278231039179,0.4410278212768324,0.44102781949308073,0.44102781775173056,0.4410278160518683,0.4410278143925993,0.4410278127730479,0.441027811192356,0.4410278096496836,0.4410278081442077,0.4410278066751229,0.44102780524164015,0.44102780384298684,0.44102780247840623,0.44102780114715756,0.44102779984851515,0.44102779858176877,0.44102779734622255,0.4410277961411953,0.44102779496601996,0.4410277938200434,0.441027792702626,0.4410277916131414,0.4410277905509765,0.4410277895155309,0.4410277885062166,0.44102778752245797,0.44102778656369146,0.44102778562936507,0.44102778471893866,0.4410277838318831,0.4410277829676805,0.4410277821258237,0.4410277813058163,0.4410277805071722,0.4410277797294153,0.44102777897208,0.44102777823470996,0.4410277775168588,0.4410277768180892,0.4410277761379733,0.441027775476092,0.44102777483203526,0.4410277742054016,0.44102777359579787,0.44102777300283935,0.44102777242614954,0.4410277718653595,0.44102777132010856,0.44102777079004346,0.4410277702748182,0.44102776977409447,0.441027769287541,0.4410277688148335,0.4410277683556546,0.4410277679096936,0.44102776747664635,0.44102776705621544,0.4410277666481095,0.44102776625204354,0.4410277658677386,0.44102776549492173,0.4410277651333255,0.44102776478268857,0.44102776444275493,0.44102776411327427,0.4410277637940014,0.44102776348469663,0.44102776318512515,0.4410277628950574,0.4410277626142687,0.44102776234253904,0.4410277620796534,0.44102776182540115,0.44102776157957635,0.4410277613419776,0.44102776111240755,0.4410277608906733,0.44102776067658617,0.44102776046996145,0.4410277602706185,0.4410277600783805,0.44102775989307463,0.44102775971453184,0.44102775954258644,0.4410277593770767,0.44102775921784426,0.4410277590647343,0.44102775891759527,0.44102775877627903,0.4410277586406406,0.44102775851053816,0.4410277583858332,0.4410277582663901,0.4410277581520761,0.44102775804276173,0.4410277579383199,0.44102775783862674,0.4410277577435609,0.4410277576530039,0.4410277575668394,0.44102775748495426,0.44102775740723754,0.4410277573335808,0.441027757263878,0.4410277571980255,0.44102775713592196,0.44102775707746833,0.4410277570225677,0.44102775697112545,0.4410277569230489,0.44102775687824775,0.4410277568366333,0.4410277567981194,0.4410277567626214,0.4410277567300567,0.44102775670034466,0.44102775667340627,0.4410277566491645,0.44102775662754407,0.4410277566084713,0.44102775659187426,0.4410277565776827,0.4410277565658278,0.44102775655624266,0.44102775654886145,0.4410277565436204,0.4410277565404568,0.4410277565393094,0.44102775654011867,0.44102775654282617,0.4410277565473749,0.4410277565537094,0.44102775656177506,0.44102775657151905,0.4410277565828894,0.4410277565958354,0.44102775661030774,0.44102775662625826,0.4410277566436396,0.4410277566624058,0.4410277566825122,0.4410277567039145,0.4410277567265704,0.44102775675043776,0.441027756775476,0.44102775680164513,0.4410277568289065,0.4410277568572221,0.44102775688655493,0.4410277569168689,0.44102775694812885,0.44102775698030044,0.44102775701335006,0.4410277570472451,0.4410277570819536,0.44102775711744446,0.44102775715368736,0.4410277571906528,0.4410277572283118,0.44102775726663634,0.4410277573055989,0.44102775734517263,0.4410277573853318,0.44102775742605066,0.44102775746730477,0.4410277575090697,0.44102775755132206,0.44102775759403906,0.44102775763719815,0.44102775768077757,0.4410277577247564,0.4410277577691137,0.4410277578138296,0.4410277578588843,0.4410277579042591,0.441027757949935,0.4410277579958942,0.441027758042119,0.44102775808859246,0.4410277581352977,0.44102775818221873,0.44102775822933965,0.441027758276645,0.44102775832412017,0.4410277583717504,0.4410277584195218,0.44102775846742026,0.44102775851543297,0.4410277585635464,0.4410277586117485,0.4410277586600267,0.4410277587083692,0.44102775875676437,0.4410277588052011,0.44102775885366846,0.44102775890215595,0.44102775895065316,0.4410277589991502,0.44102775904763736,0.4410277590961053,0.44102775914454506,0.44102775919294757,0.44102775924130444,0.4410277592896073],\"yaxis\":\"y\",\"type\":\"scatter\"}],                        {\"template\":{\"data\":{\"bar\":[{\"error_x\":{\"color\":\"#2a3f5f\"},\"error_y\":{\"color\":\"#2a3f5f\"},\"marker\":{\"line\":{\"color\":\"#E5ECF6\",\"width\":0.5},\"pattern\":{\"fillmode\":\"overlay\",\"size\":10,\"solidity\":0.2}},\"type\":\"bar\"}],\"barpolar\":[{\"marker\":{\"line\":{\"color\":\"#E5ECF6\",\"width\":0.5},\"pattern\":{\"fillmode\":\"overlay\",\"size\":10,\"solidity\":0.2}},\"type\":\"barpolar\"}],\"carpet\":[{\"aaxis\":{\"endlinecolor\":\"#2a3f5f\",\"gridcolor\":\"white\",\"linecolor\":\"white\",\"minorgridcolor\":\"white\",\"startlinecolor\":\"#2a3f5f\"},\"baxis\":{\"endlinecolor\":\"#2a3f5f\",\"gridcolor\":\"white\",\"linecolor\":\"white\",\"minorgridcolor\":\"white\",\"startlinecolor\":\"#2a3f5f\"},\"type\":\"carpet\"}],\"choropleth\":[{\"colorbar\":{\"outlinewidth\":0,\"ticks\":\"\"},\"type\":\"choropleth\"}],\"contour\":[{\"colorbar\":{\"outlinewidth\":0,\"ticks\":\"\"},\"colorscale\":[[0.0,\"#0d0887\"],[0.1111111111111111,\"#46039f\"],[0.2222222222222222,\"#7201a8\"],[0.3333333333333333,\"#9c179e\"],[0.4444444444444444,\"#bd3786\"],[0.5555555555555556,\"#d8576b\"],[0.6666666666666666,\"#ed7953\"],[0.7777777777777778,\"#fb9f3a\"],[0.8888888888888888,\"#fdca26\"],[1.0,\"#f0f921\"]],\"type\":\"contour\"}],\"contourcarpet\":[{\"colorbar\":{\"outlinewidth\":0,\"ticks\":\"\"},\"type\":\"contourcarpet\"}],\"heatmap\":[{\"colorbar\":{\"outlinewidth\":0,\"ticks\":\"\"},\"colorscale\":[[0.0,\"#0d0887\"],[0.1111111111111111,\"#46039f\"],[0.2222222222222222,\"#7201a8\"],[0.3333333333333333,\"#9c179e\"],[0.4444444444444444,\"#bd3786\"],[0.5555555555555556,\"#d8576b\"],[0.6666666666666666,\"#ed7953\"],[0.7777777777777778,\"#fb9f3a\"],[0.8888888888888888,\"#fdca26\"],[1.0,\"#f0f921\"]],\"type\":\"heatmap\"}],\"heatmapgl\":[{\"colorbar\":{\"outlinewidth\":0,\"ticks\":\"\"},\"colorscale\":[[0.0,\"#0d0887\"],[0.1111111111111111,\"#46039f\"],[0.2222222222222222,\"#7201a8\"],[0.3333333333333333,\"#9c179e\"],[0.4444444444444444,\"#bd3786\"],[0.5555555555555556,\"#d8576b\"],[0.6666666666666666,\"#ed7953\"],[0.7777777777777778,\"#fb9f3a\"],[0.8888888888888888,\"#fdca26\"],[1.0,\"#f0f921\"]],\"type\":\"heatmapgl\"}],\"histogram\":[{\"marker\":{\"pattern\":{\"fillmode\":\"overlay\",\"size\":10,\"solidity\":0.2}},\"type\":\"histogram\"}],\"histogram2d\":[{\"colorbar\":{\"outlinewidth\":0,\"ticks\":\"\"},\"colorscale\":[[0.0,\"#0d0887\"],[0.1111111111111111,\"#46039f\"],[0.2222222222222222,\"#7201a8\"],[0.3333333333333333,\"#9c179e\"],[0.4444444444444444,\"#bd3786\"],[0.5555555555555556,\"#d8576b\"],[0.6666666666666666,\"#ed7953\"],[0.7777777777777778,\"#fb9f3a\"],[0.8888888888888888,\"#fdca26\"],[1.0,\"#f0f921\"]],\"type\":\"histogram2d\"}],\"histogram2dcontour\":[{\"colorbar\":{\"outlinewidth\":0,\"ticks\":\"\"},\"colorscale\":[[0.0,\"#0d0887\"],[0.1111111111111111,\"#46039f\"],[0.2222222222222222,\"#7201a8\"],[0.3333333333333333,\"#9c179e\"],[0.4444444444444444,\"#bd3786\"],[0.5555555555555556,\"#d8576b\"],[0.6666666666666666,\"#ed7953\"],[0.7777777777777778,\"#fb9f3a\"],[0.8888888888888888,\"#fdca26\"],[1.0,\"#f0f921\"]],\"type\":\"histogram2dcontour\"}],\"mesh3d\":[{\"colorbar\":{\"outlinewidth\":0,\"ticks\":\"\"},\"type\":\"mesh3d\"}],\"parcoords\":[{\"line\":{\"colorbar\":{\"outlinewidth\":0,\"ticks\":\"\"}},\"type\":\"parcoords\"}],\"pie\":[{\"automargin\":true,\"type\":\"pie\"}],\"scatter\":[{\"marker\":{\"colorbar\":{\"outlinewidth\":0,\"ticks\":\"\"}},\"type\":\"scatter\"}],\"scatter3d\":[{\"line\":{\"colorbar\":{\"outlinewidth\":0,\"ticks\":\"\"}},\"marker\":{\"colorbar\":{\"outlinewidth\":0,\"ticks\":\"\"}},\"type\":\"scatter3d\"}],\"scattercarpet\":[{\"marker\":{\"colorbar\":{\"outlinewidth\":0,\"ticks\":\"\"}},\"type\":\"scattercarpet\"}],\"scattergeo\":[{\"marker\":{\"colorbar\":{\"outlinewidth\":0,\"ticks\":\"\"}},\"type\":\"scattergeo\"}],\"scattergl\":[{\"marker\":{\"colorbar\":{\"outlinewidth\":0,\"ticks\":\"\"}},\"type\":\"scattergl\"}],\"scattermapbox\":[{\"marker\":{\"colorbar\":{\"outlinewidth\":0,\"ticks\":\"\"}},\"type\":\"scattermapbox\"}],\"scatterpolar\":[{\"marker\":{\"colorbar\":{\"outlinewidth\":0,\"ticks\":\"\"}},\"type\":\"scatterpolar\"}],\"scatterpolargl\":[{\"marker\":{\"colorbar\":{\"outlinewidth\":0,\"ticks\":\"\"}},\"type\":\"scatterpolargl\"}],\"scatterternary\":[{\"marker\":{\"colorbar\":{\"outlinewidth\":0,\"ticks\":\"\"}},\"type\":\"scatterternary\"}],\"surface\":[{\"colorbar\":{\"outlinewidth\":0,\"ticks\":\"\"},\"colorscale\":[[0.0,\"#0d0887\"],[0.1111111111111111,\"#46039f\"],[0.2222222222222222,\"#7201a8\"],[0.3333333333333333,\"#9c179e\"],[0.4444444444444444,\"#bd3786\"],[0.5555555555555556,\"#d8576b\"],[0.6666666666666666,\"#ed7953\"],[0.7777777777777778,\"#fb9f3a\"],[0.8888888888888888,\"#fdca26\"],[1.0,\"#f0f921\"]],\"type\":\"surface\"}],\"table\":[{\"cells\":{\"fill\":{\"color\":\"#EBF0F8\"},\"line\":{\"color\":\"white\"}},\"header\":{\"fill\":{\"color\":\"#C8D4E3\"},\"line\":{\"color\":\"white\"}},\"type\":\"table\"}]},\"layout\":{\"annotationdefaults\":{\"arrowcolor\":\"#2a3f5f\",\"arrowhead\":0,\"arrowwidth\":1},\"autotypenumbers\":\"strict\",\"coloraxis\":{\"colorbar\":{\"outlinewidth\":0,\"ticks\":\"\"}},\"colorscale\":{\"diverging\":[[0,\"#8e0152\"],[0.1,\"#c51b7d\"],[0.2,\"#de77ae\"],[0.3,\"#f1b6da\"],[0.4,\"#fde0ef\"],[0.5,\"#f7f7f7\"],[0.6,\"#e6f5d0\"],[0.7,\"#b8e186\"],[0.8,\"#7fbc41\"],[0.9,\"#4d9221\"],[1,\"#276419\"]],\"sequential\":[[0.0,\"#0d0887\"],[0.1111111111111111,\"#46039f\"],[0.2222222222222222,\"#7201a8\"],[0.3333333333333333,\"#9c179e\"],[0.4444444444444444,\"#bd3786\"],[0.5555555555555556,\"#d8576b\"],[0.6666666666666666,\"#ed7953\"],[0.7777777777777778,\"#fb9f3a\"],[0.8888888888888888,\"#fdca26\"],[1.0,\"#f0f921\"]],\"sequentialminus\":[[0.0,\"#0d0887\"],[0.1111111111111111,\"#46039f\"],[0.2222222222222222,\"#7201a8\"],[0.3333333333333333,\"#9c179e\"],[0.4444444444444444,\"#bd3786\"],[0.5555555555555556,\"#d8576b\"],[0.6666666666666666,\"#ed7953\"],[0.7777777777777778,\"#fb9f3a\"],[0.8888888888888888,\"#fdca26\"],[1.0,\"#f0f921\"]]},\"colorway\":[\"#636efa\",\"#EF553B\",\"#00cc96\",\"#ab63fa\",\"#FFA15A\",\"#19d3f3\",\"#FF6692\",\"#B6E880\",\"#FF97FF\",\"#FECB52\"],\"font\":{\"color\":\"#2a3f5f\"},\"geo\":{\"bgcolor\":\"white\",\"lakecolor\":\"white\",\"landcolor\":\"#E5ECF6\",\"showlakes\":true,\"showland\":true,\"subunitcolor\":\"white\"},\"hoverlabel\":{\"align\":\"left\"},\"hovermode\":\"closest\",\"mapbox\":{\"style\":\"light\"},\"paper_bgcolor\":\"white\",\"plot_bgcolor\":\"#E5ECF6\",\"polar\":{\"angularaxis\":{\"gridcolor\":\"white\",\"linecolor\":\"white\",\"ticks\":\"\"},\"bgcolor\":\"#E5ECF6\",\"radialaxis\":{\"gridcolor\":\"white\",\"linecolor\":\"white\",\"ticks\":\"\"}},\"scene\":{\"xaxis\":{\"backgroundcolor\":\"#E5ECF6\",\"gridcolor\":\"white\",\"gridwidth\":2,\"linecolor\":\"white\",\"showbackground\":true,\"ticks\":\"\",\"zerolinecolor\":\"white\"},\"yaxis\":{\"backgroundcolor\":\"#E5ECF6\",\"gridcolor\":\"white\",\"gridwidth\":2,\"linecolor\":\"white\",\"showbackground\":true,\"ticks\":\"\",\"zerolinecolor\":\"white\"},\"zaxis\":{\"backgroundcolor\":\"#E5ECF6\",\"gridcolor\":\"white\",\"gridwidth\":2,\"linecolor\":\"white\",\"showbackground\":true,\"ticks\":\"\",\"zerolinecolor\":\"white\"}},\"shapedefaults\":{\"line\":{\"color\":\"#2a3f5f\"}},\"ternary\":{\"aaxis\":{\"gridcolor\":\"white\",\"linecolor\":\"white\",\"ticks\":\"\"},\"baxis\":{\"gridcolor\":\"white\",\"linecolor\":\"white\",\"ticks\":\"\"},\"bgcolor\":\"#E5ECF6\",\"caxis\":{\"gridcolor\":\"white\",\"linecolor\":\"white\",\"ticks\":\"\"}},\"title\":{\"x\":0.05},\"xaxis\":{\"automargin\":true,\"gridcolor\":\"white\",\"linecolor\":\"white\",\"ticks\":\"\",\"title\":{\"standoff\":15},\"zerolinecolor\":\"white\",\"zerolinewidth\":2},\"yaxis\":{\"automargin\":true,\"gridcolor\":\"white\",\"linecolor\":\"white\",\"ticks\":\"\",\"title\":{\"standoff\":15},\"zerolinecolor\":\"white\",\"zerolinewidth\":2}}},\"xaxis\":{\"anchor\":\"y\",\"domain\":[0.0,1.0],\"title\":{\"text\":\"steps\"}},\"yaxis\":{\"anchor\":\"x\",\"domain\":[0.0,1.0],\"title\":{\"text\":\"RMSE\"}},\"legend\":{\"tracegroupgap\":0},\"title\":{\"text\":\"RMSE Curve\"}},                        {\"responsive\": true}                    ).then(function(){\n",
              "                            \n",
              "var gd = document.getElementById('2d93d263-f944-4e61-bfef-909cb07d984c');\n",
              "var x = new MutationObserver(function (mutations, observer) {{\n",
              "        var display = window.getComputedStyle(gd).display;\n",
              "        if (!display || display === 'none') {{\n",
              "            console.log([gd, 'removed!']);\n",
              "            Plotly.purge(gd);\n",
              "            observer.disconnect();\n",
              "        }}\n",
              "}});\n",
              "\n",
              "// Listen for the removal of the full notebook cells\n",
              "var notebookContainer = gd.closest('#notebook-container');\n",
              "if (notebookContainer) {{\n",
              "    x.observe(notebookContainer, {childList: true});\n",
              "}}\n",
              "\n",
              "// Listen for the clearing of the current output cell\n",
              "var outputEl = gd.closest('.output');\n",
              "if (outputEl) {{\n",
              "    x.observe(outputEl, {childList: true});\n",
              "}}\n",
              "\n",
              "                        })                };                            </script>        </div>\n",
              "</body>\n",
              "</html>"
            ]
          },
          "metadata": {}
        }
      ]
    },
    {
      "cell_type": "code",
      "source": [
        "show_final_result(history_gd)\n"
      ],
      "metadata": {
        "colab": {
          "base_uri": "https://localhost:8080/",
          "height": 542
        },
        "id": "jsPgq_IbbJ_A",
        "outputId": "37dcb4cf-81ff-44c5-b92d-efd91d85758b"
      },
      "execution_count": 25,
      "outputs": [
        {
          "output_type": "display_data",
          "data": {
            "text/html": [
              "<html>\n",
              "<head><meta charset=\"utf-8\" /></head>\n",
              "<body>\n",
              "    <div>            <script src=\"https://cdnjs.cloudflare.com/ajax/libs/mathjax/2.7.5/MathJax.js?config=TeX-AMS-MML_SVG\"></script><script type=\"text/javascript\">if (window.MathJax) {MathJax.Hub.Config({SVG: {font: \"STIX-Web\"}});}</script>                <script type=\"text/javascript\">window.PlotlyConfig = {MathJaxConfig: 'local'};</script>\n",
              "        <script src=\"https://cdn.plot.ly/plotly-2.8.3.min.js\"></script>                <div id=\"075a8552-5de8-4ce7-aa47-cf9f6263ac1e\" class=\"plotly-graph-div\" style=\"height:525px; width:100%;\"></div>            <script type=\"text/javascript\">                                    window.PLOTLYENV=window.PLOTLYENV || {};                                    if (document.getElementById(\"075a8552-5de8-4ce7-aa47-cf9f6263ac1e\")) {                    Plotly.newPlot(                        \"075a8552-5de8-4ce7-aa47-cf9f6263ac1e\",                        [{\"hovertemplate\":\"x=%{x}<br>y=%{y}<extra></extra>\",\"legendgroup\":\"\",\"marker\":{\"color\":\"#636efa\",\"symbol\":\"circle\"},\"mode\":\"markers\",\"name\":\"\",\"orientation\":\"v\",\"showlegend\":false,\"x\":[-1.0,-0.9310344827586207,-0.8620689655172413,-0.7931034482758622,-0.7241379310344828,-0.6551724137931033,-0.5862068965517242,-0.5172413793103449,-0.4482758620689655,-0.3793103448275862,-0.31034482758620685,-0.2413793103448276,-0.1724137931034483,-0.10344827586206896,-0.034482758620689724,0.034482758620689724,0.10344827586206896,0.17241379310344815,0.2413793103448276,0.31034482758620685,0.3793103448275863,0.4482758620689655,0.5172413793103448,0.5862068965517242,0.6551724137931033,0.7241379310344825,0.7931034482758622,0.8620689655172413,0.9310344827586204,1.0],\"xaxis\":\"x\",\"y\":[-2.082017257233804,-1.3269802313838444,-1.1055977240262973,-0.8739457591687142,-0.28502695034535014,-0.43115252423091927,-0.7947540211451277,-0.8860680579535984,-0.8998997770490548,-0.86184365356424,-0.8880518330525755,-1.235951293792927,-0.7195682680177883,-0.45202285990396573,0.09889950915124585,0.34896972600016185,0.09747797375894944,0.7001980872761617,1.310512133875448,1.001775757402062,1.0031823117371639,1.1491012926538826,1.59220607240579,0.6090900916227516,0.5944162302173639,0.7030073199805744,0.8233224106817185,1.1064643946450328,1.42295695455042,2.309837684059688],\"yaxis\":\"y\",\"type\":\"scatter\"},{\"x\":[-1.0,-0.9310344827586207,-0.8620689655172413,-0.7931034482758622,-0.7241379310344828,-0.6551724137931033,-0.5862068965517242,-0.5172413793103449,-0.4482758620689655,-0.3793103448275862,-0.31034482758620685,-0.2413793103448276,-0.1724137931034483,-0.10344827586206896,-0.034482758620689724,0.034482758620689724,0.10344827586206896,0.17241379310344815,0.2413793103448276,0.31034482758620685,0.3793103448275863,0.4482758620689655,0.5172413793103448,0.5862068965517242,0.6551724137931033,0.7241379310344825,0.7931034482758622,0.8620689655172413,0.9310344827586204,1.0],\"y\":[-1.505636941746428,-1.3971335188762177,-1.2886300960060075,-1.1801266731357976,-1.0716232502655874,-0.963119827395377,-0.8546164045251672,-0.746112981654957,-0.6376095587847466,-0.5291061359145364,-0.4206027130443262,-0.31209929017411625,-0.2035958673039061,-0.0950924444336959,0.013410978436514093,0.12191440130672446,0.23041782417693452,0.33892124704714444,0.4474246699173548,0.5559280927875649,0.6644315156577753,0.7729349385279852,0.8814383613981951,0.9899417842684055,1.0984452071386155,1.2069486300088255,1.315452052879036,1.423955475749246,1.5324588986194558,1.6409623214896665],\"type\":\"scatter\"}],                        {\"template\":{\"data\":{\"bar\":[{\"error_x\":{\"color\":\"#2a3f5f\"},\"error_y\":{\"color\":\"#2a3f5f\"},\"marker\":{\"line\":{\"color\":\"#E5ECF6\",\"width\":0.5},\"pattern\":{\"fillmode\":\"overlay\",\"size\":10,\"solidity\":0.2}},\"type\":\"bar\"}],\"barpolar\":[{\"marker\":{\"line\":{\"color\":\"#E5ECF6\",\"width\":0.5},\"pattern\":{\"fillmode\":\"overlay\",\"size\":10,\"solidity\":0.2}},\"type\":\"barpolar\"}],\"carpet\":[{\"aaxis\":{\"endlinecolor\":\"#2a3f5f\",\"gridcolor\":\"white\",\"linecolor\":\"white\",\"minorgridcolor\":\"white\",\"startlinecolor\":\"#2a3f5f\"},\"baxis\":{\"endlinecolor\":\"#2a3f5f\",\"gridcolor\":\"white\",\"linecolor\":\"white\",\"minorgridcolor\":\"white\",\"startlinecolor\":\"#2a3f5f\"},\"type\":\"carpet\"}],\"choropleth\":[{\"colorbar\":{\"outlinewidth\":0,\"ticks\":\"\"},\"type\":\"choropleth\"}],\"contour\":[{\"colorbar\":{\"outlinewidth\":0,\"ticks\":\"\"},\"colorscale\":[[0.0,\"#0d0887\"],[0.1111111111111111,\"#46039f\"],[0.2222222222222222,\"#7201a8\"],[0.3333333333333333,\"#9c179e\"],[0.4444444444444444,\"#bd3786\"],[0.5555555555555556,\"#d8576b\"],[0.6666666666666666,\"#ed7953\"],[0.7777777777777778,\"#fb9f3a\"],[0.8888888888888888,\"#fdca26\"],[1.0,\"#f0f921\"]],\"type\":\"contour\"}],\"contourcarpet\":[{\"colorbar\":{\"outlinewidth\":0,\"ticks\":\"\"},\"type\":\"contourcarpet\"}],\"heatmap\":[{\"colorbar\":{\"outlinewidth\":0,\"ticks\":\"\"},\"colorscale\":[[0.0,\"#0d0887\"],[0.1111111111111111,\"#46039f\"],[0.2222222222222222,\"#7201a8\"],[0.3333333333333333,\"#9c179e\"],[0.4444444444444444,\"#bd3786\"],[0.5555555555555556,\"#d8576b\"],[0.6666666666666666,\"#ed7953\"],[0.7777777777777778,\"#fb9f3a\"],[0.8888888888888888,\"#fdca26\"],[1.0,\"#f0f921\"]],\"type\":\"heatmap\"}],\"heatmapgl\":[{\"colorbar\":{\"outlinewidth\":0,\"ticks\":\"\"},\"colorscale\":[[0.0,\"#0d0887\"],[0.1111111111111111,\"#46039f\"],[0.2222222222222222,\"#7201a8\"],[0.3333333333333333,\"#9c179e\"],[0.4444444444444444,\"#bd3786\"],[0.5555555555555556,\"#d8576b\"],[0.6666666666666666,\"#ed7953\"],[0.7777777777777778,\"#fb9f3a\"],[0.8888888888888888,\"#fdca26\"],[1.0,\"#f0f921\"]],\"type\":\"heatmapgl\"}],\"histogram\":[{\"marker\":{\"pattern\":{\"fillmode\":\"overlay\",\"size\":10,\"solidity\":0.2}},\"type\":\"histogram\"}],\"histogram2d\":[{\"colorbar\":{\"outlinewidth\":0,\"ticks\":\"\"},\"colorscale\":[[0.0,\"#0d0887\"],[0.1111111111111111,\"#46039f\"],[0.2222222222222222,\"#7201a8\"],[0.3333333333333333,\"#9c179e\"],[0.4444444444444444,\"#bd3786\"],[0.5555555555555556,\"#d8576b\"],[0.6666666666666666,\"#ed7953\"],[0.7777777777777778,\"#fb9f3a\"],[0.8888888888888888,\"#fdca26\"],[1.0,\"#f0f921\"]],\"type\":\"histogram2d\"}],\"histogram2dcontour\":[{\"colorbar\":{\"outlinewidth\":0,\"ticks\":\"\"},\"colorscale\":[[0.0,\"#0d0887\"],[0.1111111111111111,\"#46039f\"],[0.2222222222222222,\"#7201a8\"],[0.3333333333333333,\"#9c179e\"],[0.4444444444444444,\"#bd3786\"],[0.5555555555555556,\"#d8576b\"],[0.6666666666666666,\"#ed7953\"],[0.7777777777777778,\"#fb9f3a\"],[0.8888888888888888,\"#fdca26\"],[1.0,\"#f0f921\"]],\"type\":\"histogram2dcontour\"}],\"mesh3d\":[{\"colorbar\":{\"outlinewidth\":0,\"ticks\":\"\"},\"type\":\"mesh3d\"}],\"parcoords\":[{\"line\":{\"colorbar\":{\"outlinewidth\":0,\"ticks\":\"\"}},\"type\":\"parcoords\"}],\"pie\":[{\"automargin\":true,\"type\":\"pie\"}],\"scatter\":[{\"marker\":{\"colorbar\":{\"outlinewidth\":0,\"ticks\":\"\"}},\"type\":\"scatter\"}],\"scatter3d\":[{\"line\":{\"colorbar\":{\"outlinewidth\":0,\"ticks\":\"\"}},\"marker\":{\"colorbar\":{\"outlinewidth\":0,\"ticks\":\"\"}},\"type\":\"scatter3d\"}],\"scattercarpet\":[{\"marker\":{\"colorbar\":{\"outlinewidth\":0,\"ticks\":\"\"}},\"type\":\"scattercarpet\"}],\"scattergeo\":[{\"marker\":{\"colorbar\":{\"outlinewidth\":0,\"ticks\":\"\"}},\"type\":\"scattergeo\"}],\"scattergl\":[{\"marker\":{\"colorbar\":{\"outlinewidth\":0,\"ticks\":\"\"}},\"type\":\"scattergl\"}],\"scattermapbox\":[{\"marker\":{\"colorbar\":{\"outlinewidth\":0,\"ticks\":\"\"}},\"type\":\"scattermapbox\"}],\"scatterpolar\":[{\"marker\":{\"colorbar\":{\"outlinewidth\":0,\"ticks\":\"\"}},\"type\":\"scatterpolar\"}],\"scatterpolargl\":[{\"marker\":{\"colorbar\":{\"outlinewidth\":0,\"ticks\":\"\"}},\"type\":\"scatterpolargl\"}],\"scatterternary\":[{\"marker\":{\"colorbar\":{\"outlinewidth\":0,\"ticks\":\"\"}},\"type\":\"scatterternary\"}],\"surface\":[{\"colorbar\":{\"outlinewidth\":0,\"ticks\":\"\"},\"colorscale\":[[0.0,\"#0d0887\"],[0.1111111111111111,\"#46039f\"],[0.2222222222222222,\"#7201a8\"],[0.3333333333333333,\"#9c179e\"],[0.4444444444444444,\"#bd3786\"],[0.5555555555555556,\"#d8576b\"],[0.6666666666666666,\"#ed7953\"],[0.7777777777777778,\"#fb9f3a\"],[0.8888888888888888,\"#fdca26\"],[1.0,\"#f0f921\"]],\"type\":\"surface\"}],\"table\":[{\"cells\":{\"fill\":{\"color\":\"#EBF0F8\"},\"line\":{\"color\":\"white\"}},\"header\":{\"fill\":{\"color\":\"#C8D4E3\"},\"line\":{\"color\":\"white\"}},\"type\":\"table\"}]},\"layout\":{\"annotationdefaults\":{\"arrowcolor\":\"#2a3f5f\",\"arrowhead\":0,\"arrowwidth\":1},\"autotypenumbers\":\"strict\",\"coloraxis\":{\"colorbar\":{\"outlinewidth\":0,\"ticks\":\"\"}},\"colorscale\":{\"diverging\":[[0,\"#8e0152\"],[0.1,\"#c51b7d\"],[0.2,\"#de77ae\"],[0.3,\"#f1b6da\"],[0.4,\"#fde0ef\"],[0.5,\"#f7f7f7\"],[0.6,\"#e6f5d0\"],[0.7,\"#b8e186\"],[0.8,\"#7fbc41\"],[0.9,\"#4d9221\"],[1,\"#276419\"]],\"sequential\":[[0.0,\"#0d0887\"],[0.1111111111111111,\"#46039f\"],[0.2222222222222222,\"#7201a8\"],[0.3333333333333333,\"#9c179e\"],[0.4444444444444444,\"#bd3786\"],[0.5555555555555556,\"#d8576b\"],[0.6666666666666666,\"#ed7953\"],[0.7777777777777778,\"#fb9f3a\"],[0.8888888888888888,\"#fdca26\"],[1.0,\"#f0f921\"]],\"sequentialminus\":[[0.0,\"#0d0887\"],[0.1111111111111111,\"#46039f\"],[0.2222222222222222,\"#7201a8\"],[0.3333333333333333,\"#9c179e\"],[0.4444444444444444,\"#bd3786\"],[0.5555555555555556,\"#d8576b\"],[0.6666666666666666,\"#ed7953\"],[0.7777777777777778,\"#fb9f3a\"],[0.8888888888888888,\"#fdca26\"],[1.0,\"#f0f921\"]]},\"colorway\":[\"#636efa\",\"#EF553B\",\"#00cc96\",\"#ab63fa\",\"#FFA15A\",\"#19d3f3\",\"#FF6692\",\"#B6E880\",\"#FF97FF\",\"#FECB52\"],\"font\":{\"color\":\"#2a3f5f\"},\"geo\":{\"bgcolor\":\"white\",\"lakecolor\":\"white\",\"landcolor\":\"#E5ECF6\",\"showlakes\":true,\"showland\":true,\"subunitcolor\":\"white\"},\"hoverlabel\":{\"align\":\"left\"},\"hovermode\":\"closest\",\"mapbox\":{\"style\":\"light\"},\"paper_bgcolor\":\"white\",\"plot_bgcolor\":\"#E5ECF6\",\"polar\":{\"angularaxis\":{\"gridcolor\":\"white\",\"linecolor\":\"white\",\"ticks\":\"\"},\"bgcolor\":\"#E5ECF6\",\"radialaxis\":{\"gridcolor\":\"white\",\"linecolor\":\"white\",\"ticks\":\"\"}},\"scene\":{\"xaxis\":{\"backgroundcolor\":\"#E5ECF6\",\"gridcolor\":\"white\",\"gridwidth\":2,\"linecolor\":\"white\",\"showbackground\":true,\"ticks\":\"\",\"zerolinecolor\":\"white\"},\"yaxis\":{\"backgroundcolor\":\"#E5ECF6\",\"gridcolor\":\"white\",\"gridwidth\":2,\"linecolor\":\"white\",\"showbackground\":true,\"ticks\":\"\",\"zerolinecolor\":\"white\"},\"zaxis\":{\"backgroundcolor\":\"#E5ECF6\",\"gridcolor\":\"white\",\"gridwidth\":2,\"linecolor\":\"white\",\"showbackground\":true,\"ticks\":\"\",\"zerolinecolor\":\"white\"}},\"shapedefaults\":{\"line\":{\"color\":\"#2a3f5f\"}},\"ternary\":{\"aaxis\":{\"gridcolor\":\"white\",\"linecolor\":\"white\",\"ticks\":\"\"},\"baxis\":{\"gridcolor\":\"white\",\"linecolor\":\"white\",\"ticks\":\"\"},\"bgcolor\":\"#E5ECF6\",\"caxis\":{\"gridcolor\":\"white\",\"linecolor\":\"white\",\"ticks\":\"\"}},\"title\":{\"x\":0.05},\"xaxis\":{\"automargin\":true,\"gridcolor\":\"white\",\"linecolor\":\"white\",\"ticks\":\"\",\"title\":{\"standoff\":15},\"zerolinecolor\":\"white\",\"zerolinewidth\":2},\"yaxis\":{\"automargin\":true,\"gridcolor\":\"white\",\"linecolor\":\"white\",\"ticks\":\"\",\"title\":{\"standoff\":15},\"zerolinecolor\":\"white\",\"zerolinewidth\":2}}},\"xaxis\":{\"anchor\":\"y\",\"domain\":[0.0,1.0],\"title\":{\"text\":\"x\"}},\"yaxis\":{\"anchor\":\"x\",\"domain\":[0.0,1.0],\"title\":{\"text\":\"y\"}},\"legend\":{\"tracegroupgap\":0},\"title\":{\"text\":\"Model Result\"}},                        {\"responsive\": true}                    ).then(function(){\n",
              "                            \n",
              "var gd = document.getElementById('075a8552-5de8-4ce7-aa47-cf9f6263ac1e');\n",
              "var x = new MutationObserver(function (mutations, observer) {{\n",
              "        var display = window.getComputedStyle(gd).display;\n",
              "        if (!display || display === 'none') {{\n",
              "            console.log([gd, 'removed!']);\n",
              "            Plotly.purge(gd);\n",
              "            observer.disconnect();\n",
              "        }}\n",
              "}});\n",
              "\n",
              "// Listen for the removal of the full notebook cells\n",
              "var notebookContainer = gd.closest('#notebook-container');\n",
              "if (notebookContainer) {{\n",
              "    x.observe(notebookContainer, {childList: true});\n",
              "}}\n",
              "\n",
              "// Listen for the clearing of the current output cell\n",
              "var outputEl = gd.closest('.output');\n",
              "if (outputEl) {{\n",
              "    x.observe(outputEl, {childList: true});\n",
              "}}\n",
              "\n",
              "                        })                };                            </script>        </div>\n",
              "</body>\n",
              "</html>"
            ]
          },
          "metadata": {}
        }
      ]
    },
    {
      "cell_type": "markdown",
      "source": [
        "## **Gradiente Descendente Estocastico**"
      ],
      "metadata": {
        "id": "0ptjNY7yzhjj"
      }
    },
    {
      "cell_type": "markdown",
      "source": [
        "![gde.png](data:image/png;base64,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)"
      ],
      "metadata": {
        "id": "5UKIcTM_nlyT"
      }
    },
    {
      "cell_type": "code",
      "source": [
        "class StochasticGradientDescent(LinearAlgoritm):\n",
        "\n",
        "\tdef __step_training(self, x: np.ndarray, y: np.ndarray, model: LinearModel):\n",
        "\t\tpredicted = model.predict(x)\n",
        "\t\terror = (y - predicted)\n",
        "\t\tw = model.w + (self.alpha * (error * x.T - (self.l2_regulazation * model.w) ))\n",
        "\t\tmodel.update(w)\n",
        "\t\treturn model\n",
        "\n",
        "\tdef __training_loop(self, x: np.ndarray, y: np.ndarray, model: LinearModel):\n",
        "\t\tpbar = trange(self.ephocs)\n",
        "\t\tfor ephoc in pbar:\n",
        "\t\t\tfor observation, correct_value in zip(x, y):\n",
        "\t\t\t\tobservation, correct_value = observation.reshape([1, -1]), correct_value[0]\n",
        "\t\t\t\tmodel = self.__step_training(observation, correct_value, model)\n",
        "\t\t\t\tpredicted = model.predict(x)\n",
        "\t\t\t\terror = rmse(y, predicted)\n",
        "\n",
        "\t\t\t\tyield {\n",
        "\t\t\t\t\t'ephoc': ephoc,\n",
        "\t\t\t\t\t'model': model.__copy__(),\n",
        "\t\t\t\t\t'rmse_error': error\n",
        "\t\t\t\t}\n",
        "\n",
        "\t\t\tpbar.set_description(f\"RMSE: {error} \\n\")\n",
        "\n",
        "\tdef fit(self, x: np.ndarray, y: np.ndarray, **kwargs):\n",
        "\t\tfirst_model = LinearModel.first_model(\n",
        "\t\t\tlenght=x.shape[1],\n",
        "\t\t\tfill_value=self.initial_w_values\n",
        "\t\t)\n",
        "\n",
        "\t\tidx = np.arange(x.shape[0])\n",
        "\t\tnp.random.shuffle(idx)\n",
        "\n",
        "\t\tx_shuffle = x[idx]\n",
        "\t\ty_shuffle = y[idx]\n",
        "\n",
        "\t\thistory = list(self.__training_loop(x_shuffle, y_shuffle, first_model))\n",
        "\n",
        "\t\tif self.with_history_predictions:\n",
        "\t\t\treturn history\n",
        "\n",
        "\t\tfinal_model = history[-1]['model']\n",
        "\n",
        "\t\treturn final_model"
      ],
      "metadata": {
        "id": "djFWbUUfb-XB"
      },
      "execution_count": 29,
      "outputs": []
    },
    {
      "cell_type": "code",
      "source": [
        "gde = StochasticGradientDescent(ephocs=100, with_history_predictions=True, l2_regulazation=0.001)"
      ],
      "metadata": {
        "id": "SNWDC3F9cEnq"
      },
      "execution_count": 30,
      "outputs": []
    },
    {
      "cell_type": "code",
      "source": [
        "history_gde = gde.fit(X_ones, y)\n"
      ],
      "metadata": {
        "colab": {
          "base_uri": "https://localhost:8080/",
          "height": 49,
          "referenced_widgets": [
            "ce817688310b4c0cbde5e5917c1cda0a",
            "b48f9ebe39274fcca1bf7f896eaaa5ab",
            "0261c5bb7060479680d562d339ef27f6",
            "d831433e424d4eff83d998fd36245c94",
            "098d576725744a7f89fd1c5107d7d08a",
            "a3d68935a67546169566684d1168443a",
            "23a7a5c0bb6b459d99797c6413210d59",
            "75e65ecd56db49df989f7c4a6984328b",
            "f836fec90598419d83bef49e57144a0f",
            "8b9bd708104647a180cdf276083a9669",
            "3bd2127f44a74c68b688dde86e8cca41"
          ]
        },
        "id": "ulO2uCS8cKLA",
        "outputId": "a34327e1-2054-4d9b-c2fd-38903a908a68"
      },
      "execution_count": 31,
      "outputs": [
        {
          "output_type": "display_data",
          "data": {
            "text/plain": [
              "  0%|          | 0/100 [00:00<?, ?it/s]"
            ],
            "application/vnd.jupyter.widget-view+json": {
              "version_major": 2,
              "version_minor": 0,
              "model_id": "ce817688310b4c0cbde5e5917c1cda0a"
            }
          },
          "metadata": {}
        }
      ]
    },
    {
      "cell_type": "code",
      "source": [
        "show_rmse_curve(history_gde)\n"
      ],
      "metadata": {
        "colab": {
          "base_uri": "https://localhost:8080/",
          "height": 542
        },
        "id": "ucbvU-PscPdz",
        "outputId": "3ce2733c-8e73-4f52-baba-1d4e69c2cdc0"
      },
      "execution_count": 32,
      "outputs": [
        {
          "output_type": "display_data",
          "data": {
            "text/html": [
              "<html>\n",
              "<head><meta charset=\"utf-8\" /></head>\n",
              "<body>\n",
              "    <div>            <script src=\"https://cdnjs.cloudflare.com/ajax/libs/mathjax/2.7.5/MathJax.js?config=TeX-AMS-MML_SVG\"></script><script type=\"text/javascript\">if (window.MathJax) {MathJax.Hub.Config({SVG: {font: \"STIX-Web\"}});}</script>                <script type=\"text/javascript\">window.PlotlyConfig = {MathJaxConfig: 'local'};</script>\n",
              "        <script src=\"https://cdn.plot.ly/plotly-2.8.3.min.js\"></script>                <div id=\"f2630d0f-25d7-451c-80d6-ab3eb742eed9\" class=\"plotly-graph-div\" style=\"height:525px; width:100%;\"></div>            <script type=\"text/javascript\">                                    window.PLOTLYENV=window.PLOTLYENV || {};                                    if (document.getElementById(\"f2630d0f-25d7-451c-80d6-ab3eb742eed9\")) {                    Plotly.newPlot(                        \"f2630d0f-25d7-451c-80d6-ab3eb742eed9\",                        [{\"hovertemplate\":\"steps=%{x}<br>RMSE=%{y}<extra></extra>\",\"legendgroup\":\"\",\"line\":{\"color\":\"#636efa\",\"dash\":\"solid\"},\"marker\":{\"symbol\":\"circle\"},\"mode\":\"lines\",\"name\":\"\",\"showlegend\":false,\"x\":[0,1,2,3,4,5,6,7,8,9,10,11,12,13,14,15,16,17,18,19,20,21,22,23,24,25,26,27,28,29,30,31,32,33,34,35,36,37,38,39,40,41,42,43,44,45,46,47,48,49,50,51,52,53,54,55,56,57,58,59,60,61,62,63,64,65,66,67,68,69,70,71,72,73,74,75,76,77,78,79,80,81,82,83,84,85,86,87,88,89,90,91,92,93,94,95,96,97,98,99,100,101,102,103,104,105,106,107,108,109,110,111,112,113,114,115,116,117,118,119,120,121,122,123,124,125,126,127,128,129,130,131,132,133,134,135,136,137,138,139,140,141,142,143,144,145,146,147,148,149,150,151,152,153,154,155,156,157,158,159,160,161,162,163,164,165,166,167,168,169,170,171,172,173,174,175,176,177,178,179,180,181,182,183,184,185,186,187,188,189,190,191,192,193,194,195,196,197,198,199,200,201,202,203,204,205,206,207,208,209,210,211,212,213,214,215,216,217,218,219,220,221,222,223,224,225,226,227,228,229,230,231,232,233,234,235,236,237,238,239,240,241,242,243,244,245,246,247,248,249,250,251,252,253,254,255,256,257,258,259,260,261,262,263,264,265,266,267,268,269,270,271,272,273,274,275,276,277,278,279,280,281,282,283,284,285,286,287,288,289,290,291,292,293,294,295,296,297,298,299,300,301,302,303,304,305,306,307,308,309,310,311,312,313,314,315,316,317,318,319,320,321,322,323,324,325,326,327,328,329,330,331,332,333,334,335,336,337,338,339,340,341,342,343,344,345,346,347,348,349,350,351,352,353,354,355,356,357,358,359,360,361,362,363,364,365,366,367,368,369,370,371,372,373,374,375,376,377,378,379,380,381,382,383,384,385,386,387,388,389,390,391,392,393,394,395,396,397,398,399,400,401,402,403,404,405,406,407,408,409,410,411,412,413,414,415,416,417,418,419,420,421,422,423,424,425,426,427,428,429,430,431,432,433,434,435,436,437,438,439,440,441,442,443,444,445,446,447,448,449,450,451,452,453,454,455,456,457,458,459,460,461,462,463,464,465,466,467,468,469,470,471,472,473,474,475,476,477,478,479,480,481,482,483,484,485,486,487,488,489,490,491,492,493,494,495,496,497,498,499,500,501,502,503,504,505,506,507,508,509,510,511,512,513,514,515,516,517,518,519,520,521,522,523,524,525,526,527,528,529,530,531,532,533,534,535,536,537,538,539,540,541,542,543,544,545,546,547,548,549,550,551,552,553,554,555,556,557,558,559,560,561,562,563,564,565,566,567,568,569,570,571,572,573,574,575,576,577,578,579,580,581,582,583,584,585,586,587,588,589,590,591,592,593,594,595,596,597,598,599,600,601,602,603,604,605,606,607,608,609,610,611,612,613,614,615,616,617,618,619,620,621,622,623,624,625,626,627,628,629,630,631,632,633,634,635,636,637,638,639,640,641,642,643,644,645,646,647,648,649,650,651,652,653,654,655,656,657,658,659,660,661,662,663,664,665,666,667,668,669,670,671,672,673,674,675,676,677,678,679,680,681,682,683,684,685,686,687,688,689,690,691,692,693,694,695,696,697,698,699,700,701,702,703,704,705,706,707,708,709,710,711,712,713,714,715,716,717,718,719,720,721,722,723,724,725,726,727,728,729,730,731,732,733,734,735,736,737,738,739,740,741,742,743,744,745,746,747,748,749,750,751,752,753,754,755,756,757,758,759,760,761,762,763,764,765,766,767,768,769,770,771,772,773,774,775,776,777,778,779,780,781,782,783,784,785,786,787,788,789,790,791,792,793,794,795,796,797,798,799,800,801,802,803,804,805,806,807,808,809,810,811,812,813,814,815,816,817,818,819,820,821,822,823,824,825,826,827,828,829,830,831,832,833,834,835,836,837,838,839,840,841,842,843,844,845,846,847,848,849,850,851,852,853,854,855,856,857,858,859,860,861,862,863,864,865,866,867,868,869,870,871,872,873,874,875,876,877,878,879,880,881,882,883,884,885,886,887,888,889,890,891,892,893,894,895,896,897,898,899,900,901,902,903,904,905,906,907,908,909,910,911,912,913,914,915,916,917,918,919,920,921,922,923,924,925,926,927,928,929,930,931,932,933,934,935,936,937,938,939,940,941,942,943,944,945,946,947,948,949,950,951,952,953,954,955,956,957,958,959,960,961,962,963,964,965,966,967,968,969,970,971,972,973,974,975,976,977,978,979,980,981,982,983,984,985,986,987,988,989,990,991,992,993,994,995,996,997,998,999,1000,1001,1002,1003,1004,1005,1006,1007,1008,1009,1010,1011,1012,1013,1014,1015,1016,1017,1018,1019,1020,1021,1022,1023,1024,1025,1026,1027,1028,1029,1030,1031,1032,1033,1034,1035,1036,1037,1038,1039,1040,1041,1042,1043,1044,1045,1046,1047,1048,1049,1050,1051,1052,1053,1054,1055,1056,1057,1058,1059,1060,1061,1062,1063,1064,1065,1066,1067,1068,1069,1070,1071,1072,1073,1074,1075,1076,1077,1078,1079,1080,1081,1082,1083,1084,1085,1086,1087,1088,1089,1090,1091,1092,1093,1094,1095,1096,1097,1098,1099,1100,1101,1102,1103,1104,1105,1106,1107,1108,1109,1110,1111,1112,1113,1114,1115,1116,1117,1118,1119,1120,1121,1122,1123,1124,1125,1126,1127,1128,1129,1130,1131,1132,1133,1134,1135,1136,1137,1138,1139,1140,1141,1142,1143,1144,1145,1146,1147,1148,1149,1150,1151,1152,1153,1154,1155,1156,1157,1158,1159,1160,1161,1162,1163,1164,1165,1166,1167,1168,1169,1170,1171,1172,1173,1174,1175,1176,1177,1178,1179,1180,1181,1182,1183,1184,1185,1186,1187,1188,1189,1190,1191,1192,1193,1194,1195,1196,1197,1198,1199,1200,1201,1202,1203,1204,1205,1206,1207,1208,1209,1210,1211,1212,1213,1214,1215,1216,1217,1218,1219,1220,1221,1222,1223,1224,1225,1226,1227,1228,1229,1230,1231,1232,1233,1234,1235,1236,1237,1238,1239,1240,1241,1242,1243,1244,1245,1246,1247,1248,1249,1250,1251,1252,1253,1254,1255,1256,1257,1258,1259,1260,1261,1262,1263,1264,1265,1266,1267,1268,1269,1270,1271,1272,1273,1274,1275,1276,1277,1278,1279,1280,1281,1282,1283,1284,1285,1286,1287,1288,1289,1290,1291,1292,1293,1294,1295,1296,1297,1298,1299,1300,1301,1302,1303,1304,1305,1306,1307,1308,1309,1310,1311,1312,1313,1314,1315,1316,1317,1318,1319,1320,1321,1322,1323,1324,1325,1326,1327,1328,1329,1330,1331,1332,1333,1334,1335,1336,1337,1338,1339,1340,1341,1342,1343,1344,1345,1346,1347,1348,1349,1350,1351,1352,1353,1354,1355,1356,1357,1358,1359,1360,1361,1362,1363,1364,1365,1366,1367,1368,1369,1370,1371,1372,1373,1374,1375,1376,1377,1378,1379,1380,1381,1382,1383,1384,1385,1386,1387,1388,1389,1390,1391,1392,1393,1394,1395,1396,1397,1398,1399,1400,1401,1402,1403,1404,1405,1406,1407,1408,1409,1410,1411,1412,1413,1414,1415,1416,1417,1418,1419,1420,1421,1422,1423,1424,1425,1426,1427,1428,1429,1430,1431,1432,1433,1434,1435,1436,1437,1438,1439,1440,1441,1442,1443,1444,1445,1446,1447,1448,1449,1450,1451,1452,1453,1454,1455,1456,1457,1458,1459,1460,1461,1462,1463,1464,1465,1466,1467,1468,1469,1470,1471,1472,1473,1474,1475,1476,1477,1478,1479,1480,1481,1482,1483,1484,1485,1486,1487,1488,1489,1490,1491,1492,1493,1494,1495,1496,1497,1498,1499,1500,1501,1502,1503,1504,1505,1506,1507,1508,1509,1510,1511,1512,1513,1514,1515,1516,1517,1518,1519,1520,1521,1522,1523,1524,1525,1526,1527,1528,1529,1530,1531,1532,1533,1534,1535,1536,1537,1538,1539,1540,1541,1542,1543,1544,1545,1546,1547,1548,1549,1550,1551,1552,1553,1554,1555,1556,1557,1558,1559,1560,1561,1562,1563,1564,1565,1566,1567,1568,1569,1570,1571,1572,1573,1574,1575,1576,1577,1578,1579,1580,1581,1582,1583,1584,1585,1586,1587,1588,1589,1590,1591,1592,1593,1594,1595,1596,1597,1598,1599,1600,1601,1602,1603,1604,1605,1606,1607,1608,1609,1610,1611,1612,1613,1614,1615,1616,1617,1618,1619,1620,1621,1622,1623,1624,1625,1626,1627,1628,1629,1630,1631,1632,1633,1634,1635,1636,1637,1638,1639,1640,1641,1642,1643,1644,1645,1646,1647,1648,1649,1650,1651,1652,1653,1654,1655,1656,1657,1658,1659,1660,1661,1662,1663,1664,1665,1666,1667,1668,1669,1670,1671,1672,1673,1674,1675,1676,1677,1678,1679,1680,1681,1682,1683,1684,1685,1686,1687,1688,1689,1690,1691,1692,1693,1694,1695,1696,1697,1698,1699,1700,1701,1702,1703,1704,1705,1706,1707,1708,1709,1710,1711,1712,1713,1714,1715,1716,1717,1718,1719,1720,1721,1722,1723,1724,1725,1726,1727,1728,1729,1730,1731,1732,1733,1734,1735,1736,1737,1738,1739,1740,1741,1742,1743,1744,1745,1746,1747,1748,1749,1750,1751,1752,1753,1754,1755,1756,1757,1758,1759,1760,1761,1762,1763,1764,1765,1766,1767,1768,1769,1770,1771,1772,1773,1774,1775,1776,1777,1778,1779,1780,1781,1782,1783,1784,1785,1786,1787,1788,1789,1790,1791,1792,1793,1794,1795,1796,1797,1798,1799,1800,1801,1802,1803,1804,1805,1806,1807,1808,1809,1810,1811,1812,1813,1814,1815,1816,1817,1818,1819,1820,1821,1822,1823,1824,1825,1826,1827,1828,1829,1830,1831,1832,1833,1834,1835,1836,1837,1838,1839,1840,1841,1842,1843,1844,1845,1846,1847,1848,1849,1850,1851,1852,1853,1854,1855,1856,1857,1858,1859,1860,1861,1862,1863,1864,1865,1866,1867,1868,1869,1870,1871,1872,1873,1874,1875,1876,1877,1878,1879,1880,1881,1882,1883,1884,1885,1886,1887,1888,1889,1890,1891,1892,1893,1894,1895,1896,1897,1898,1899,1900,1901,1902,1903,1904,1905,1906,1907,1908,1909,1910,1911,1912,1913,1914,1915,1916,1917,1918,1919,1920,1921,1922,1923,1924,1925,1926,1927,1928,1929,1930,1931,1932,1933,1934,1935,1936,1937,1938,1939,1940,1941,1942,1943,1944,1945,1946,1947,1948,1949,1950,1951,1952,1953,1954,1955,1956,1957,1958,1959,1960,1961,1962,1963,1964,1965,1966,1967,1968,1969,1970,1971,1972,1973,1974,1975,1976,1977,1978,1979,1980,1981,1982,1983,1984,1985,1986,1987,1988,1989,1990,1991,1992,1993,1994,1995,1996,1997,1998,1999,2000,2001,2002,2003,2004,2005,2006,2007,2008,2009,2010,2011,2012,2013,2014,2015,2016,2017,2018,2019,2020,2021,2022,2023,2024,2025,2026,2027,2028,2029,2030,2031,2032,2033,2034,2035,2036,2037,2038,2039,2040,2041,2042,2043,2044,2045,2046,2047,2048,2049,2050,2051,2052,2053,2054,2055,2056,2057,2058,2059,2060,2061,2062,2063,2064,2065,2066,2067,2068,2069,2070,2071,2072,2073,2074,2075,2076,2077,2078,2079,2080,2081,2082,2083,2084,2085,2086,2087,2088,2089,2090,2091,2092,2093,2094,2095,2096,2097,2098,2099,2100,2101,2102,2103,2104,2105,2106,2107,2108,2109,2110,2111,2112,2113,2114,2115,2116,2117,2118,2119,2120,2121,2122,2123,2124,2125,2126,2127,2128,2129,2130,2131,2132,2133,2134,2135,2136,2137,2138,2139,2140,2141,2142,2143,2144,2145,2146,2147,2148,2149,2150,2151,2152,2153,2154,2155,2156,2157,2158,2159,2160,2161,2162,2163,2164,2165,2166,2167,2168,2169,2170,2171,2172,2173,2174,2175,2176,2177,2178,2179,2180,2181,2182,2183,2184,2185,2186,2187,2188,2189,2190,2191,2192,2193,2194,2195,2196,2197,2198,2199,2200,2201,2202,2203,2204,2205,2206,2207,2208,2209,2210,2211,2212,2213,2214,2215,2216,2217,2218,2219,2220,2221,2222,2223,2224,2225,2226,2227,2228,2229,2230,2231,2232,2233,2234,2235,2236,2237,2238,2239,2240,2241,2242,2243,2244,2245,2246,2247,2248,2249,2250,2251,2252,2253,2254,2255,2256,2257,2258,2259,2260,2261,2262,2263,2264,2265,2266,2267,2268,2269,2270,2271,2272,2273,2274,2275,2276,2277,2278,2279,2280,2281,2282,2283,2284,2285,2286,2287,2288,2289,2290,2291,2292,2293,2294,2295,2296,2297,2298,2299,2300,2301,2302,2303,2304,2305,2306,2307,2308,2309,2310,2311,2312,2313,2314,2315,2316,2317,2318,2319,2320,2321,2322,2323,2324,2325,2326,2327,2328,2329,2330,2331,2332,2333,2334,2335,2336,2337,2338,2339,2340,2341,2342,2343,2344,2345,2346,2347,2348,2349,2350,2351,2352,2353,2354,2355,2356,2357,2358,2359,2360,2361,2362,2363,2364,2365,2366,2367,2368,2369,2370,2371,2372,2373,2374,2375,2376,2377,2378,2379,2380,2381,2382,2383,2384,2385,2386,2387,2388,2389,2390,2391,2392,2393,2394,2395,2396,2397,2398,2399,2400,2401,2402,2403,2404,2405,2406,2407,2408,2409,2410,2411,2412,2413,2414,2415,2416,2417,2418,2419,2420,2421,2422,2423,2424,2425,2426,2427,2428,2429,2430,2431,2432,2433,2434,2435,2436,2437,2438,2439,2440,2441,2442,2443,2444,2445,2446,2447,2448,2449,2450,2451,2452,2453,2454,2455,2456,2457,2458,2459,2460,2461,2462,2463,2464,2465,2466,2467,2468,2469,2470,2471,2472,2473,2474,2475,2476,2477,2478,2479,2480,2481,2482,2483,2484,2485,2486,2487,2488,2489,2490,2491,2492,2493,2494,2495,2496,2497,2498,2499,2500,2501,2502,2503,2504,2505,2506,2507,2508,2509,2510,2511,2512,2513,2514,2515,2516,2517,2518,2519,2520,2521,2522,2523,2524,2525,2526,2527,2528,2529,2530,2531,2532,2533,2534,2535,2536,2537,2538,2539,2540,2541,2542,2543,2544,2545,2546,2547,2548,2549,2550,2551,2552,2553,2554,2555,2556,2557,2558,2559,2560,2561,2562,2563,2564,2565,2566,2567,2568,2569,2570,2571,2572,2573,2574,2575,2576,2577,2578,2579,2580,2581,2582,2583,2584,2585,2586,2587,2588,2589,2590,2591,2592,2593,2594,2595,2596,2597,2598,2599,2600,2601,2602,2603,2604,2605,2606,2607,2608,2609,2610,2611,2612,2613,2614,2615,2616,2617,2618,2619,2620,2621,2622,2623,2624,2625,2626,2627,2628,2629,2630,2631,2632,2633,2634,2635,2636,2637,2638,2639,2640,2641,2642,2643,2644,2645,2646,2647,2648,2649,2650,2651,2652,2653,2654,2655,2656,2657,2658,2659,2660,2661,2662,2663,2664,2665,2666,2667,2668,2669,2670,2671,2672,2673,2674,2675,2676,2677,2678,2679,2680,2681,2682,2683,2684,2685,2686,2687,2688,2689,2690,2691,2692,2693,2694,2695,2696,2697,2698,2699,2700,2701,2702,2703,2704,2705,2706,2707,2708,2709,2710,2711,2712,2713,2714,2715,2716,2717,2718,2719,2720,2721,2722,2723,2724,2725,2726,2727,2728,2729,2730,2731,2732,2733,2734,2735,2736,2737,2738,2739,2740,2741,2742,2743,2744,2745,2746,2747,2748,2749,2750,2751,2752,2753,2754,2755,2756,2757,2758,2759,2760,2761,2762,2763,2764,2765,2766,2767,2768,2769,2770,2771,2772,2773,2774,2775,2776,2777,2778,2779,2780,2781,2782,2783,2784,2785,2786,2787,2788,2789,2790,2791,2792,2793,2794,2795,2796,2797,2798,2799,2800,2801,2802,2803,2804,2805,2806,2807,2808,2809,2810,2811,2812,2813,2814,2815,2816,2817,2818,2819,2820,2821,2822,2823,2824,2825,2826,2827,2828,2829,2830,2831,2832,2833,2834,2835,2836,2837,2838,2839,2840,2841,2842,2843,2844,2845,2846,2847,2848,2849,2850,2851,2852,2853,2854,2855,2856,2857,2858,2859,2860,2861,2862,2863,2864,2865,2866,2867,2868,2869,2870,2871,2872,2873,2874,2875,2876,2877,2878,2879,2880,2881,2882,2883,2884,2885,2886,2887,2888,2889,2890,2891,2892,2893,2894,2895,2896,2897,2898,2899,2900,2901,2902,2903,2904,2905,2906,2907,2908,2909,2910,2911,2912,2913,2914,2915,2916,2917,2918,2919,2920,2921,2922,2923,2924,2925,2926,2927,2928,2929,2930,2931,2932,2933,2934,2935,2936,2937,2938,2939,2940,2941,2942,2943,2944,2945,2946,2947,2948,2949,2950,2951,2952,2953,2954,2955,2956,2957,2958,2959,2960,2961,2962,2963,2964,2965,2966,2967,2968,2969,2970,2971,2972,2973,2974,2975,2976,2977,2978,2979,2980,2981,2982,2983,2984,2985,2986,2987,2988,2989,2990,2991,2992,2993,2994,2995,2996,2997,2998,2999],\"xaxis\":\"x\",\"y\":[1.0894652411707493,1.0789498893931926,1.0722729734995593,1.0566880764764894,1.049843534076027,1.044300024466379,1.0391794418785514,1.0249471350746122,1.0236402050380675,1.0080317994120327,0.9982613317023209,0.9876225461697491,0.9790188280882066,0.965489075377452,0.960180213965149,0.9462811396180346,0.9441860431152514,0.9406212647822428,0.9364126164094055,0.929307464879383,0.9184645088474032,0.9141230215553241,0.9008128343805651,0.8981237634533414,0.8931792497147455,0.8845365630361667,0.8852566629625125,0.8751770892774097,0.873895042830892,0.8644520108217637,0.8588960045948705,0.8513120282928995,0.8468147184495862,0.8342002039506079,0.8302404906505445,0.8273997313260388,0.8240447614845227,0.8133021367031766,0.8142812392961469,0.8023112918774843,0.7949752252833922,0.7869810016539939,0.780644905986472,0.7706315065085004,0.7678499488821503,0.7572581527285305,0.7568437285162367,0.7549632878991479,0.7523879698590108,0.7472711838569147,0.7389223616956815,0.7367536115205628,0.7267378283328961,0.7265226052674736,0.72364606723835,0.7169066692106201,0.7187353261436048,0.7117284489666269,0.7123704941280674,0.7051638807215183,0.7016008826544551,0.6962562679465262,0.6933624952697717,0.6832959724138873,0.6813513738009915,0.680349031060425,0.6782730527098773,0.6702946236298425,0.6726309016629456,0.6635847149275554,0.6581754463116108,0.6522796493753366,0.6477156098816199,0.6404597288708083,0.6393809316836858,0.6314636530398637,0.6320840542943288,0.631340222855941,0.6299151344668674,0.6263196630162694,0.6200129592066614,0.619277533740396,0.611910962299685,0.6131495431879725,0.6116888897579565,0.6065413844098867,0.6088869190752714,0.6041707706484155,0.6058927041167906,0.6004960041861906,0.5983451608576472,0.5946821337742039,0.5929243428130625,0.58507373157007,0.5844312694826913,0.5845594111644807,0.5833667836830547,0.5775626538383833,0.5804984590348494,0.573791870066342,0.5698920742896708,0.5656434237997954,0.5624411265815462,0.5573117166321284,0.5572643342825637,0.5514861975678357,0.5526220832287686,0.552570564674554,0.5519016355587115,0.5494390953892018,0.5447844005507421,0.5448873700316075,0.5396124534448759,0.5415036294504451,0.5409333939903509,0.5370977196669512,0.5395098429632906,0.5364358961066389,0.5385881062577931,0.5346277180596137,0.5334187609653942,0.5309727277020618,0.5299727886918977,0.5240067507400666,0.5241074008606608,0.5248203266197609,0.5241957206458807,0.5200528977923932,0.5230393600332018,0.5181541925017676,0.5154000081523176,0.5124027109733906,0.5102088660424106,0.5066593525166677,0.5071374281365687,0.5030119190956456,0.504292377122029,0.5046000259787062,0.5043830191624527,0.5027284775896296,0.49936318008897784,0.4998682250411343,0.4961819739782999,0.49817761690680146,0.498105214375894,0.4953096362677329,0.4975058527138698,0.4955508741081649,0.4977035557738388,0.4948414887607323,0.49421607267628737,0.49261060772255166,0.4920811495760472,0.48764660266222304,0.4880970356417204,0.4890238802152088,0.48873456443705293,0.4858112169643755,0.48852498228562363,0.4850034714006883,0.48308403422773083,0.4809988176668545,0.47952002724956927,0.4770943457193041,0.47776459270498084,0.4748623704422105,0.47606798176523346,0.47651583333686914,0.4765392319909691,0.4754358620138438,0.47303490925221986,0.4736648344985236,0.4711352952791443,0.4729304499939896,0.47309520024044815,0.47108913155983834,0.47294101293597807,0.47171334941785636,0.47363880899202354,0.4715851093960086,0.4712951867518489,0.4702466919623107,0.4699892441402202,0.4667421497631554,0.46730239212347713,0.46822965955234225,0.46812091166979936,0.46606151430606735,0.4683667956715179,0.46583116579206596,0.4644993854627591,0.46305635016068486,0.462067246767623,0.46041388244474324,0.4610899189194414,0.4590622756611531,0.4600938474129474,0.4605587580494933,0.4606920208579277,0.4599525911269459,0.4582488676982202,0.4588551973259056,0.4571417753769822,0.4586128226621204,0.45886250710903254,0.45743589501299164,0.45892135679192964,0.45815119431680007,0.4597665842159771,0.45829167980907737,0.458181446955408,0.45749227838346423,0.45738218203315373,0.4550241062246564,0.45556920891184627,0.4563970686923763,0.4563759586929563,0.45491527157281986,0.45679612347457976,0.45495755595938137,0.45403113252593386,0.45303118489914157,0.4523710565502134,0.45123855743108426,0.4518349508563831,0.45042019531128485,0.4512535799904977,0.4516778467911439,0.4518490072778451,0.451346084452611,0.45013676512628453,0.45065570235328506,0.44950877816252527,0.45063910801238544,0.45089566430408773,0.4498861295476776,0.451038830999643,0.4505519278569619,0.4518569168976916,0.4507906102226341,0.45076978297996717,0.4503100210435523,0.4502748024240437,0.44856870347818073,0.44904560675472555,0.4497420165590959,0.4497574062751811,0.4487081851576365,0.45020792914870156,0.4488576189528604,0.448208915521549,0.44751268843401865,0.44707253166047867,0.44628975495258083,0.4467792148992962,0.4457910569902385,0.4464397383401883,0.446803433154425,0.44697701910092746,0.44662755881748206,0.44576638071949604,0.4461811287440227,0.44542594992690276,0.446249385549235,0.44647864672559107,0.445766966123092,0.44664112473765305,0.4463293364126088,0.4473607557246044,0.44658186341650263,0.44660137135971434,0.4462884438532265,0.44628841432722105,0.4450558948573226,0.4454503381499144,0.4460174508862511,0.44604337563854135,0.4452773938105349,0.44645978134413056,0.44545141512337333,0.4449935060179235,0.4445060726279617,0.4442137857307617,0.44366707586216775,0.44405103632840204,0.44336039278709616,0.44385222911469463,0.4441543127533412,0.4443152300045256,0.4440661837970774,0.4434504082376698,0.4437664885574892,0.44328331752338085,0.443850740218495,0.4440417575718449,0.44354268133428515,0.44419420551201394,0.4439916276077718,0.44479743074739314,0.4442212847665636,0.44425593296792804,0.4440380388899519,0.44405254068644157,0.44316307842600117,0.44347903330154725,0.44393318738410037,0.44395765285821714,0.4433880561755923,0.44431731712627254,0.44354962643336815,0.44322383960494466,0.4428810972299491,0.44268929065231916,0.4423036229504736,0.44259531639119754,0.4421135171552867,0.4424787642126848,0.4427261975906389,0.4428697696983022,0.44268734419326833,0.4422454426574645,0.44247693836673074,0.44218413659511263,0.442547026445571,0.4426998827322174,0.44235305541947,0.44283147666802153,0.44269805639303794,0.44332479988548235,0.4428925201320894,0.44293018146265795,0.4427747732491947,0.44279362021846536,0.44215287621369126,0.4424013418897986,0.44276269392240736,0.44278097590972554,0.4423488474250598,0.44308140518175926,0.4424843294869973,0.4422509524644938,0.44200948264881834,0.4418868398056395,0.44161241605646645,0.4418282586097576,0.44149426004622616,0.4417603730639813,0.44196252572508565,0.4420889260478691,0.44195141587917963,0.4416335269778001,0.4417962714719608,0.44163791774358935,0.44184161627565954,0.4419608992379007,0.44172361178330694,0.4420697293543478,0.4419809347699869,0.4424688808998191,0.4421393828319825,0.4421747685122063,0.442061172498124,0.4420797099227858,0.44161971720603777,0.4418132074642247,0.4421010010394781,0.44211192141634265,0.44177696541550154,0.44235915496824396,0.44188393722091884,0.4417158461783794,0.44154597018378977,0.4414715500742253,0.44127492831123366,0.441430618742752,0.4412020720215424,0.44139200409578977,0.44155807653931967,0.4416694266283962,0.4415626872769079,0.44133383605979853,0.44144243914479164,0.44137987178168364,0.4414617032370637,0.4415532718781118,0.4413951778514778,0.441641280019345,0.4415818645322442,0.441963836915224,0.4417082483823999,0.441739488804662,0.4416543591392752,0.441670741550072,0.4413424726824552,0.4414925978955774,0.44172337642314063,0.4417273373700293,0.44146168674669056,0.44193014969388933,0.44154256631645733,0.44142101967422387,0.4413022140644672,0.44126180958359645,0.4411202120269886,0.4412292593147737,0.441076497907287,0.441208602815668,0.4413466136168406,0.44144556582967104,0.4413602191321841,0.4411956742010855,0.4412624862018556,0.4412686869140597,0.4412582328192155,0.4413277540789397,0.4412271647458014,0.44139820538159963,0.4413585145772956,0.44166038033732835,0.4414582431153383,0.44148507689869443,0.4414196365354489,0.44143337617301254,0.44120135627565804,0.44131796545457364,0.44150519313758635,0.44150318679946304,0.4412873454558719,0.4416704062779847,0.4413462163168166,0.44125810985918057,0.44117601379304977,0.4411598431639421,0.44105753208523685,0.4411309387554464,0.4410329759211304,0.44112154571556184,0.44123807277150207,0.44132717465683063,0.4412568912579653,0.4411390221289144,0.4411739996207114,0.44122988793134893,0.4411500598401588,0.4412024438768469,0.4411437644616844,0.4412587458568116,0.4412325389923019,0.4414742614231637,0.44131096301696293,0.4413338093088762,0.4412821757799917,0.4412933910066301,0.441131859899864,0.44122291269108405,0.4413772006502361,0.44137033813812454,0.4411905192227678,0.4415097598086299,0.4412316481923743,0.441167718973022,0.44111217452602386,0.44111341035508295,0.4410393681952684,0.44108581036835887,0.4410276674946315,0.44108364656574156,0.4411838997079747,0.4412653514799264,0.4412057876475344,0.44112193369145475,0.4411328780858708,0.4412248528263981,0.4410931369738305,0.4411324021988535,0.4411043581592687,0.44117761243287307,0.4411607703054816,0.44135754963997426,0.4412225791617384,0.44124208145793825,0.4412002414586805,0.4412092807098094,0.4410994694359141,0.4411712138887183,0.44130075696983767,0.44129006447486857,0.4411364273569141,0.4414081369951878,0.4411636457509259,0.4411172843018264,0.44108103931495385,0.4410948593705494,0.44104128466131376,0.44106746595242186,0.44103837169103854,0.4410700491140126,0.4411580649114555,0.44123366402131114,0.4411817941605861,0.4411228072432455,0.44111572106321745,0.44123401029322207,0.4410636225850016,0.4410929488899076,0.44108735125240944,0.4411296191830937,0.44111936844310917,0.44128267425502465,0.4411684265348694,0.4411852420095399,0.4411504136896745,0.4411576764603784,0.4410858700405003,0.441143120021595,0.44125416306481297,0.4412405100774631,0.4411059764514899,0.4413423712825888,0.44112248335038967,0.4410889368435587,0.4410667738742634,0.4410897382996041,0.44105105434105524,0.4410620851283296,0.44105424584423636,0.4410678529596376,0.4411467140870754,0.44121788136374085,0.4411715712907821,0.4411308079785875,0.44111025404399207,0.44124779196911634,0.4410486545702732,0.4410705052712953,0.4410813837910315,0.44110067962209126,0.4410951192891189,0.4412335527382789,0.4411344988957328,0.441149211946612,0.44111944075288184,0.44112529945293016,0.44108145204084903,0.4411278705536948,0.4412251294079733,0.441209218630736,0.4410886654824939,0.4412988665847632,0.4410970242032437,0.44107285360390913,0.4410609959610839,0.4410906312798988,0.44106282117543066,0.4410625617639314,0.4410703107387107,0.4410705078562045,0.44114254553742915,0.44121038080569686,0.44116810945228135,0.44114072602547505,0.4411101441040237,0.4412617957539977,0.4410413235581934,0.44105758010102397,0.4410805691832286,0.4410828545895787,0.44108066126029155,0.4412006446396366,0.4411127502220371,0.44112584635532864,0.4410997435562981,0.4411045153068522,0.4410812546382388,0.4411196052444818,0.4412066187317366,0.44118900196508243,0.4410787033626859,0.44126949981919106,0.44108091594468163,0.44106362069276234,0.4410593214193443,0.4410938377674204,0.4410739907011742,0.44106533859195174,0.4410845398762092,0.44107479972193475,0.4411417649387414,0.4412071077491697,0.4411677820041122,0.4411502360013361,0.44111220423028397,0.4412742231406273,0.4410379392511357,0.44105002483307626,0.44108192489799003,0.4410716251699111,0.4410718654836832,0.44117817952132965,0.4410984920711646,0.44111035917968383,0.441086929151584,0.44109087103691874,0.44108277891208353,0.44111513414661163,0.44119454603000724,0.44117564858061975,0.4410728844707867,0.4412493184646839,0.44107048858582776,0.4410582436454745,0.4410594973380588,0.44109759315718494,0.4410835899755027,0.4410687102260355,0.4410963362993298,0.44107923996078285,0.4411424415640988,0.4412059266850676,0.4411687558622216,0.4411584503731468,0.4411148931572942,0.44128453766782666,0.44103654645827395,0.44104553039177663,0.441083992317588,0.44106438727490394,0.4410663959606389,0.44116259162278626,0.4410889457392654,0.44109988624636376,0.44107841012003646,0.4410817244368546,0.4410848142876435,0.4411127218555182,0.44118650094438616,0.4411666465349938,0.4410694254780906,0.44123523586874086,0.4410635887722574,0.441055058312177,0.4410603967920219,0.4411011220451368,0.4410914144328571,0.4410719196040668,0.44110574939435043,0.4410832116887421,0.441143624681753,0.4412057288456916,0.44117013813183503,0.4411651659992419,0.4411175155468261,0.4412927747194522,0.441036121136563,0.44104280300292015,0.4410860997753599,0.4410596175903555,0.4410629164571422,0.44115162711764977,0.44108243199919783,0.4410926779253371,0.4410726337964432,0.4410754766965007,0.44108681280052253,0.4411114249587404,0.44118103406381465,0.441160466967423,0.4410673277924669,0.44122528383598997,0.44105892993581247,0.4410531340726927,0.44106148017009267,0.4411041394207649,0.4410975930690273,0.4410746814280347,0.4411130827669523,0.4410865223187985,0.4411448712143634,0.4412059507637063,0.4411715206731679,0.44117047940133236,0.44111979934259965,0.4412991956615515,0.441036135930971,0.44104111156771125,0.44108797225913304,0.4410564091633689,0.4410606522244304,0.44114382853705036,0.4410779140450408,0.4410876414545374,0.44106864881835683,0.4410711392846697,0.4410885583730269,0.4411107310789968,0.4411772552501578,0.44115615866579305,0.44106602751931395,0.44121817861362955,0.44105572752728955,0.44105194630584577,0.4410625084556309,0.4411065915410261,0.4411023737501857,0.4410769342088748,0.44111870618139476,0.4410891729741864,0.4411459951825607,0.4412063155637945,0.44117273907374627,0.44117459624572136,0.44112167526445895,0.4413041217374256,0.44103632617744876,0.4410400384932139,0.4410895271143395,0.44105421109188275,0.4410591467424821,0.4411382324323889,0.4410747370469343,0.4410840785242724,0.4410658590786229,0.4410680869655327,0.4410899942041913,0.44111036228883316,0.44117460539352066,0.44115311611824,0.44106520283030265,0.4412130647204569,0.44105349243650077,0.44105119623396744,0.44106339205027645,0.44110852411762935,0.4411060226660088,0.44107871383657343,0.4411229720061603,0.44109124262146204,0.4411469362473755,0.4412066947089554,0.4411737466161471,0.4411777416676829,0.4411231639141829,0.44130786008121664,0.4410365644503627,0.441039342081962,0.44109076892782756,0.44105268136309417,0.4410581259253582,0.4411341888741046,0.441072477854277,0.44108153270165606,0.4410638824048977,0.44106591514321636,0.44109113434417585,0.4411101680860411,0.4411727251474728,0.44115094500908686,0.4410646676207129,0.44120936086201556,0.44105191267834787,0.4410507115322172,0.4410641121469051,0.4411100174334211,0.4411087816868103,0.44108009110915514,0.44112618366106615,0.44109283216829176,0.4411476918391457,0.4412070346897734,0.4411745495352431,0.4411801218572302,0.44112431963346843,0.4413106756134524,0.44103679373242843,0.44103888020614174,0.44109173684095804,0.4410516027548513,0.4410574217465791,0.44113125148068094,0.4410708569263496,0.44107969922994744,0.44106246821546435,0.4410643561815507,0.44109201967549094,0.4411100671550539,0.44117137832345577,0.4411493829473066,0.44106431255547973,0.44120666527893426,0.4410507846900842,0.4410503912757268,0.44106468066057347,0.4411111561176456,0.4411108540989085,0.441081142438098,0.44112858874675553,0.44109403935013075,0.441148282959463,0.44120731858115414,0.4411751746519365,0.4411819108494208,0.4411252038876282,0.44131278474897184,0.4410369921348177,0.4410385677343127,0.441092479234557,0.4410508341313041,0.44105692887284687,0.4411291089276163,0.44106968579263806,0.44107837067079214,0.4410614487145334,0.44106322942212745,0.44109269700554715,0.4411100156952081,0.4411704064027394,0.4411482518610988,0.44106407220548605,0.4412046962835088,0.44104997277462216,0.44105017528474544,0.4410651204469449,0.44111201646698894,0.441112403458106,0.44108193739232693,0.44113038292478074,0.441094948998365,0.44114873760774737,0.4412075462102881,0.4411756538918634,0.4411832490319861,0.4411258737019827,0.44131435863376495,0.4410371545153955,0.44103835261106605,0.4410930424427923,0.4410502817823719,0.4410565797458531,0.44112754130484727,0.4410688350672828,0.4410774034431302,0.441060709396001,0.44106241071501645,0.441093209948818,0.44110999021075464,0.44116970098638286,0.4411474288035753,0.4410639065960632,0.441203254036775,0.4410493846996868,0.4410500269380489,0.441065456040006,0.44111266233668084,0.44111355785862505,0.44108253450122953,0.44113171766210885,0.44109563065791546,0.4411490832750582,0.44120772417714554,0.44117601744378593,0.4411842465472568,0.44112637753386796,0.4413155298326676,0.4410372830863597,0.4410382022917301,0.4410934664561154,0.4410498822424409,0.44105633005564027,0.44112639167033696,0.44106821454336576,0.44107669675547323,0.4410601708293689,0.4410618134297407,0.4410935956387713,0.44110997816928316,0.441169186743491,0.441146827643059,0.44106379075203084,0.4412021954237957,0.44104895670377137,0.4410499234524825,0.4410657097256236,0.4411131449693061,0.44111441587307937,0.44108298088078984,0.4411327086088676,0.44109613944675624,0.4411493439814557,0.4412078610292004,0.4411762912104464,0.4411849882595956,0.44112675462928647,0.44131639961073255,0.4410373827580895,0.44103809595968085,0.4410937839481565,0.4410495917746095,0.44105615012581,0.44112554710591373,0.44106776051834673,0.44107617903385615,0.44105977715441197,0.4410613763470277,0.44109388417710516,0.44110997293844306,0.4411688106139218,0.441146387313171,0.4410637087053293,0.4412014171909439,0.4410486440728016,0.44104985032425437,0.4410659002297061,0.4411135044283877,0.44111505245770594,0.4410833134425831,0.4411334432336251,0.4410965181182047,0.44114953949522007,0.4412079650856525,0.44117649629106914,0.4411855387621113,0.4411270358590903,0.44131704458748894,0.44103745894357876,0.44103801999756237,0.4410940207559258,0.44104937978956055,0.4410560197037865,0.4411249258525265,0.4410674275384207,0.4410757989820118,0.44105948864534467,0.44106105576109955,0.44109409924993637,0.4411099710468897,0.44116853481303564,0.44114606410132773,0.441063650011791,0.4412008444153219,0.4410484150804769,0.441049798106715,0.4410660426146043,0.4411137715068956,0.44111552414054833,0.44108356059567744,0.4411339872509524,0.4410967993620485,0.4411496855235595,0.4412080435875012,0.4411766493436009,0.44118594680359535,0.4411272450514566,0.44131752234724547,0.4410375166146445,0.44103796530731093,0.44109419688753454,0.44104922463151885,0.44105592474182975,0.4411244684236319,0.44106718290396735,0.44107551956993146,0.4410592767978663,0.44106082021661147,0.44109425914008876,0.44110997070642766,0.4411683321989918,0.44114582648023004,0.4410636076922165,0.4412004224924882,0.4410482470036427,0.4410497605119262,0.44106614867396204,0.4411139695995004,0.44111587330338203,0.441083743944159,0.4411343897978032,0.441097007928064,0.44114979427191636,0.4412081024827766,0.44117676325823413,0.4411862489554432,0.44112740036575865,0.44131787596180583,0.44103755997436395,0.4410379256933633,0.44109432762209994,0.4410491108185951,0.4410558553625613,0.44112413137746287,0.44106700294021645,0.4410753139165032,0.4410591210163287,0.44106064693238706,0.44109437777814353,0.4411099710174578,0.44116818314209716,0.44114565157784846,0.4410635769916465,0.4412001114937389,0.4410481234470578,0.44104973327089403,0.4410662274810587,0.4411141163372107,0.44111613158913526,0.4410838797807098,0.441134687490158,0.44109716242541946,0.4411498750852725,0.44120814649324636,0.4411768478762883,0.4411864725364175,0.4411275155197531,0.4413181375373944,0.44103759241657875,0.44103789686627987,0.4410944245156988,0.4410490271970367,0.44105580454348475,0.4411238829007193,0.44106687042221904,0.4410751624245084,0.44105900633918665,0.4410605193296906,0.4410944656838589,0.4411099715438582,0.4411680733711514,0.44114552272688684,0.4410635546155231,0.44119988214859235,0.4410480325135636,0.44104971343473776,0.4410662859335687,0.44111422493167884,0.44111632255169925,0.44108398032022206,0.4411349075461262,0.441097276777539,0.44114993504628525,0.44120817928666645,0.44117691064195524,0.4411866378907208,0.44112760081179686,0.4413183309468654,0.44103761660579927,0.4410378758147146,0.4410944962496703,0.44104896568305046,0.4410557672475342,0.4411236996469845,0.4410667727708607,0.4410750507606431,0.4410589218530347,0.44106042529923045,0.4410945307513198,0.4411099720870412,0.4411679924692204,0.4411454277402804,0.44106353824863737,0.4411997129594826,0.44104796553228637,0.441049698936451,0.44106632923196715,0.44111430524254985,0.4411164636853688,0.4410840546818776,0.4411350701615699,0.44109736136519745,0.4411499794849716,0.4412082036711568,0.4411769571495772,0.44118676013474367,0.4411276639389943,0.4413184739089438,0.4410376345960879,0.4410378604004241,0.4410945493144233,0.4410489203909044,0.4410557398366774,0.4411235644564579,0.4410667007738981,0.44107496841604804,0.441058859572529,0.441060355971738,0.4410945788776665,0.4411099725669829,0.44116793280973715,0.44114535768408875,0.44106352624509637,0.441199588115499,0.441047916162798,0.4410496883096692,0.4410663612742363,0.4411143646062272,0.4411165679630053,0.4410841096530397,0.4411351903021083,0.4410974239081237,0.441150012392214,0.4412082217754523,0.44117699158383206,0.4411868504821307,0.44112771063590134,0.4413185795572832,0.44103764795150385,0.4410378490912743,0.44109458854558914,0.4410488870203052,0.44105571966927715,0.441123464701817,0.4410666476705157,0.44107490767179897,0.44105881364111893,0.44106030483754516,0.4410946144539812,0.4411099729604052,0.4411678887963826,0.4411453059965742,0.44106351742398586,0.44119949597599467,0.4410478797572089,0.4410496805040704,0.44106638496986494,0.4411144084699151,0.44111664499336006,0.44108415027436637,0.4411352790469237,0.441097470136462,0.44115003674540115,0.441208235202094,0.44117701706449297,0.44118691724146675,0.4411277451650387,0.4413186576175045,0.44103765785285565,0.44103784078158687,0.44109461753689133,0.4410488624210674,0.4410557048193643,0.44112339108296983,0.4410666084911381,0.44107486285050207,0.44105877975601676,0.44106026711140833,0.44109464074222837,0.44110997326927154,0.44116785631565203,0.44114526785142355,0.44106351093186597,0.4411994279640075,0.44104785290199183,0.44104967476162166,0.4410664024839639,0.44111444087178253,0.4411167018873472,0.4410841802832946,0.4411353445922223,0.4410975042977596,0.44115005475999297,0.44120824515155294,0.4411770359117961,0.44118696656348966,0.44112777068941517,0.44131871528641303,0.4410376651862503,0.4410378346690342,0.4410946389542216,0.4410488442809669,0.4410556938784102,0.44112333674593485,0.44106657957854667,0.4410748297721116,0.4410587547518518,0.441060239271635,0.44109466016144117,0.44110997350519926,0.44116783234014395,0.44114523969498953,0.4410635061485105,0.4411993777563057,0.4410478330866726,0.441049670532026,0.44106641542417585,0.44111446480201305,0.4411167439040503,0.4410842024477129,0.44113539299826937,0.4410975295374326,0.44115006808136265,0.44120825251992457,0.4411770498483052,0.4411870029985838,0.4411277895532515,0.44131875788674235,0.4410376706137839,0.4410378301689585,0.4410946547725497,0.44104883090034097,0.44105568581391424,0.44112329663705374,0.44106655823895674,0.4410748053567062,0.441058736297739,0.4410602187242125,0.44109467450329454,0.4411099736821088,0.44116781463969834,0.4411452189086295,0.44106350262125477,0.4411993406892029,0.44104781846301133,0.44104966741400004,0.4410664249823007,0.4411144824729177,0.44111677493117357,0.4410842188157063,0.4411354287442992,0.44109754818303776,0.4411500779297932,0.4412082579743891,0.4411770601512211,0.4411870299115827,0.44112780349236447,0.44131878935365143,0.4410376746286381,0.44103782685395676,0.4410946664535582,0.4410488210284357,0.44105567986770033,0.44112326702878696,0.44106654248692806,0.4410747873336872,0.44105872267604707,0.4410602035572204,0.44109468509358585,0.4411099738130422,0.44116780157030533,0.4411452035615643,0.44106350001866135,0.4411993133219256,0.44104780766926477,0.4410496651139278,0.441066432040824,0.44111449552028215,0.44111679784166685,0.44108423090178167,0.4411354551400454,0.44109756195600275,0.4411500852093796,0.44120826201076396,0.4411770677666342,0.4411870497897838,0.4411278137912147,0.4413188125956225,0.4410376775973467,0.441037824410833,0.44109467507826683,0.4410488137440914,0.4410556754823084,0.44112324517101104,0.4410665308583972,0.44107477402841894,0.44105871262037594,0.4410601923608098,0.44109469291271075,0.441109973909027,0.4411677919194221,0.4411451922295735,0.44106349809746526,0.4411992931153501,0.4410477997015568,0.44104966341642343,0.44106643725263356,0.4411145051530582,0.44111681475805803,0.44108423982535594,0.4411354746305816,0.44109757212896744,0.44115009058945553,0.4412082649970163,0.4411770733948785,0.4411870644713351,0.44112782139980633,0.4413188297618693,0.4410376797918714,0.4410378226096671,0.44109468144574493,0.441048808368479,0.44105567224746184,0.44112322903433376,0.4410665222733795,0.44107476420542857,0.44105870519664575,0.44106018409499503,0.4410946986852879,0.44110997397888724,0.4411677847923942,0.4411451838617574,0.4410634966787945,0.4411992781954049,0.44104779381951814,0.44104966216318486,0.44106644110044857,0.4411145122644414,0.4411168272481748,0.4410842464135378,0.4411354890219336,0.4410975796425109,0.44115009456528,0.44120826720595824,0.44117707755410507,0.44118707531439666,0.4411278270205225,0.44131884244030134,0.4410376814137611,0.4410378212814459,0.44109468614641967,0.4410488044011253,0.4410556698609906,0.4411232171209962,0.4410665159350008,0.44107475695303294,0.4410586997156909,0.44106017799242464,0.4410947029466931,0.4411099740294502,0.44116777952892894,0.44114517768249734,0.4410634956309471,0.44119926717870317,0.44104778947694734,0.4410496612376991,0.4410664439410066,0.44111451751417763,0.4411168364699511,0.44108425127730255,0.441135499647951,0.44109758519164466,0.4411500975031615,0.44120826883970515,0.44117708062753064,0.4411870833223378,0.44112783117253046,0.4413188518039837,0.44103768261225035,0.44103782030180394,0.44109468961642884,0.4410488014729295,0.44105566810022706,0.44112320832548607,0.4410665112551673,0.44107475159836806,0.44105869566893335,0.4410601734868011,0.4410947060923757,0.4411099740658833,0.44116777564160137,0.4411451731192462,0.44106349485685437,0.4411992590439722,0.44104778627079577,0.4410496605541195,0.4410664460378523,0.44111452138948987,0.441116843278503,0.4410842548678856,0.44113550749367214,0.44109758928984394,0.44115009967395113,0.4412082700479157,0.4411770828984981,0.44118708923634214,0.4411278342394985,0.4413188587194438,0.44103768349776723,0.44103781957916105,0.441094692177871,0.4410487993116114,0.4410556668010235,0.44112320183174897,0.4410665077998031,0.44107474764476823,0.44105869268100195,0.44106017016014426,0.4410947084143719,0.4411099740920388,0.4411677727705413,0.44114516974930607,0.4410634942849208,0.4411992530372142,0.44104778390359795,0.4410496600491446,0.4410664475856337,0.44111452425014486,0.44111684830527387,0.4410842575185004,0.4411355132864966,0.4410975923164207,0.44115010127787485,0.4412082709413624,0.4411770845764626,0.44118709360387637,0.44112783650491905,0.44131886382673313,0.4410376841519852,0.44103781904604217,0.4410946940685872,0.44104879771627753,0.44105566584233696,0.44112319703736463,0.4410665052484797,0.44107474472559277,0.44105869047481033,0.441060167703913,0.441094710128316,0.441109974110757,0.4411677706500227,0.4411451672605788,0.44106349386231025,0.44119924860173093,0.4410477821557853,0.44104965967607024,0.4410664487280865,0.4411145263617688,0.44111685201651457,0.441084259475183,0.441135517563546,0.4410975945515541,0.4411501024629247,0.44120827160201154,0.44117708581623655,0.44118709682929785,0.4411278381782424,0.44131886759859756,0.4410376846352893,0.44103781865271224,0.4410946954641816,0.4410487965386848,0.44105566513489136,0.4411231934976006,0.44106650336464287,0.44107474257016793,0.4410586888458048,0.44106016589033414,0.4410947113934117,0.4411099741241158,0.44116776908381944,0.4411451654226117,0.4410634935500146,0.4411992453264798,0.4410477808652719,0.4410496594004227,0.4410664495713362,0.44111452792046685,0.4411168547564857,0.4410842609195857,0.44113552072142515,0.4410975962021855,0.4411501033384723,0.4412082720905008,0.44117708673223144,0.4411870992112511,0.4411278394142028,0.4413188703841983,0.441037684992314,0.4410378183625014,0.44109469649429606,0.4410487956694313,0.4410556646128291,0.4411231908841266,0.44106650197364816,0.44107474097865784,0.44105868764296746,0.4410601645512494,0.4410947123271905,0.44110997413362546,0.44116776792701823,0.4411451640652298,0.44106349331922623,0.44119924290795615,0.44104777991239813,0.441049659196748,0.4410664501937316,0.44111452907101095,0.4411168567793674,0.4410842619858181,0.4411355230529753,0.44109759742115523,0.4411501039853401,0.44120827245168237,0.44117708740899475,0.44118710097029823,0.44112784032710545,0.44131887244141277,0.441037685256045,0.4410378181483659,0.44109469725463457,0.4410487950277733,0.44105566422756287,0.44112318895454194,0.44106650094655236,0.44107473980352035,0.4410586867548001,0.44106016356250766,0.44109471301641384,0.44110997414037884,0.44116776707259586,0.44114516306276497,0.44106349314866566,0.4411992411220544,0.44104777920882027,0.4410496590462477,0.4410664506531101,0.44111452992027256,0.4411168582728263,0.44108426277288637,0.44113552477441814,0.44109759832134243,0.44115010446324976,0.44120827271872815,0.4411770879090009,0.4411871022693299,0.44112784100138613,0.44131887396069547,0.4410376854508555,0.44103781799035896,0.4410946978158438,0.4410487945541151,0.44105566394324347,0.4411231875298833,0.44106650018815147,0.44107473893581955,0.4410586860989789,0.4410601628324451,0.4410947135251267,0.4411099741451637,0.4411677664415094,0.4411451623224131,0.4410634930226123,0.44119923980329406,0.44104777868931266,0.441049658935036,0.4410664509921655,0.44111453054714256,0.4411168593754181,0.44108426335387885,0.44113552604539974,0.44109759898611134,0.44115010481632866,0.4412082729161693,0.4411770882784119,0.4411871032286436,0.4411278414994146,0.4413188750827046,0.4410376855947538,0.44103781787376556,0.44109469823007247,0.4410487942044682,0.44105566373341853,0.44112318647802135,0.441066499628151,0.44107473829512234,0.4410586856147196,0.44106016229338285,0.44109471390060334,0.4411099741485457,0.4411677659753798,0.44114516177563795,0.4410634929294501,0.4411992388294825,0.44104777830571695,0.44104965885285474,0.4410664512424119,0.44111453100985565,0.4411168601894385,0.4410842637827502,0.4411355269837938,0.44109759947702704,0.44115010507718083,0.4412082730621459,0.44117708855133553,0.4411871039370792,0.44112784186726034,0.44131887591132046,0.44103768570104385,0.4410378177877298,0.44109469853581346,0.44104879394636315,0.4410556635785682,0.4411231857014035,0.44106649921464736,0.44107473782204,0.44105868525714065,0.44106016189534974,0.4410947141777384,0.44110997415093056,0.4411677656310888,0.44114516137182497,0.44106349286059604,0.44119923811039036,0.44104777802247547,0.44104965879212504,0.44106645142711,0.4411145313513984,0.4411168607904118,0.4410842640993293,0.4411355276766299,0.4410975998395553,0.44115010526989545,0.4412082731700713,0.4411770887529725,0.44118710446024484,0.4411278421389515,0.44131887652326124,0.4410376857795538,0.44103781772424216,0.4410946987614791,0.4410487937558322,0.4410556634642884,0.4411231851280051,0.44106649890931626,0.44107473747272163,0.44105868499310236,0.4410601616014494,0.44109471438228803,0.4411099741526079,0.44116776537678926,0.44114516107359425,0.44106349280970697,0.4411992375793904,0.4410477778133334,0.4410496587472469,0.4410664515634288,0.44111453160350095,0.44111686123409644,0.4410842643330174,0.44113552818816487,0.4410976001072722,0.44115010541227023,0.4412082732498635,0.4411770889019421,0.4411871048465917,0.4411278423396222,0.44131887697518457,0.4410376858375439,0.4410378176773928,0.44109469892804143,0.4410487936151837,0.4410556633799493,0.4411231847046489,0.4410664986838594,0.44107473721478874,0.4410586847981348,0.4410601613844384,0.441094714533263,0.4411099741537845,0.44116776518895895,0.4411451608533396,0.44106349277209533,0.4411992371872834,0.44104777765890524,0.4410496587140824,0.4410664516640401,0.441114531789585,0.4411168615616584,0.44108426450551785,0.4411355285658413,0.44109760030497325,0.4411501055174542,0.4412082733088554,0.44117708901200037,0.4411871051319004,0.44112784248783715,0.44131887730893327,0.4410376858803769,0.441037817642821,0.4410946990509797,0.4410487935113576,0.4410556633177064,0.4411231843920728,0.44106649851738156,0.44107473702433375,0.4410586846541692,0.4410601612242009,0.4410947146446951,0.4411099741546073,0.4411677650502239,0.4411451606906731,0.4410634927442969,0.4411992368977391,0.44104777754487695,0.4410496586895744,0.44106645173829734,0.4411145319269386,0.4411168618034895,0.44108426463285155,0.44113552884468715,0.4410976004509696,0.441150105595162,0.4412082733524692,0.44117708909331105,0.4411871053425945,0.441127842597308,0.44131887755540916,0.4410376859120145,0.4410378176173093,0.44109469914171934,0.44104879343471354,0.44105566327177037,0.4411231841612889,0.44106649839445394,0.4410747368837037,0.4410586845478638,0.4410601611058841,0.4410947147269413,0.44110997415518094,0.4411677649477515,0.4411451605705378,0.4410634927237512,0.44119923668393035,0.4410477774606796,0.44104965867146306,0.44106645179310344,0.4411145320283231,0.44111686198202754,0.44108426472684475,0.4411355290505643,0.4410976005587833,0.44115010565257085,0.4412082733847133,0.4411770891533828,0.4411871054981872,0.4411278426781625,0.44131887773743306,0.44103768593538273,0.4410378175984832,0.4410946992086933,0.4410487933781352,0.441055663237869,0.44112318399089434,0.4410664983036838,0.44107473677986386,0.44105868446936697,0.44106016101852075,0.4410947147876457,0.44110997415557945,0.4411677648720635,0.4411451604818131,0.441063492708566,0.44119923652604714,0.4410477773985091,0.44104965865807894,0.4410664518335534,0.44111453210315754,0.44111686211383766,0.4410842647962271,0.44113552920256727,0.44109760063840026,0.44115010569498325,0.44120827340855157,0.4411770891977634,0.44118710561308866,0.4411278427378812,0.44131887787185875,0.441037685952643,0.44103781758459054,0.4410946992581261,0.44104879333636915,0.4410556632128494,0.4411231838650869,0.4410664982366589,0.4410747367031894,0.4410586844114042,0.44106016095401307,0.44109471483245055,0.4411099741558552,0.4411677648161588,0.4411451604162866,0.44106349269734263,0.4411992364094612,0.44104777735260287,0.4410496586481881,0.44106645186340787,0.44111453215839486,0.4411168622111498,0.4410842648474427,0.44113552931479383,0.44109760069719484,0.44115010572631635,0.44120827342617536,0.4411770892305512,0.4411871056979406,0.44112784278198897,0.4413188779711329,0.44103768596539167,0.4410378175743385,0.44109469929461204,0.44104879330553753,0.4410556631943846,0.4411231837721997,0.4410664981871675,0.4410747366465738,0.441058684368604,0.4410601609063814,0.4410947148655201,0.44110997415604514,0.4411677647748666,0.44114516036789275,0.44106349268904754,0.4411992363233704,0.4410477773187061,0.4410496586408789,0.4410664518854421,0.44111453219916696,0.44111686228299296,0.44108426488524805,0.4411355293976528,0.44109760074061277,0.4411501057494645,0.4412082734392046,0.4411770892547746,0.4411871057606017,0.4411278428145667,0.44131887804444736,0.4410376859748081,0.4410378175667731,0.4410946993215419,0.44104879328277774,0.44105566318075723,0.44112318370361836,0.4410664981506229,0.4410747366047693,0.44105868433699996,0.44106016087121097,0.4410947148899283,0.44110997415617526,0.44116776474436736,0.44114516033215206,0.4410634926829167,0.44119923625979823,0.441047777293677,0.44104965863547735,0.4410664519017047,0.441114532229262,0.441116862336033,0.4410842649131546,0.44113552945882917,0.44109760077267546,0.4411501057665657,0.44120827344883706,0.4411770892726705,0.4411871058068753,0.4411278428386281,0.4413188780985903,0.44103768598176324,0.4410378175611903,0.4410946993414185,0.44104879326597646,0.44105566317070016,0.44112318365298264,0.44106649812363813,0.4410747365739013,0.4410586843136632,0.4410601608452417,0.4410947149079435,0.44110997415626385,0.4411677647218401,0.44114516030575623,0.44106349267838535,0.4411992362128545,0.4410477772751957,0.4410496586314857,0.44106645191370725,0.44111453225147584,0.4411168623751911,0.44108426493375424,0.44113552950399665,0.44109760079635263,0.44115010577919966,0.44120827345595837,0.4411770892858919,0.4411871058410473,0.4411278428563998,0.4413188781385751,0.4410376859869004,0.44103781755707044,0.44109469935608914,0.44104879325357366,0.4410556631632777,0.4411231836155969,0.4410664981037126,0.4410747365511087,0.4410586842964312,0.4410601608260663,0.44109471492124014,0.44110997415632386,0.441167764705201,0.44114516028626194,0.4410634926750364,0.4411992361781898,0.4410477772615493,0.4410496586285359,0.4410664519225659,0.4411145322678725,0.44111686240410053,0.4410842649489601,0.4411355295373447,0.4410976008138374,0.4411501057885332,0.4412082734612231,0.4411770892956596,0.4411871058662824,0.4411278428695258,0.4413188781681041,0.44103768599069476,0.4410378175540302,0.44109469936691753,0.4410487932444179,0.4410556631578,0.44112318358799385,0.44106649808899956,0.4410747365342788,0.44105868428370687,0.4410601608119076,0.4410947149310542,0.4411099741563641,0.4411677646929112,0.44114516027186457,0.44106349267256106,0.4411992361525923,0.441047777251473,0.441049658626356,0.44106645192910393,0.4411145322799753,0.44111686242544357,0.44108426496018455,0.44113552956196617,0.44109760082674937,0.44115010579542857,0.44120827346511515,0.44117708930287575,0.44118710588491783,0.4411278428792205,0.44131887818991133,0.4410376859934974,0.4410378175517866,0.4410946993749098,0.44104879323765933,0.4410556631537572,0.44112318356761376,0.44106649807813536,0.44107473652185175,0.44105868427431116,0.4410601608014529,0.4410947149382977,0.44110997415639075,0.4411677646838337,0.44114516026123174,0.4410634926707317,0.44119923613369033,0.44104777724403266,0.44104965862474516,0.44106645193392957,0.4411145322889087,0.4411168624412006,0.44108426496847,0.4411355295801447,0.44109760083628435,0.4411501058005226,0.44120827346799263,0.44117708930820704,0.44118710589867965,0.4411278428863809,0.441318878206016,0.4410376859955673,0.4410378175501311,0.4410946993808087,0.44104879323267,0.4410556631507736,0.4411231835525666,0.44106649807011317,0.4410747365126757,0.44105868426737327,0.44106016079373334,0.44109471494364405,0.4411099741564083,0.4411677646771289,0.44114516025337885,0.44106349266937955,0.44119923611973255,0.4410477772385387,0.4410496586235547,0.441066451937491,0.44111453229550257,0.44111686245283366,0.44108426497458597,0.44113552959356606,0.4410976008433256,0.441150105804286,0.4412082734701198,0.44117708931214566,0.44118710590884236,0.4411278428916695,0.4413188782179094,0.44103768599709625,0.4410378175489093,0.44109469938516277,0.44104879322898694,0.44105566314857164,0.4411231835414567,0.44106649806418957,0.44107473650590023,0.44105868426225026,0.44106016078803334,0.44109471494759006,0.4411099741564196,0.4411677646721766,0.4411451602475793,0.4410634926683802,0.44119923610942563,0.44104777723448213,0.4410496586226749,0.4410664519401196,0.44111453230036973,0.441116862461422,0.4410842649791006,0.4411355296034754,0.4410976008485254,0.44115010580706615,0.44120827347169245,0.44117708931505545,0.44118710591634724,0.44112784289557555,0.4413188782266927,0.4410376859982255,0.4410378175480077,0.4410946993883764,0.441048793226268,0.44105566314694655,0.4411231835332539,0.4410664980598156,0.44107473650089724,0.44105868425846745,0.44106016078382454,0.44109471495050256,0.4411099741564268,0.4411677646685187,0.44114516024329614,0.44106349266764167,0.44119923610181466,0.4410477772314867,0.4410496586220248,0.4410664519420598,0.44111453230396236,0.44111686246776255,0.4410842649824332,0.4411355296107916,0.44109760085236516,0.44115010580912006,0.44120827347285513,0.4411770893172052,0.44118710592188937,0.4411278428984605,0.4413188782331791,0.4410376859990597,0.4410378175473424,0.44109469939074836,0.44104879322426094,0.4410556631457473,0.44112318352719765,0.44106649805658577,0.4410747364972032,0.4410586842556741,0.44106016078071686,0.4410947149526521,0.4411099741564312,0.441167764665817,0.44114516024013284,0.4410634926670958,0.4411992360961946,0.44104777722927496,0.44104965862154444,0.4410664519434916,0.4411145323066142,0.4411168624724437,0.4410842649848931,0.44113552961619334,0.4410976008552008,0.4411501058106375,0.44120827347371455,0.4411770893187933,0.44118710592598215,0.4411278429005914,0.44131887823796934,0.4410376859996757,0.44103781754685145,0.44109469939249907,0.4410487932227794,0.4410556631448621,0.44112318352272606,0.44106649805420095,0.4410747364944755,0.44105868425361155,0.4410601607784221,0.44109471495423885,0.4411099741564337,0.44116776466382146,0.4411451602377966,0.4410634926666923,0.44119923609204453,0.4410477772276418,0.44104965862118933,0.44106645194454835,0.44111453230857156,0.44111686247589965,0.4410842649867089,0.44113552962018143,0.4410976008572947,0.44115010581175845,0.44120827347434993,0.4411770893199666,0.4411871059290045,0.44112784290216517,0.441318878241507,0.4410376860001308,0.441037817546489,0.44109469939379126,0.4410487932216856,0.44105566314420885,0.4411231835194246,0.4410664980524399,0.4410747364924614,0.44105868425208844,0.4410601607767278,0.44109471495540986,0.4411099741564352,0.44116776466234753,0.44114516023607125,0.44106349266639416,0.44119923608898004,0.4410477772264359,0.44104965862092704,0.4410664519453283,0.44111453231001635,0.441116862478451,0.4410842649880493,0.441135529623126,0.4410976008588411,0.4411501058125867,0.4412082734748196,0.4411770893208334,0.44118710593123645,0.44112784290332757,0.44131887824411953,0.4410376860004669,0.44103781754622173,0.44109469939474505,0.4410487932208782,0.44105566314372674,0.4411231835169871,0.4410664980511397,0.4410747364909741,0.44105868425096384,0.4410601607754767,0.4410947149562742,0.44110997415643594,0.4411677646612589,0.441145160234797,0.4410634926661738,0.441199236086717,0.4410477772255455,0.4410496586207332,0.44106645194590405,0.4411145323110828,0.4411168624803347,0.44108426498903874,0.44113552962529995,0.44109760085998295,0.4411501058131984,0.4412082734751669,0.4411770893214738,0.4411871059328847,0.44112784290418605,0.44131887824604893,0.44103768600071513,0.4410378175460244,0.44109469939544904,0.44104879322028223,0.441055663143371,0.44112318351518726,0.4410664980501795,0.4410747364898761,0.4410586842501334,0.4410601607745529,0.4410947149569122,0.4411099741564361,0.44116776466045476,0.4411451602338559,0.4410634926660109,0.441199236085046,0.441047777224888,0.4410496586205899,0.4410664519463289,0.4411145323118699,0.4411168624817253,0.4410842649897691,0.4411355296269051,0.4410976008608261,0.44115010581365044,0.4412082734754236,0.4411770893219469,0.44118710593410176,0.44112784290482016,0.4413188782474738,0.4410376860008985,0.4410378175458788,0.4410946993959685,0.44104879321984225,0.4410556631431084,0.44112318351385854,0.4410664980494705,0.44107473648906514,0.4410586842495202,0.4410601607738707,0.4410947149573831,0.44110997415643616,0.44116776465986085,0.44114516023316086,0.44106349266589057,0.44119923608381206,0.4410477772244025,0.441049658620484,0.44106645194664246,0.4411145323124509,0.441116862482752,0.44108426499030823,0.4411355296280901,0.4410976008614489,0.4411501058139843,0.4412082734756134,0.4411770893222964,0.4411871059350006,0.4411278429052885,0.441318878248526,0.4410376860010339,0.4410378175457713,0.441094699396352,0.4410487932195175,0.44105566314291456,0.44112318351287744,0.441066498048947,0.4410747364884665,0.4410586842490674,0.4410601607733672,0.4410947149577306,0.441109974156436,0.4411677646594222,0.4411451602326476,0.4410634926658016,0.44119923608290096,0.44104777722404404,0.44104965862040574,0.4410664519468739,0.4411145323128798,0.44111686248351,0.4410842649907062,0.44113552962896513,0.44109760086190875,0.441150105814231,0.4412082734757537,0.4411770893225546,0.4411871059356644,0.44112784290563434,0.44131887824930305,0.44103768600113397,0.44103781754569205,0.4410946993966351,0.4410487932192777,0.44105566314277156,0.44112318351215307,0.4410664980485605,0.44107473648802437,0.44105868424873307,0.4410601607729952,0.44109471495798713,0.44110997415643577,0.4411677646590982,0.4411451602322685,0.4410634926657358,0.4411992360822281,0.44104777722377936,0.441049658620348,0.44106645194704475,0.44111453231319636,0.4411168624840696,0.4410842649909999,0.44113552962961117,0.44109760086224825,0.44115010581441316,0.4412082734758575,0.44117708932274535,0.4411871059361546,0.4411278429058898,0.4413188782498769,0.4410376860012078,0.44103781754563354,0.44109469939684404,0.4410487932191007,0.4410556631426659,0.4411231835116183,0.4410664980482751,0.4410747364876979,0.44105868424848615,0.4410601607727207,0.4410947149581764,0.4411099741564355,0.4411677646588589,0.4411451602319885,0.4410634926656871,0.4411992360817312,0.44104777722358385,0.4410496586203052,0.4410664519471708,0.44111453231343006,0.4411168624844827,0.4410842649912168,0.44113552963008806,0.44109760086249916,0.44115010581454783,0.4412082734759341,0.44117708932288624,0.44118710593651655,0.4411278429060786,0.44131887825030075,0.44103768600126236,0.4410378175455903,0.44109469939699825,0.44104879321897006,0.44105566314258815,0.4411231835112233,0.44106649804806425,0.4410747364874569,0.44105868424830386,0.4410601607725179,0.4410947149583162,0.4411099741564354,0.44116776465868207,0.4411451602317818,0.44106349266565126,0.44119923608136435,0.44104777722343963,0.4410496586202737,0.44106645194726385,0.44111453231360254,0.4411168624847877,0.44108426499137693,0.4411355296304403,0.4410976008626843,0.4411501058146473,0.44120827347599073,0.44117708932299043,0.44118710593678395,0.44112784290621787,0.44131887825061367,0.4410376860013027,0.4410378175455585,0.44109469939711204,0.4410487932188736,0.4410556631425306,0.4411231835109318,0.44106649804790865,0.44107473648727896,0.44105868424816935,0.4410601607723682,0.4410947149584193,0.44110997415643505,0.44116776465855156,0.44114516023162914,0.4410634926656248,0.44119923608109346,0.441047777223333,0.4410496586202503,0.44106645194733257,0.4411145323137298,0.4411168624850129,0.441084264991495,0.44113552963070024,0.441097600862821,0.44115010581472075,0.44120827347603264,0.4411770893230673,0.4411871059369813,0.44112784290632084,0.44131887825084487,0.44103768600133253,0.44103781754553495,0.4410946993971961,0.4410487932188024,0.4410556631424882,0.44112318351071655,0.4410664980477937,0.4410747364871475,0.4410586842480699,0.4410601607722576,0.44109471495849545,0.44110997415643494,0.44116776465845514,0.44114516023151634,0.44106349266560513,0.44119923608089334,0.44104777722325433,0.44104965862023315,0.44106645194738325,0.44111453231382375,0.4411168624851792,0.44108426499158226,0.4411355296308922,0.44109760086292205,0.4411501058147751,0.4412082734760636,0.44117708932312416,0.4411871059371271,0.4411278429063969,0.44131887825101557,0.44103768600135446,0.4410378175455176,0.4410946993972581,0.44104879321874985,0.44105566314245687,0.4411231835105577,0.4410664980477088,0.4410747364870505,0.4410586842479965,0.441060160772176,0.4410947149585516,0.44110997415643477,0.4411677646583838,0.44114516023143296,0.4410634926655907,0.4411992360807456,0.44104777722319627,0.44104965862022033,0.4410664519474206,0.44111453231389314,0.44111686248530185,0.44108426499164655,0.4411355296310339,0.44109760086299665,0.4411501058148152,0.4412082734760865,0.44117708932316607,0.4411871059372347,0.441127842906453,0.4413188782511416,0.4410376860013707,0.4410378175455048,0.44109469939730384,0.44104879321871104,0.4410556631424337,0.4411231835104403,0.44106649804764614,0.4410747364869788,0.44105868424794226,0.4410601607721157,0.4410947149585931,0.4411099741564347,0.4411677646583313,0.44114516023137157,0.4410634926655799,0.4411992360806366,0.44104777722315336,0.4410496586202109,0.44106645194744826,0.4411145323139444,0.4411168624853925,0.4410842649916941,0.4411355296311386,0.44109760086305166,0.44115010581484476,0.4412082734761035,0.4411770893231971,0.4411871059373142,0.44112784290649454,0.4413188782512347,0.44103768600138277,0.44103781754549537,0.44109469939733764,0.44104879321868246,0.4410556631424167,0.4411231835103536,0.44106649804759995,0.44107473648692597,0.4410586842479023,0.4410601607720713,0.44109471495862373,0.4411099741564345,0.4411677646582924,0.4411451602313261,0.44106349266557204,0.441199236080556,0.44104777722312166,0.44104965862020395,0.44106645194746863,0.4411145323139821,0.4411168624854594,0.4410842649917292,0.44113552963121583,0.4410976008630923,0.44115010581486663,0.441208273476116,0.44117708932322003,0.441187105937373,0.44112784290652507,0.44131887825130345,0.44103768600139154,0.4410378175454883,0.4410946993973625,0.4410487932186613,0.4410556631424041,0.4411231835102897,0.44106649804756576,0.4410747364868869,0.44105868424787276,0.44106016077203836,0.44109471495864633,0.44110997415643444,0.44116776465826374,0.4411451602312926,0.4410634926655661,0.44119923608049655,0.44104777722309835,0.4410496586201988,0.4410664519474837,0.44111453231401004,0.4411168624855088,0.44108426499175507,0.44113552963127284,0.4410976008631224,0.44115010581488284,0.44120827347612523,0.44117708932323696,0.4411871059374162,0.4411278429065478,0.44131887825135424,0.4410376860013981,0.4410378175454832,0.44109469939738094,0.44104879321864565,0.44105566314239486,0.4411231835102425,0.4410664980475405,0.441074736486858,0.44105868424785094,0.4410601607720141,0.4410947149586629,0.4411099741564344,0.44116776465824253,0.44114516023126776,0.44106349266556183,0.4411992360804526,0.44104777722308103,0.441049658620195,0.4410664519474947,0.4411145323140306,0.4411168624855452,0.4410842649917742,0.44113552963131497,0.4410976008631446,0.4411501058148948,0.44120827347613206,0.44117708932324945,0.4411871059374483,0.4411278429065644,0.44131887825139166,0.441037686001403,0.44103781754547944,0.44109469939739454,0.4410487932186341,0.441055663142388,0.44112318351020763,0.4410664980475219,0.44107473648683676,0.4410586842478348,0.4410601607719962,0.44109471495867525,0.44110997415643427,0.44116776465822677,0.44114516023124944,0.4410634926655586,0.4411992360804202,0.44104777722306826,0.4410496586201922,0.44106645194750294,0.44111453231404585,0.4411168624855721,0.44108426499178827,0.44113552963134606,0.4410976008631609,0.4411501058149036,0.44120827347613717,0.44117708932325866,0.44118710593747196,0.44112784290657675,0.44131887825141947,0.4410376860014065,0.4410378175454766,0.4410946993974046,0.4410487932186256,0.44105566314238287,0.44112318351018187,0.4410664980475081,0.4410747364868209,0.4410586842478229,0.44106016077198296,0.44109471495868435,0.4411099741564343,0.44116776465821533,0.441145160231236,0.4410634926655563,0.44119923608039624,0.4410477772230589,0.4410496586201902,0.441066451947509,0.441114532314057,0.441116862485592,0.44108426499179876,0.44113552963136893,0.441097600863173,0.44115010581491004,0.44120827347614083,0.44117708932326555,0.44118710593748933,0.4411278429065859,0.44131887825143984,0.44103768600140913,0.44103781754547455,0.4410946993974119,0.4410487932186193,0.44105566314237915,0.44112318351016283,0.441066498047498,0.44107473648680945,0.4410586842478141,0.4410601607719732,0.4410947149586911,0.44110997415643427,0.44116776465820684,0.44114516023122596,0.4410634926655545,0.4411992360803786,0.44104777722305194,0.44104965862018863,0.44106645194751354,0.4411145323140653,0.4411168624856067,0.44108426499180636,0.44113552963138597,0.44109760086318195,0.441150105814915,0.44120827347614366,0.44117708932327065,0.44118710593750227,0.44112784290659257,0.44131887825145494,0.441037686001411,0.44103781754547305,0.4410946993974174,0.44104879321861473,0.4410556631423765,0.4411231835101488,0.4410664980474905,0.44107473648680073,0.44105868424780764,0.44106016077196597,0.44109471495869607,0.4411099741564342,0.44116776465820046,0.4411451602312186,0.4410634926655533,0.4411992360803655,0.4410477772230468,0.44104965862018747,0.44106645194751676,0.4411145323140714,0.44111686248561743,0.4410842649918121,0.4411355296313985,0.44109760086318855,0.44115010581491854,0.44120827347614566,0.44117708932327426,0.44118710593751176,0.44112784290659757,0.44131887825146615,0.4410376860014125,0.44103781754547194,0.44109469939742146,0.4410487932186113,0.4410556631423744,0.4411231835101384,0.4410664980474849,0.44107473648679446,0.44105868424780287,0.4410601607719607,0.4410947149586997,0.4411099741564342,0.4411677646581958,0.4411451602312132,0.4410634926655523,0.4411992360803558,0.441047777223043,0.4410496586201867,0.4410664519475192,0.44111453231407594,0.4411168624856255,0.44108426499181624,0.4411355296314077,0.44109760086319344,0.4411501058149211,0.44120827347614716,0.44117708932327704,0.44118710593751886,0.44112784290660134,0.4413188782514743,0.4410376860014135,0.4410378175454711,0.4410946993974244,0.4410487932186088,0.4410556631423728,0.44112318351013086,0.4410664980474809,0.44107473648678985,0.4410586842477993,0.4410601607719567,0.44109471495870234,0.4411099741564342,0.44116776465819235,0.44114516023120914,0.4410634926655515,0.4411992360803488,0.44104777722304017,0.441049658620186,0.441066451947521,0.4411145323140793,0.4411168624856315,0.44108426499181946,0.4411355296314146,0.441097600863197,0.4411501058149231,0.4412082734761483,0.4411770893232791,0.441187105937524,0.44112784290660395,0.4413188782514804,0.4410376860014144,0.4410378175454705,0.44109469939742657,0.4410487932186069,0.44105566314237177,0.44112318351012514,0.4410664980474779,0.44107473648678636,0.44105868424779665,0.44106016077195387,0.44109471495870434,0.4411099741564341,0.44116776465818985,0.4411451602312062,0.441063492665551,0.4411992360803435,0.4410477772230381,0.4410496586201856,0.4410664519475223,0.4411145323140817,0.4411168624856358,0.44108426499182163,0.4411355296314196,0.4410976008631997,0.44115010581492453,0.4412082734761491,0.4411770893232806,0.44118710593752797,0.44112784290660595,0.44131887825148497,0.4410376860014149,0.44103781754547,0.44109469939742824,0.4410487932186055,0.4410556631423709,0.441123183510121,0.44106649804747566,0.4410747364867838,0.4410586842477948,0.44106016077195165,0.44109471495870584,0.4411099741564341,0.44116776465818797,0.441145160231204,0.44106349266555056,0.4411992360803396,0.4410477772230366,0.4410496586201852,0.44106645194752325,0.44111453231408354,0.441116862485639,0.44108426499182335,0.4411355296314233,0.4410976008632017,0.4411501058149256,0.4412082734761497,0.4411770893232817,0.44118710593753063,0.44112784290660745,0.44131887825148824,0.4410376860014154,0.4410378175454696,0.44109469939742946,0.44104879321860446,0.4410556631423703,0.4411231835101179,0.441066498047474,0.4410747364867819,0.4410586842477934,0.4410601607719501,0.4410947149587069,0.4411099741564341,0.4411677646581865,0.4411451602312023,0.44106349266555034,0.4411992360803368,0.44104777722303545,0.44104965862018497,0.441066451947524,0.4411145323140849,0.44111686248564136,0.44108426499182457,0.441135529631426,0.4410976008632031,0.44115010581492636,0.4412082734761502,0.44117708932328253,0.4411871059375327,0.44112784290660856,0.4413188782514907,0.4410376860014157,0.4410378175454694,0.44109469939743035,0.44104879321860374,0.44105566314236994,0.44112318351011565,0.4410664980474728,0.4410747364867805,0.4410586842477923,0.4410601607719489,0.4410947149587077,0.44110997415643405,0.4411677646581855,0.4411451602312012,0.44106349266555017,0.44119923608033457,0.4410477772230346,0.4410496586201848,0.44106645194752453,0.4411145323140858,0.44111686248564314,0.4410842649918255,0.4411355296314281,0.44109760086320415,0.441150105814927,0.4412082734761505,0.4411770893232831,0.44118710593753435,0.44112784290660934,0.4413188782514925,0.44103768600141596,0.4410378175454693,0.44109469939743096,0.4410487932186032,0.44105566314236955,0.4411231835101139,0.44106649804747183,0.4410747364867795,0.44105868424779154,0.4410601607719481,0.44109471495870833,0.4411099741564341,0.4411677646581848,0.44114516023120026,0.4410634926655499,0.44119923608033307,0.44104777722303407,0.44104965862018464,0.44106645194752503,0.4411145323140866,0.44111686248564447,0.44108426499182624,0.4411355296314296,0.44109760086320493,0.4411501058149273,0.4412082734761507,0.4411770893232836,0.4411871059375355,0.44112784290660995,0.44131887825149385,0.4410376860014161,0.44103781754546906,0.4410946993974314,0.44104879321860274,0.4410556631423693,0.4411231835101127,0.4410664980474712,0.4410747364867788,0.441058684247791,0.44106016077194743,0.4410947149587087,0.4411099741564341,0.44116776465818425,0.44114516023119965,0.4410634926655499,0.44119923608033185,0.44104777722303357,0.4410496586201846,0.44106645194752525,0.4411145323140871,0.44111686248564536,0.44108426499182674,0.44113552963143066,0.44109760086320554,0.44115010581492764,0.441208273476151,0.44117708932328387,0.4411871059375364,0.44112784290661045,0.4413188782514948,0.4410376860014162,0.44103781754546895,0.44109469939743184,0.44104879321860246,0.44105566314236916,0.44112318351011176,0.44106649804747067,0.44107473648677825,0.44105868424779054,0.441060160771947,0.44109471495870906,0.44110997415643405,0.4411677646581838,0.4411451602311992,0.4410634926655498,0.441199236080331,0.4410477772230333,0.44104965862018447,0.44106645194752536,0.44111453231408754,0.44111686248564613,0.44108426499182707,0.4411355296314315,0.44109760086320593,0.44115010581492786,0.4412082734761511,0.44117708932328414,0.44118710593753696,0.44112784290661067,0.4413188782514955,0.44103768600141635,0.44103781754546895,0.4410946993974321,0.4410487932186023,0.441055663142369,0.4411231835101111,0.44106649804747033,0.4410747364867778,0.4410586842477902,0.4410601607719466,0.44109471495870933,0.44110997415643405,0.4411677646581834,0.4411451602311988,0.44106349266554973,0.4411992360803304,0.44104777722303296,0.4410496586201844,0.44106645194752564,0.44111453231408787,0.44111686248564663,0.44108426499182735,0.44113552963143216,0.44109760086320626,0.44115010581492803,0.4412082734761512,0.4411770893232843,0.4411871059375374,0.44112784290661095,0.44131887825149607,0.4410376860014164,0.4410378175454689,0.44109469939743223,0.4410487932186021,0.44105566314236894,0.44112318351011065,0.44106649804747006],\"yaxis\":\"y\",\"type\":\"scattergl\"}],                        {\"template\":{\"data\":{\"bar\":[{\"error_x\":{\"color\":\"#2a3f5f\"},\"error_y\":{\"color\":\"#2a3f5f\"},\"marker\":{\"line\":{\"color\":\"#E5ECF6\",\"width\":0.5},\"pattern\":{\"fillmode\":\"overlay\",\"size\":10,\"solidity\":0.2}},\"type\":\"bar\"}],\"barpolar\":[{\"marker\":{\"line\":{\"color\":\"#E5ECF6\",\"width\":0.5},\"pattern\":{\"fillmode\":\"overlay\",\"size\":10,\"solidity\":0.2}},\"type\":\"barpolar\"}],\"carpet\":[{\"aaxis\":{\"endlinecolor\":\"#2a3f5f\",\"gridcolor\":\"white\",\"linecolor\":\"white\",\"minorgridcolor\":\"white\",\"startlinecolor\":\"#2a3f5f\"},\"baxis\":{\"endlinecolor\":\"#2a3f5f\",\"gridcolor\":\"white\",\"linecolor\":\"white\",\"minorgridcolor\":\"white\",\"startlinecolor\":\"#2a3f5f\"},\"type\":\"carpet\"}],\"choropleth\":[{\"colorbar\":{\"outlinewidth\":0,\"ticks\":\"\"},\"type\":\"choropleth\"}],\"contour\":[{\"colorbar\":{\"outlinewidth\":0,\"ticks\":\"\"},\"colorscale\":[[0.0,\"#0d0887\"],[0.1111111111111111,\"#46039f\"],[0.2222222222222222,\"#7201a8\"],[0.3333333333333333,\"#9c179e\"],[0.4444444444444444,\"#bd3786\"],[0.5555555555555556,\"#d8576b\"],[0.6666666666666666,\"#ed7953\"],[0.7777777777777778,\"#fb9f3a\"],[0.8888888888888888,\"#fdca26\"],[1.0,\"#f0f921\"]],\"type\":\"contour\"}],\"contourcarpet\":[{\"colorbar\":{\"outlinewidth\":0,\"ticks\":\"\"},\"type\":\"contourcarpet\"}],\"heatmap\":[{\"colorbar\":{\"outlinewidth\":0,\"ticks\":\"\"},\"colorscale\":[[0.0,\"#0d0887\"],[0.1111111111111111,\"#46039f\"],[0.2222222222222222,\"#7201a8\"],[0.3333333333333333,\"#9c179e\"],[0.4444444444444444,\"#bd3786\"],[0.5555555555555556,\"#d8576b\"],[0.6666666666666666,\"#ed7953\"],[0.7777777777777778,\"#fb9f3a\"],[0.8888888888888888,\"#fdca26\"],[1.0,\"#f0f921\"]],\"type\":\"heatmap\"}],\"heatmapgl\":[{\"colorbar\":{\"outlinewidth\":0,\"ticks\":\"\"},\"colorscale\":[[0.0,\"#0d0887\"],[0.1111111111111111,\"#46039f\"],[0.2222222222222222,\"#7201a8\"],[0.3333333333333333,\"#9c179e\"],[0.4444444444444444,\"#bd3786\"],[0.5555555555555556,\"#d8576b\"],[0.6666666666666666,\"#ed7953\"],[0.7777777777777778,\"#fb9f3a\"],[0.8888888888888888,\"#fdca26\"],[1.0,\"#f0f921\"]],\"type\":\"heatmapgl\"}],\"histogram\":[{\"marker\":{\"pattern\":{\"fillmode\":\"overlay\",\"size\":10,\"solidity\":0.2}},\"type\":\"histogram\"}],\"histogram2d\":[{\"colorbar\":{\"outlinewidth\":0,\"ticks\":\"\"},\"colorscale\":[[0.0,\"#0d0887\"],[0.1111111111111111,\"#46039f\"],[0.2222222222222222,\"#7201a8\"],[0.3333333333333333,\"#9c179e\"],[0.4444444444444444,\"#bd3786\"],[0.5555555555555556,\"#d8576b\"],[0.6666666666666666,\"#ed7953\"],[0.7777777777777778,\"#fb9f3a\"],[0.8888888888888888,\"#fdca26\"],[1.0,\"#f0f921\"]],\"type\":\"histogram2d\"}],\"histogram2dcontour\":[{\"colorbar\":{\"outlinewidth\":0,\"ticks\":\"\"},\"colorscale\":[[0.0,\"#0d0887\"],[0.1111111111111111,\"#46039f\"],[0.2222222222222222,\"#7201a8\"],[0.3333333333333333,\"#9c179e\"],[0.4444444444444444,\"#bd3786\"],[0.5555555555555556,\"#d8576b\"],[0.6666666666666666,\"#ed7953\"],[0.7777777777777778,\"#fb9f3a\"],[0.8888888888888888,\"#fdca26\"],[1.0,\"#f0f921\"]],\"type\":\"histogram2dcontour\"}],\"mesh3d\":[{\"colorbar\":{\"outlinewidth\":0,\"ticks\":\"\"},\"type\":\"mesh3d\"}],\"parcoords\":[{\"line\":{\"colorbar\":{\"outlinewidth\":0,\"ticks\":\"\"}},\"type\":\"parcoords\"}],\"pie\":[{\"automargin\":true,\"type\":\"pie\"}],\"scatter\":[{\"marker\":{\"colorbar\":{\"outlinewidth\":0,\"ticks\":\"\"}},\"type\":\"scatter\"}],\"scatter3d\":[{\"line\":{\"colorbar\":{\"outlinewidth\":0,\"ticks\":\"\"}},\"marker\":{\"colorbar\":{\"outlinewidth\":0,\"ticks\":\"\"}},\"type\":\"scatter3d\"}],\"scattercarpet\":[{\"marker\":{\"colorbar\":{\"outlinewidth\":0,\"ticks\":\"\"}},\"type\":\"scattercarpet\"}],\"scattergeo\":[{\"marker\":{\"colorbar\":{\"outlinewidth\":0,\"ticks\":\"\"}},\"type\":\"scattergeo\"}],\"scattergl\":[{\"marker\":{\"colorbar\":{\"outlinewidth\":0,\"ticks\":\"\"}},\"type\":\"scattergl\"}],\"scattermapbox\":[{\"marker\":{\"colorbar\":{\"outlinewidth\":0,\"ticks\":\"\"}},\"type\":\"scattermapbox\"}],\"scatterpolar\":[{\"marker\":{\"colorbar\":{\"outlinewidth\":0,\"ticks\":\"\"}},\"type\":\"scatterpolar\"}],\"scatterpolargl\":[{\"marker\":{\"colorbar\":{\"outlinewidth\":0,\"ticks\":\"\"}},\"type\":\"scatterpolargl\"}],\"scatterternary\":[{\"marker\":{\"colorbar\":{\"outlinewidth\":0,\"ticks\":\"\"}},\"type\":\"scatterternary\"}],\"surface\":[{\"colorbar\":{\"outlinewidth\":0,\"ticks\":\"\"},\"colorscale\":[[0.0,\"#0d0887\"],[0.1111111111111111,\"#46039f\"],[0.2222222222222222,\"#7201a8\"],[0.3333333333333333,\"#9c179e\"],[0.4444444444444444,\"#bd3786\"],[0.5555555555555556,\"#d8576b\"],[0.6666666666666666,\"#ed7953\"],[0.7777777777777778,\"#fb9f3a\"],[0.8888888888888888,\"#fdca26\"],[1.0,\"#f0f921\"]],\"type\":\"surface\"}],\"table\":[{\"cells\":{\"fill\":{\"color\":\"#EBF0F8\"},\"line\":{\"color\":\"white\"}},\"header\":{\"fill\":{\"color\":\"#C8D4E3\"},\"line\":{\"color\":\"white\"}},\"type\":\"table\"}]},\"layout\":{\"annotationdefaults\":{\"arrowcolor\":\"#2a3f5f\",\"arrowhead\":0,\"arrowwidth\":1},\"autotypenumbers\":\"strict\",\"coloraxis\":{\"colorbar\":{\"outlinewidth\":0,\"ticks\":\"\"}},\"colorscale\":{\"diverging\":[[0,\"#8e0152\"],[0.1,\"#c51b7d\"],[0.2,\"#de77ae\"],[0.3,\"#f1b6da\"],[0.4,\"#fde0ef\"],[0.5,\"#f7f7f7\"],[0.6,\"#e6f5d0\"],[0.7,\"#b8e186\"],[0.8,\"#7fbc41\"],[0.9,\"#4d9221\"],[1,\"#276419\"]],\"sequential\":[[0.0,\"#0d0887\"],[0.1111111111111111,\"#46039f\"],[0.2222222222222222,\"#7201a8\"],[0.3333333333333333,\"#9c179e\"],[0.4444444444444444,\"#bd3786\"],[0.5555555555555556,\"#d8576b\"],[0.6666666666666666,\"#ed7953\"],[0.7777777777777778,\"#fb9f3a\"],[0.8888888888888888,\"#fdca26\"],[1.0,\"#f0f921\"]],\"sequentialminus\":[[0.0,\"#0d0887\"],[0.1111111111111111,\"#46039f\"],[0.2222222222222222,\"#7201a8\"],[0.3333333333333333,\"#9c179e\"],[0.4444444444444444,\"#bd3786\"],[0.5555555555555556,\"#d8576b\"],[0.6666666666666666,\"#ed7953\"],[0.7777777777777778,\"#fb9f3a\"],[0.8888888888888888,\"#fdca26\"],[1.0,\"#f0f921\"]]},\"colorway\":[\"#636efa\",\"#EF553B\",\"#00cc96\",\"#ab63fa\",\"#FFA15A\",\"#19d3f3\",\"#FF6692\",\"#B6E880\",\"#FF97FF\",\"#FECB52\"],\"font\":{\"color\":\"#2a3f5f\"},\"geo\":{\"bgcolor\":\"white\",\"lakecolor\":\"white\",\"landcolor\":\"#E5ECF6\",\"showlakes\":true,\"showland\":true,\"subunitcolor\":\"white\"},\"hoverlabel\":{\"align\":\"left\"},\"hovermode\":\"closest\",\"mapbox\":{\"style\":\"light\"},\"paper_bgcolor\":\"white\",\"plot_bgcolor\":\"#E5ECF6\",\"polar\":{\"angularaxis\":{\"gridcolor\":\"white\",\"linecolor\":\"white\",\"ticks\":\"\"},\"bgcolor\":\"#E5ECF6\",\"radialaxis\":{\"gridcolor\":\"white\",\"linecolor\":\"white\",\"ticks\":\"\"}},\"scene\":{\"xaxis\":{\"backgroundcolor\":\"#E5ECF6\",\"gridcolor\":\"white\",\"gridwidth\":2,\"linecolor\":\"white\",\"showbackground\":true,\"ticks\":\"\",\"zerolinecolor\":\"white\"},\"yaxis\":{\"backgroundcolor\":\"#E5ECF6\",\"gridcolor\":\"white\",\"gridwidth\":2,\"linecolor\":\"white\",\"showbackground\":true,\"ticks\":\"\",\"zerolinecolor\":\"white\"},\"zaxis\":{\"backgroundcolor\":\"#E5ECF6\",\"gridcolor\":\"white\",\"gridwidth\":2,\"linecolor\":\"white\",\"showbackground\":true,\"ticks\":\"\",\"zerolinecolor\":\"white\"}},\"shapedefaults\":{\"line\":{\"color\":\"#2a3f5f\"}},\"ternary\":{\"aaxis\":{\"gridcolor\":\"white\",\"linecolor\":\"white\",\"ticks\":\"\"},\"baxis\":{\"gridcolor\":\"white\",\"linecolor\":\"white\",\"ticks\":\"\"},\"bgcolor\":\"#E5ECF6\",\"caxis\":{\"gridcolor\":\"white\",\"linecolor\":\"white\",\"ticks\":\"\"}},\"title\":{\"x\":0.05},\"xaxis\":{\"automargin\":true,\"gridcolor\":\"white\",\"linecolor\":\"white\",\"ticks\":\"\",\"title\":{\"standoff\":15},\"zerolinecolor\":\"white\",\"zerolinewidth\":2},\"yaxis\":{\"automargin\":true,\"gridcolor\":\"white\",\"linecolor\":\"white\",\"ticks\":\"\",\"title\":{\"standoff\":15},\"zerolinecolor\":\"white\",\"zerolinewidth\":2}}},\"xaxis\":{\"anchor\":\"y\",\"domain\":[0.0,1.0],\"title\":{\"text\":\"steps\"}},\"yaxis\":{\"anchor\":\"x\",\"domain\":[0.0,1.0],\"title\":{\"text\":\"RMSE\"}},\"legend\":{\"tracegroupgap\":0},\"title\":{\"text\":\"RMSE Curve\"}},                        {\"responsive\": true}                    ).then(function(){\n",
              "                            \n",
              "var gd = document.getElementById('f2630d0f-25d7-451c-80d6-ab3eb742eed9');\n",
              "var x = new MutationObserver(function (mutations, observer) {{\n",
              "        var display = window.getComputedStyle(gd).display;\n",
              "        if (!display || display === 'none') {{\n",
              "            console.log([gd, 'removed!']);\n",
              "            Plotly.purge(gd);\n",
              "            observer.disconnect();\n",
              "        }}\n",
              "}});\n",
              "\n",
              "// Listen for the removal of the full notebook cells\n",
              "var notebookContainer = gd.closest('#notebook-container');\n",
              "if (notebookContainer) {{\n",
              "    x.observe(notebookContainer, {childList: true});\n",
              "}}\n",
              "\n",
              "// Listen for the clearing of the current output cell\n",
              "var outputEl = gd.closest('.output');\n",
              "if (outputEl) {{\n",
              "    x.observe(outputEl, {childList: true});\n",
              "}}\n",
              "\n",
              "                        })                };                            </script>        </div>\n",
              "</body>\n",
              "</html>"
            ]
          },
          "metadata": {}
        }
      ]
    },
    {
      "cell_type": "code",
      "source": [
        "show_final_result(history_gde)\n"
      ],
      "metadata": {
        "colab": {
          "base_uri": "https://localhost:8080/",
          "height": 542
        },
        "id": "v39uD-PJccdA",
        "outputId": "645faa04-7369-40ec-94fa-468496744cf5"
      },
      "execution_count": 33,
      "outputs": [
        {
          "output_type": "display_data",
          "data": {
            "text/html": [
              "<html>\n",
              "<head><meta charset=\"utf-8\" /></head>\n",
              "<body>\n",
              "    <div>            <script src=\"https://cdnjs.cloudflare.com/ajax/libs/mathjax/2.7.5/MathJax.js?config=TeX-AMS-MML_SVG\"></script><script type=\"text/javascript\">if (window.MathJax) {MathJax.Hub.Config({SVG: {font: \"STIX-Web\"}});}</script>                <script type=\"text/javascript\">window.PlotlyConfig = {MathJaxConfig: 'local'};</script>\n",
              "        <script src=\"https://cdn.plot.ly/plotly-2.8.3.min.js\"></script>                <div id=\"06227c9d-11bb-4688-b2a4-e05c6e843bd6\" class=\"plotly-graph-div\" style=\"height:525px; width:100%;\"></div>            <script type=\"text/javascript\">                                    window.PLOTLYENV=window.PLOTLYENV || {};                                    if (document.getElementById(\"06227c9d-11bb-4688-b2a4-e05c6e843bd6\")) {                    Plotly.newPlot(                        \"06227c9d-11bb-4688-b2a4-e05c6e843bd6\",                        [{\"hovertemplate\":\"x=%{x}<br>y=%{y}<extra></extra>\",\"legendgroup\":\"\",\"marker\":{\"color\":\"#636efa\",\"symbol\":\"circle\"},\"mode\":\"markers\",\"name\":\"\",\"orientation\":\"v\",\"showlegend\":false,\"x\":[-1.0,-0.9310344827586207,-0.8620689655172413,-0.7931034482758622,-0.7241379310344828,-0.6551724137931033,-0.5862068965517242,-0.5172413793103449,-0.4482758620689655,-0.3793103448275862,-0.31034482758620685,-0.2413793103448276,-0.1724137931034483,-0.10344827586206896,-0.034482758620689724,0.034482758620689724,0.10344827586206896,0.17241379310344815,0.2413793103448276,0.31034482758620685,0.3793103448275863,0.4482758620689655,0.5172413793103448,0.5862068965517242,0.6551724137931033,0.7241379310344825,0.7931034482758622,0.8620689655172413,0.9310344827586204,1.0],\"xaxis\":\"x\",\"y\":[-2.082017257233804,-1.3269802313838444,-1.1055977240262973,-0.8739457591687142,-0.28502695034535014,-0.43115252423091927,-0.7947540211451277,-0.8860680579535984,-0.8998997770490548,-0.86184365356424,-0.8880518330525755,-1.235951293792927,-0.7195682680177883,-0.45202285990396573,0.09889950915124585,0.34896972600016185,0.09747797375894944,0.7001980872761617,1.310512133875448,1.001775757402062,1.0031823117371639,1.1491012926538826,1.59220607240579,0.6090900916227516,0.5944162302173639,0.7030073199805744,0.8233224106817185,1.1064643946450328,1.42295695455042,2.309837684059688],\"yaxis\":\"y\",\"type\":\"scatter\"},{\"x\":[-1.0,-0.9310344827586207,-0.8620689655172413,-0.7931034482758622,-0.7241379310344828,-0.6551724137931033,-0.5862068965517242,-0.5172413793103449,-0.4482758620689655,-0.3793103448275862,-0.31034482758620685,-0.2413793103448276,-0.1724137931034483,-0.10344827586206896,-0.034482758620689724,0.034482758620689724,0.10344827586206896,0.17241379310344815,0.2413793103448276,0.31034482758620685,0.3793103448275863,0.4482758620689655,0.5172413793103448,0.5862068965517242,0.6551724137931033,0.7241379310344825,0.7931034482758622,0.8620689655172413,0.9310344827586204,1.0],\"y\":[-1.5090471652040631,-1.3999815472915123,-1.2909159293789618,-1.1818503114664114,-1.072784693553861,-0.9637190756413102,-0.85465345772876,-0.7455878398162095,-0.6365222219036587,-0.5274566039911082,-0.4183909860785576,-0.3093253681660073,-0.20025975025345677,-0.09119413234090619,0.017871485571644218,0.12693710348419496,0.23600272139674539,0.3450683393092957,0.45413395722184635,0.5631995751343969,0.6722651930469477,0.781330810959498,0.8903964288720482,0.999462046784599,1.1085276646971494,1.2175932826096998,1.3266589005222507,1.435724518434801,1.5447901363473513,1.6538557542599022],\"type\":\"scatter\"}],                        {\"template\":{\"data\":{\"bar\":[{\"error_x\":{\"color\":\"#2a3f5f\"},\"error_y\":{\"color\":\"#2a3f5f\"},\"marker\":{\"line\":{\"color\":\"#E5ECF6\",\"width\":0.5},\"pattern\":{\"fillmode\":\"overlay\",\"size\":10,\"solidity\":0.2}},\"type\":\"bar\"}],\"barpolar\":[{\"marker\":{\"line\":{\"color\":\"#E5ECF6\",\"width\":0.5},\"pattern\":{\"fillmode\":\"overlay\",\"size\":10,\"solidity\":0.2}},\"type\":\"barpolar\"}],\"carpet\":[{\"aaxis\":{\"endlinecolor\":\"#2a3f5f\",\"gridcolor\":\"white\",\"linecolor\":\"white\",\"minorgridcolor\":\"white\",\"startlinecolor\":\"#2a3f5f\"},\"baxis\":{\"endlinecolor\":\"#2a3f5f\",\"gridcolor\":\"white\",\"linecolor\":\"white\",\"minorgridcolor\":\"white\",\"startlinecolor\":\"#2a3f5f\"},\"type\":\"carpet\"}],\"choropleth\":[{\"colorbar\":{\"outlinewidth\":0,\"ticks\":\"\"},\"type\":\"choropleth\"}],\"contour\":[{\"colorbar\":{\"outlinewidth\":0,\"ticks\":\"\"},\"colorscale\":[[0.0,\"#0d0887\"],[0.1111111111111111,\"#46039f\"],[0.2222222222222222,\"#7201a8\"],[0.3333333333333333,\"#9c179e\"],[0.4444444444444444,\"#bd3786\"],[0.5555555555555556,\"#d8576b\"],[0.6666666666666666,\"#ed7953\"],[0.7777777777777778,\"#fb9f3a\"],[0.8888888888888888,\"#fdca26\"],[1.0,\"#f0f921\"]],\"type\":\"contour\"}],\"contourcarpet\":[{\"colorbar\":{\"outlinewidth\":0,\"ticks\":\"\"},\"type\":\"contourcarpet\"}],\"heatmap\":[{\"colorbar\":{\"outlinewidth\":0,\"ticks\":\"\"},\"colorscale\":[[0.0,\"#0d0887\"],[0.1111111111111111,\"#46039f\"],[0.2222222222222222,\"#7201a8\"],[0.3333333333333333,\"#9c179e\"],[0.4444444444444444,\"#bd3786\"],[0.5555555555555556,\"#d8576b\"],[0.6666666666666666,\"#ed7953\"],[0.7777777777777778,\"#fb9f3a\"],[0.8888888888888888,\"#fdca26\"],[1.0,\"#f0f921\"]],\"type\":\"heatmap\"}],\"heatmapgl\":[{\"colorbar\":{\"outlinewidth\":0,\"ticks\":\"\"},\"colorscale\":[[0.0,\"#0d0887\"],[0.1111111111111111,\"#46039f\"],[0.2222222222222222,\"#7201a8\"],[0.3333333333333333,\"#9c179e\"],[0.4444444444444444,\"#bd3786\"],[0.5555555555555556,\"#d8576b\"],[0.6666666666666666,\"#ed7953\"],[0.7777777777777778,\"#fb9f3a\"],[0.8888888888888888,\"#fdca26\"],[1.0,\"#f0f921\"]],\"type\":\"heatmapgl\"}],\"histogram\":[{\"marker\":{\"pattern\":{\"fillmode\":\"overlay\",\"size\":10,\"solidity\":0.2}},\"type\":\"histogram\"}],\"histogram2d\":[{\"colorbar\":{\"outlinewidth\":0,\"ticks\":\"\"},\"colorscale\":[[0.0,\"#0d0887\"],[0.1111111111111111,\"#46039f\"],[0.2222222222222222,\"#7201a8\"],[0.3333333333333333,\"#9c179e\"],[0.4444444444444444,\"#bd3786\"],[0.5555555555555556,\"#d8576b\"],[0.6666666666666666,\"#ed7953\"],[0.7777777777777778,\"#fb9f3a\"],[0.8888888888888888,\"#fdca26\"],[1.0,\"#f0f921\"]],\"type\":\"histogram2d\"}],\"histogram2dcontour\":[{\"colorbar\":{\"outlinewidth\":0,\"ticks\":\"\"},\"colorscale\":[[0.0,\"#0d0887\"],[0.1111111111111111,\"#46039f\"],[0.2222222222222222,\"#7201a8\"],[0.3333333333333333,\"#9c179e\"],[0.4444444444444444,\"#bd3786\"],[0.5555555555555556,\"#d8576b\"],[0.6666666666666666,\"#ed7953\"],[0.7777777777777778,\"#fb9f3a\"],[0.8888888888888888,\"#fdca26\"],[1.0,\"#f0f921\"]],\"type\":\"histogram2dcontour\"}],\"mesh3d\":[{\"colorbar\":{\"outlinewidth\":0,\"ticks\":\"\"},\"type\":\"mesh3d\"}],\"parcoords\":[{\"line\":{\"colorbar\":{\"outlinewidth\":0,\"ticks\":\"\"}},\"type\":\"parcoords\"}],\"pie\":[{\"automargin\":true,\"type\":\"pie\"}],\"scatter\":[{\"marker\":{\"colorbar\":{\"outlinewidth\":0,\"ticks\":\"\"}},\"type\":\"scatter\"}],\"scatter3d\":[{\"line\":{\"colorbar\":{\"outlinewidth\":0,\"ticks\":\"\"}},\"marker\":{\"colorbar\":{\"outlinewidth\":0,\"ticks\":\"\"}},\"type\":\"scatter3d\"}],\"scattercarpet\":[{\"marker\":{\"colorbar\":{\"outlinewidth\":0,\"ticks\":\"\"}},\"type\":\"scattercarpet\"}],\"scattergeo\":[{\"marker\":{\"colorbar\":{\"outlinewidth\":0,\"ticks\":\"\"}},\"type\":\"scattergeo\"}],\"scattergl\":[{\"marker\":{\"colorbar\":{\"outlinewidth\":0,\"ticks\":\"\"}},\"type\":\"scattergl\"}],\"scattermapbox\":[{\"marker\":{\"colorbar\":{\"outlinewidth\":0,\"ticks\":\"\"}},\"type\":\"scattermapbox\"}],\"scatterpolar\":[{\"marker\":{\"colorbar\":{\"outlinewidth\":0,\"ticks\":\"\"}},\"type\":\"scatterpolar\"}],\"scatterpolargl\":[{\"marker\":{\"colorbar\":{\"outlinewidth\":0,\"ticks\":\"\"}},\"type\":\"scatterpolargl\"}],\"scatterternary\":[{\"marker\":{\"colorbar\":{\"outlinewidth\":0,\"ticks\":\"\"}},\"type\":\"scatterternary\"}],\"surface\":[{\"colorbar\":{\"outlinewidth\":0,\"ticks\":\"\"},\"colorscale\":[[0.0,\"#0d0887\"],[0.1111111111111111,\"#46039f\"],[0.2222222222222222,\"#7201a8\"],[0.3333333333333333,\"#9c179e\"],[0.4444444444444444,\"#bd3786\"],[0.5555555555555556,\"#d8576b\"],[0.6666666666666666,\"#ed7953\"],[0.7777777777777778,\"#fb9f3a\"],[0.8888888888888888,\"#fdca26\"],[1.0,\"#f0f921\"]],\"type\":\"surface\"}],\"table\":[{\"cells\":{\"fill\":{\"color\":\"#EBF0F8\"},\"line\":{\"color\":\"white\"}},\"header\":{\"fill\":{\"color\":\"#C8D4E3\"},\"line\":{\"color\":\"white\"}},\"type\":\"table\"}]},\"layout\":{\"annotationdefaults\":{\"arrowcolor\":\"#2a3f5f\",\"arrowhead\":0,\"arrowwidth\":1},\"autotypenumbers\":\"strict\",\"coloraxis\":{\"colorbar\":{\"outlinewidth\":0,\"ticks\":\"\"}},\"colorscale\":{\"diverging\":[[0,\"#8e0152\"],[0.1,\"#c51b7d\"],[0.2,\"#de77ae\"],[0.3,\"#f1b6da\"],[0.4,\"#fde0ef\"],[0.5,\"#f7f7f7\"],[0.6,\"#e6f5d0\"],[0.7,\"#b8e186\"],[0.8,\"#7fbc41\"],[0.9,\"#4d9221\"],[1,\"#276419\"]],\"sequential\":[[0.0,\"#0d0887\"],[0.1111111111111111,\"#46039f\"],[0.2222222222222222,\"#7201a8\"],[0.3333333333333333,\"#9c179e\"],[0.4444444444444444,\"#bd3786\"],[0.5555555555555556,\"#d8576b\"],[0.6666666666666666,\"#ed7953\"],[0.7777777777777778,\"#fb9f3a\"],[0.8888888888888888,\"#fdca26\"],[1.0,\"#f0f921\"]],\"sequentialminus\":[[0.0,\"#0d0887\"],[0.1111111111111111,\"#46039f\"],[0.2222222222222222,\"#7201a8\"],[0.3333333333333333,\"#9c179e\"],[0.4444444444444444,\"#bd3786\"],[0.5555555555555556,\"#d8576b\"],[0.6666666666666666,\"#ed7953\"],[0.7777777777777778,\"#fb9f3a\"],[0.8888888888888888,\"#fdca26\"],[1.0,\"#f0f921\"]]},\"colorway\":[\"#636efa\",\"#EF553B\",\"#00cc96\",\"#ab63fa\",\"#FFA15A\",\"#19d3f3\",\"#FF6692\",\"#B6E880\",\"#FF97FF\",\"#FECB52\"],\"font\":{\"color\":\"#2a3f5f\"},\"geo\":{\"bgcolor\":\"white\",\"lakecolor\":\"white\",\"landcolor\":\"#E5ECF6\",\"showlakes\":true,\"showland\":true,\"subunitcolor\":\"white\"},\"hoverlabel\":{\"align\":\"left\"},\"hovermode\":\"closest\",\"mapbox\":{\"style\":\"light\"},\"paper_bgcolor\":\"white\",\"plot_bgcolor\":\"#E5ECF6\",\"polar\":{\"angularaxis\":{\"gridcolor\":\"white\",\"linecolor\":\"white\",\"ticks\":\"\"},\"bgcolor\":\"#E5ECF6\",\"radialaxis\":{\"gridcolor\":\"white\",\"linecolor\":\"white\",\"ticks\":\"\"}},\"scene\":{\"xaxis\":{\"backgroundcolor\":\"#E5ECF6\",\"gridcolor\":\"white\",\"gridwidth\":2,\"linecolor\":\"white\",\"showbackground\":true,\"ticks\":\"\",\"zerolinecolor\":\"white\"},\"yaxis\":{\"backgroundcolor\":\"#E5ECF6\",\"gridcolor\":\"white\",\"gridwidth\":2,\"linecolor\":\"white\",\"showbackground\":true,\"ticks\":\"\",\"zerolinecolor\":\"white\"},\"zaxis\":{\"backgroundcolor\":\"#E5ECF6\",\"gridcolor\":\"white\",\"gridwidth\":2,\"linecolor\":\"white\",\"showbackground\":true,\"ticks\":\"\",\"zerolinecolor\":\"white\"}},\"shapedefaults\":{\"line\":{\"color\":\"#2a3f5f\"}},\"ternary\":{\"aaxis\":{\"gridcolor\":\"white\",\"linecolor\":\"white\",\"ticks\":\"\"},\"baxis\":{\"gridcolor\":\"white\",\"linecolor\":\"white\",\"ticks\":\"\"},\"bgcolor\":\"#E5ECF6\",\"caxis\":{\"gridcolor\":\"white\",\"linecolor\":\"white\",\"ticks\":\"\"}},\"title\":{\"x\":0.05},\"xaxis\":{\"automargin\":true,\"gridcolor\":\"white\",\"linecolor\":\"white\",\"ticks\":\"\",\"title\":{\"standoff\":15},\"zerolinecolor\":\"white\",\"zerolinewidth\":2},\"yaxis\":{\"automargin\":true,\"gridcolor\":\"white\",\"linecolor\":\"white\",\"ticks\":\"\",\"title\":{\"standoff\":15},\"zerolinecolor\":\"white\",\"zerolinewidth\":2}}},\"xaxis\":{\"anchor\":\"y\",\"domain\":[0.0,1.0],\"title\":{\"text\":\"x\"}},\"yaxis\":{\"anchor\":\"x\",\"domain\":[0.0,1.0],\"title\":{\"text\":\"y\"}},\"legend\":{\"tracegroupgap\":0},\"title\":{\"text\":\"Model Result\"}},                        {\"responsive\": true}                    ).then(function(){\n",
              "                            \n",
              "var gd = document.getElementById('06227c9d-11bb-4688-b2a4-e05c6e843bd6');\n",
              "var x = new MutationObserver(function (mutations, observer) {{\n",
              "        var display = window.getComputedStyle(gd).display;\n",
              "        if (!display || display === 'none') {{\n",
              "            console.log([gd, 'removed!']);\n",
              "            Plotly.purge(gd);\n",
              "            observer.disconnect();\n",
              "        }}\n",
              "}});\n",
              "\n",
              "// Listen for the removal of the full notebook cells\n",
              "var notebookContainer = gd.closest('#notebook-container');\n",
              "if (notebookContainer) {{\n",
              "    x.observe(notebookContainer, {childList: true});\n",
              "}}\n",
              "\n",
              "// Listen for the clearing of the current output cell\n",
              "var outputEl = gd.closest('.output');\n",
              "if (outputEl) {{\n",
              "    x.observe(outputEl, {childList: true});\n",
              "}}\n",
              "\n",
              "                        })                };                            </script>        </div>\n",
              "</body>\n",
              "</html>"
            ]
          },
          "metadata": {}
        }
      ]
    },
    {
      "cell_type": "markdown",
      "source": [
        "## **Regressão Polinomial**"
      ],
      "metadata": {
        "id": "xLsVtuXx8cbb"
      }
    },
    {
      "cell_type": "code",
      "source": [
        "def generate_polynomial_order(dfx: np.ndarray, order: int, with_bias=False):\n",
        "\n",
        "        if with_bias: x = add_onescolumn(dfx)\n",
        "        pow_arrays = [x[:, c] ** i for c in range(1, x.shape[1]) for i in range(2, order)]\n",
        "        return np.column_stack([x, *pow_arrays])"
      ],
      "metadata": {
        "id": "lhwWi0rU6wWy"
      },
      "execution_count": null,
      "outputs": []
    },
    {
      "cell_type": "code",
      "source": [
        "X_pow = generate_polynomial_order(X_ones, 11)"
      ],
      "metadata": {
        "id": "bfquWZYD7qLl"
      },
      "execution_count": null,
      "outputs": []
    },
    {
      "cell_type": "code",
      "source": [
        "model_p_ols = ols.fit(X_pow, y)"
      ],
      "metadata": {
        "id": "EdMq3ECd7-26"
      },
      "execution_count": null,
      "outputs": []
    },
    {
      "cell_type": "code",
      "source": [
        "show_final_result(model_p_ols, test_matrix=X_pow)\n"
      ],
      "metadata": {
        "id": "KKCeEjlL8AbD"
      },
      "execution_count": null,
      "outputs": []
    },
    {
      "cell_type": "markdown",
      "source": [
        "## **Questao 2**"
      ],
      "metadata": {
        "id": "gQ2E3pal8-HL"
      }
    },
    {
      "cell_type": "code",
      "source": [
        "df_p = pd.read_csv('/content/drive/MyDrive/Data/california.csv', header=None)"
      ],
      "metadata": {
        "id": "1PKP2Dxi9BOL"
      },
      "execution_count": null,
      "outputs": []
    },
    {
      "cell_type": "markdown",
      "source": [
        "## **Preparando dados**"
      ],
      "metadata": {
        "id": "5-nkduEWBhdi"
      }
    },
    {
      "cell_type": "code",
      "source": [
        "arr = df_p.to_numpy()"
      ],
      "metadata": {
        "id": "q73fFH2F9dZ4"
      },
      "execution_count": null,
      "outputs": []
    },
    {
      "cell_type": "code",
      "source": [
        "X_p = arr[:, :8]"
      ],
      "metadata": {
        "id": "97tQ9_N59leL"
      },
      "execution_count": null,
      "outputs": []
    },
    {
      "cell_type": "code",
      "source": [
        "y_p = reshape_vector(arr[:, 8])"
      ],
      "metadata": {
        "id": "FR2O4EAZ9okD"
      },
      "execution_count": null,
      "outputs": []
    },
    {
      "cell_type": "markdown",
      "source": [
        "## **Normalizando**"
      ],
      "metadata": {
        "id": "z8wPdZxrBclh"
      }
    },
    {
      "cell_type": "code",
      "source": [
        "X_norm = np.empty_like(X_p)\n",
        "\n",
        "for idx, col in enumerate(X_p.T):\n",
        "    norm, _= z_score(col)\n",
        "    X_norm[:, idx] = norm"
      ],
      "metadata": {
        "id": "pE3JJ3WO9zuT"
      },
      "execution_count": null,
      "outputs": []
    },
    {
      "cell_type": "code",
      "source": [
        "y_norm, denormalized_y_p = z_score(y_p)"
      ],
      "metadata": {
        "id": "22JwLF3N98Gd"
      },
      "execution_count": null,
      "outputs": []
    },
    {
      "cell_type": "markdown",
      "source": [
        "## **Testando**"
      ],
      "metadata": {
        "id": "HYuaL6CoBpxI"
      }
    },
    {
      "cell_type": "code",
      "source": [
        "def my_greate_test(max_order, l2_reg=0):\n",
        "    \n",
        "    orders = [i for i in range(1, max_order)]\n",
        "    ols = OrdinaryLeastSquares(l2_regulazation=l2_reg)\n",
        "    rmse_erros_train = []\n",
        "    rmse_erros_test = []\n",
        "    \n",
        "    X_trn, X_tst, y_trn, y_tst = train_test_split(X_norm, y_norm, test_size=0.2, random_state=42)\n",
        "    \n",
        "    for order in orders:\n",
        "        \n",
        "        X_train_pow = generate_polynomial_order(X_trn, order, with_bias=True)\n",
        "        X_tst_pow = generate_polynomial_order(X_tst, order, with_bias=True)\n",
        "        \n",
        "        model = ols.fit(X_train_pow, y_trn)\n",
        "        \n",
        "        preds_train = model.predict(X_train_pow)\n",
        "        preds_test = model.predict(X_tst_pow)\n",
        "        \n",
        "        rmse_erros_train.append(rmse(\n",
        "        denormalized_y_p(y_trn),\n",
        "        denormalized_y_p(preds_train)\n",
        "        ))\n",
        "        \n",
        "        rmse_erros_test.append(rmse(\n",
        "        denormalized_y_p(y_tst),\n",
        "        denormalized_y_p(preds_test)\n",
        "        ))\n",
        "    \n",
        "    \n",
        "    plots = [\n",
        "        go.Scatter(x=orders, y=rmse_erros_train, name='Train RMSE'),\n",
        "        go.Scatter(x=orders, y=rmse_erros_test, name='Test RMSE')\n",
        "    ]\n",
        "        \n",
        "    fig = go.Figure(data=plots)\n",
        "\n",
        "    return fig\n",
        "        "
      ],
      "metadata": {
        "id": "NFlwKnhB-QsW"
      },
      "execution_count": null,
      "outputs": []
    },
    {
      "cell_type": "code",
      "source": [
        "fig = my_greate_test(11)"
      ],
      "metadata": {
        "id": "Q36TM7ZQ-Xy1"
      },
      "execution_count": null,
      "outputs": []
    },
    {
      "cell_type": "code",
      "source": [
        "fig"
      ],
      "metadata": {
        "id": "tOfZptjr-aaf"
      },
      "execution_count": null,
      "outputs": []
    },
    {
      "cell_type": "code",
      "source": [
        "fig = my_greate_test(11, l2_reg=0.001)"
      ],
      "metadata": {
        "id": "inZaa8D6-a9q"
      },
      "execution_count": null,
      "outputs": []
    },
    {
      "cell_type": "code",
      "source": [
        "fig"
      ],
      "metadata": {
        "id": "zL6pk5jDAcq2"
      },
      "execution_count": null,
      "outputs": []
    }
  ]
}